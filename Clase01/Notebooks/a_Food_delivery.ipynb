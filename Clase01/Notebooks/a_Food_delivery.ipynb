{
  "cells": [
    {
      "cell_type": "markdown",
      "metadata": {
        "colab_type": "text",
        "id": "view-in-github"
      },
      "source": [
        "<a href=\"https://colab.research.google.com/github/jdmartinev/MachineLearning/blob/main/Clase01/Notebooks/a_Food_delivery.ipynb\" target=\"_parent\"><img src=\"https://colab.research.google.com/assets/colab-badge.svg\" alt=\"Open In Colab\"/></a>\n"
      ]
    },
    {
      "cell_type": "markdown",
      "metadata": {
        "id": "W75VTHEryRKM"
      },
      "source": [
        "# John's food delivery\n",
        "\n",
        "En este notebook, construiremos un clasificador de $k$ vecinos más cercanos para predecir el si las entregan llegarán a tiempo.\n",
        "\n",
        "1. <a href=\"#1\">Base de datos</a>\n",
        "2. <a href=\"#2\">Selección de características para entrenar el modelo</a>\n",
        "3. <a href=\"#3\">Entrenamiento del clasificador</a> ([**$K$ Nearest Neighbors Classifier**](https://scikit-learn.org/stable/modules/generated/sklearn.neighbors.KNeighborsClassifier.html))\n",
        "4. <a href=\"#4\">Uso del clasificador entrenado para predecir</a>\n",
        "5. <a href=\"#5\">Evaluación del modelo</a>\n",
        "6. <a href=\"#6\">Conjuntos de entrenamiento y prueba</a>\n",
        "7. <a href=\"#7\">Sobre-entrenamiento</a>\n"
      ]
    },
    {
      "cell_type": "markdown",
      "metadata": {
        "id": "MY1T_LNuy1Id"
      },
      "source": [
        "## 1. <a name=\"1\">Base de datos</a>\n",
        "\n",
        "Para este ejercicio, vamos a crear la base de datos\n"
      ]
    },
    {
      "cell_type": "code",
      "execution_count": null,
      "metadata": {
        "id": "Pk3PalLeyBD6"
      },
      "outputs": [],
      "source": [
        "import numpy as np"
      ]
    },
    {
      "cell_type": "code",
      "execution_count": null,
      "metadata": {
        "colab": {
          "base_uri": "https://localhost:8080/"
        },
        "id": "Uq4TXxZDzIVl",
        "outputId": "a36c7b8c-a344-4505-84a9-39302faf21e1"
      },
      "outputs": [
        {
          "name": "stdout",
          "output_type": "stream",
          "text": [
            "[[0.   1.   5.   1.   0.  ]\n",
            " [1.   0.   7.   0.   1.  ]\n",
            " [0.   1.   2.   1.   0.  ]\n",
            " [1.   1.   4.2  1.   0.  ]\n",
            " [0.   0.   7.8  0.   1.  ]\n",
            " [1.   0.   3.9  1.   0.  ]\n",
            " [0.   1.   4.   1.   0.  ]\n",
            " [1.   1.   2.   0.   0.  ]\n",
            " [0.   0.   3.5  0.   1.  ]\n",
            " [1.   0.   2.6  1.   0.  ]\n",
            " [0.   0.   4.1  0.   1.  ]\n",
            " [0.   1.   1.5  0.   1.  ]\n",
            " [1.   1.   1.75 1.   0.  ]\n",
            " [1.   0.   1.3  0.   0.  ]\n",
            " [1.   1.   2.1  0.   0.  ]\n",
            " [1.   1.   0.2  1.   0.  ]\n",
            " [1.   1.   5.2  0.   1.  ]\n",
            " [0.   1.   2.   1.   0.  ]\n",
            " [1.   0.   5.5  0.   1.  ]\n",
            " [0.   0.   2.   1.   0.  ]\n",
            " [1.   1.   1.7  0.   0.  ]\n",
            " [0.   1.   3.   1.   1.  ]\n",
            " [1.   1.   1.9  1.   0.  ]\n",
            " [0.   1.   3.1  0.   1.  ]\n",
            " [0.   1.   2.3  0.   0.  ]\n",
            " [0.   0.   1.1  1.   0.  ]\n",
            " [1.   1.   2.5  1.   1.  ]\n",
            " [1.   1.   5.   0.   1.  ]\n",
            " [1.   0.   7.5  1.   1.  ]\n",
            " [0.   0.   0.5  1.   0.  ]\n",
            " [0.   0.   1.5  1.   0.  ]\n",
            " [1.   0.   3.2  1.   0.  ]\n",
            " [0.   0.   2.15 1.   0.  ]\n",
            " [1.   1.   4.2  0.   1.  ]\n",
            " [1.   0.   6.5  0.   1.  ]\n",
            " [1.   0.   0.5  0.   0.  ]\n",
            " [0.   0.   3.5  0.   1.  ]\n",
            " [0.   0.   1.75 0.   0.  ]\n",
            " [1.   1.   5.   0.   1.  ]\n",
            " [0.   0.   2.   1.   0.  ]\n",
            " [0.   1.   1.3  1.   1.  ]\n",
            " [0.   1.   0.2  0.   0.  ]\n",
            " [1.   1.   2.2  0.   0.  ]\n",
            " [0.   1.   1.2  1.   0.  ]\n",
            " [1.   1.   4.2  0.   1.  ]]\n"
          ]
        }
      ],
      "source": [
        "data = np.array(\n",
        "    [\n",
        "        [0, 1, 5, 1, 0],  # record of John's 1st food delivery\n",
        "        [1, 0, 7, 0, 1],  # record of John's 2nd food delivery\n",
        "        [0, 1, 2, 1, 0],  # record of John's 3rd food delivery\n",
        "        [1, 1, 4.2, 1, 0],  # record of John's 4th food delivery\n",
        "        [0, 0, 7.8, 0, 1],  # ...\n",
        "        [1, 0, 3.9, 1, 0],\n",
        "        [0, 1, 4, 1, 0],\n",
        "        [1, 1, 2, 0, 0],\n",
        "        [0, 0, 3.5, 0, 1],\n",
        "        [1, 0, 2.6, 1, 0],\n",
        "        [0, 0, 4.1, 0, 1],\n",
        "        [0, 1, 1.5, 0, 1],\n",
        "        [1, 1, 1.75, 1, 0],\n",
        "        [1, 0, 1.3, 0, 0],\n",
        "        [1, 1, 2.1, 0, 0],\n",
        "        [1, 1, 0.2, 1, 0],\n",
        "        [1, 1, 5.2, 0, 1],\n",
        "        [0, 1, 2, 1, 0],\n",
        "        [1, 0, 5.5, 0, 1],\n",
        "        [0, 0, 2, 1, 0],\n",
        "        [1, 1, 1.7, 0, 0],\n",
        "        [0, 1, 3, 1, 1],\n",
        "        [1, 1, 1.9, 1, 0],\n",
        "        [0, 1, 3.1, 0, 1],\n",
        "        [0, 1, 2.3, 0, 0],\n",
        "        [0, 0, 1.1, 1, 0],\n",
        "        [1, 1, 2.5, 1, 1],\n",
        "        [1, 1, 5, 0, 1],\n",
        "        [1, 0, 7.5, 1, 1],\n",
        "        [0, 0, 0.5, 1, 0],\n",
        "        [0, 0, 1.5, 1, 0],\n",
        "        [1, 0, 3.2, 1, 0],\n",
        "        [0, 0, 2.15, 1, 0],\n",
        "        [1, 1, 4.2, 0, 1],\n",
        "        [1, 0, 6.5, 0, 1],\n",
        "        [1, 0, 0.5, 0, 0],\n",
        "        [0, 0, 3.5, 0, 1],\n",
        "        [0, 0, 1.75, 0, 0],\n",
        "        [1, 1, 5, 0, 1],\n",
        "        [0, 0, 2, 1, 0],\n",
        "        [0, 1, 1.3, 1, 1],\n",
        "        [0, 1, 0.2, 0, 0],\n",
        "        [1, 1, 2.2, 0, 0],\n",
        "        [0, 1, 1.2, 1, 0],\n",
        "        [1, 1, 4.2, 0, 1],\n",
        "    ]\n",
        ")\n",
        "\n",
        "print(data)"
      ]
    },
    {
      "cell_type": "markdown",
      "metadata": {
        "id": "0Do0tr4_zL92"
      },
      "source": [
        "Se convierten los datos a un `dataframe` de `pandas`\n"
      ]
    },
    {
      "cell_type": "code",
      "execution_count": null,
      "metadata": {
        "id": "rSpl1baqzTRJ"
      },
      "outputs": [],
      "source": [
        "import pandas as pd"
      ]
    },
    {
      "cell_type": "code",
      "execution_count": null,
      "metadata": {
        "id": "Us3t7pnezSXn"
      },
      "outputs": [],
      "source": [
        "# Crear el dataframe con estos datos, dando nombre a las columnas\n",
        "delivery_data = pd.DataFrame(\n",
        "    data,\n",
        "    columns=[\"bad_weather\", \"is_rush_hour\", \"mile_distance\", \"urban_address\", \"late\"],\n",
        ")"
      ]
    },
    {
      "cell_type": "code",
      "execution_count": null,
      "metadata": {
        "colab": {
          "base_uri": "https://localhost:8080/",
          "height": 206
        },
        "id": "s2XVX_BBzd4E",
        "outputId": "f57e5741-50af-413e-ba5e-ac9e205aaa20"
      },
      "outputs": [
        {
          "data": {
            "text/html": [
              "\n",
              "\n",
              "  <div id=\"df-63ab5b83-988b-4b19-968c-6901784eefac\">\n",
              "    <div class=\"colab-df-container\">\n",
              "      <div>\n",
              "<style scoped>\n",
              "    .dataframe tbody tr th:only-of-type {\n",
              "        vertical-align: middle;\n",
              "    }\n",
              "\n",
              "    .dataframe tbody tr th {\n",
              "        vertical-align: top;\n",
              "    }\n",
              "\n",
              "    .dataframe thead th {\n",
              "        text-align: right;\n",
              "    }\n",
              "</style>\n",
              "<table border=\"1\" class=\"dataframe\">\n",
              "  <thead>\n",
              "    <tr style=\"text-align: right;\">\n",
              "      <th></th>\n",
              "      <th>bad_weather</th>\n",
              "      <th>is_rush_hour</th>\n",
              "      <th>mile_distance</th>\n",
              "      <th>urban_address</th>\n",
              "      <th>late</th>\n",
              "    </tr>\n",
              "  </thead>\n",
              "  <tbody>\n",
              "    <tr>\n",
              "      <th>0</th>\n",
              "      <td>0.0</td>\n",
              "      <td>1.0</td>\n",
              "      <td>5.0</td>\n",
              "      <td>1.0</td>\n",
              "      <td>0.0</td>\n",
              "    </tr>\n",
              "    <tr>\n",
              "      <th>1</th>\n",
              "      <td>1.0</td>\n",
              "      <td>0.0</td>\n",
              "      <td>7.0</td>\n",
              "      <td>0.0</td>\n",
              "      <td>1.0</td>\n",
              "    </tr>\n",
              "    <tr>\n",
              "      <th>2</th>\n",
              "      <td>0.0</td>\n",
              "      <td>1.0</td>\n",
              "      <td>2.0</td>\n",
              "      <td>1.0</td>\n",
              "      <td>0.0</td>\n",
              "    </tr>\n",
              "    <tr>\n",
              "      <th>3</th>\n",
              "      <td>1.0</td>\n",
              "      <td>1.0</td>\n",
              "      <td>4.2</td>\n",
              "      <td>1.0</td>\n",
              "      <td>0.0</td>\n",
              "    </tr>\n",
              "    <tr>\n",
              "      <th>4</th>\n",
              "      <td>0.0</td>\n",
              "      <td>0.0</td>\n",
              "      <td>7.8</td>\n",
              "      <td>0.0</td>\n",
              "      <td>1.0</td>\n",
              "    </tr>\n",
              "  </tbody>\n",
              "</table>\n",
              "</div>\n",
              "      <button class=\"colab-df-convert\" onclick=\"convertToInteractive('df-63ab5b83-988b-4b19-968c-6901784eefac')\"\n",
              "              title=\"Convert this dataframe to an interactive table.\"\n",
              "              style=\"display:none;\">\n",
              "\n",
              "  <svg xmlns=\"http://www.w3.org/2000/svg\" height=\"24px\"viewBox=\"0 0 24 24\"\n",
              "       width=\"24px\">\n",
              "    <path d=\"M0 0h24v24H0V0z\" fill=\"none\"/>\n",
              "    <path d=\"M18.56 5.44l.94 2.06.94-2.06 2.06-.94-2.06-.94-.94-2.06-.94 2.06-2.06.94zm-11 1L8.5 8.5l.94-2.06 2.06-.94-2.06-.94L8.5 2.5l-.94 2.06-2.06.94zm10 10l.94 2.06.94-2.06 2.06-.94-2.06-.94-.94-2.06-.94 2.06-2.06.94z\"/><path d=\"M17.41 7.96l-1.37-1.37c-.4-.4-.92-.59-1.43-.59-.52 0-1.04.2-1.43.59L10.3 9.45l-7.72 7.72c-.78.78-.78 2.05 0 2.83L4 21.41c.39.39.9.59 1.41.59.51 0 1.02-.2 1.41-.59l7.78-7.78 2.81-2.81c.8-.78.8-2.07 0-2.86zM5.41 20L4 18.59l7.72-7.72 1.47 1.35L5.41 20z\"/>\n",
              "  </svg>\n",
              "      </button>\n",
              "\n",
              "\n",
              "\n",
              "    <div id=\"df-6cb8497a-b4ac-4f0f-80f5-36b8f44c1718\">\n",
              "      <button class=\"colab-df-quickchart\" onclick=\"quickchart('df-6cb8497a-b4ac-4f0f-80f5-36b8f44c1718')\"\n",
              "              title=\"Suggest charts.\"\n",
              "              style=\"display:none;\">\n",
              "\n",
              "<svg xmlns=\"http://www.w3.org/2000/svg\" height=\"24px\"viewBox=\"0 0 24 24\"\n",
              "     width=\"24px\">\n",
              "    <g>\n",
              "        <path d=\"M19 3H5c-1.1 0-2 .9-2 2v14c0 1.1.9 2 2 2h14c1.1 0 2-.9 2-2V5c0-1.1-.9-2-2-2zM9 17H7v-7h2v7zm4 0h-2V7h2v10zm4 0h-2v-4h2v4z\"/>\n",
              "    </g>\n",
              "</svg>\n",
              "      </button>\n",
              "    </div>\n",
              "\n",
              "<style>\n",
              "  .colab-df-quickchart {\n",
              "    background-color: #E8F0FE;\n",
              "    border: none;\n",
              "    border-radius: 50%;\n",
              "    cursor: pointer;\n",
              "    display: none;\n",
              "    fill: #1967D2;\n",
              "    height: 32px;\n",
              "    padding: 0 0 0 0;\n",
              "    width: 32px;\n",
              "  }\n",
              "\n",
              "  .colab-df-quickchart:hover {\n",
              "    background-color: #E2EBFA;\n",
              "    box-shadow: 0px 1px 2px rgba(60, 64, 67, 0.3), 0px 1px 3px 1px rgba(60, 64, 67, 0.15);\n",
              "    fill: #174EA6;\n",
              "  }\n",
              "\n",
              "  [theme=dark] .colab-df-quickchart {\n",
              "    background-color: #3B4455;\n",
              "    fill: #D2E3FC;\n",
              "  }\n",
              "\n",
              "  [theme=dark] .colab-df-quickchart:hover {\n",
              "    background-color: #434B5C;\n",
              "    box-shadow: 0px 1px 3px 1px rgba(0, 0, 0, 0.15);\n",
              "    filter: drop-shadow(0px 1px 2px rgba(0, 0, 0, 0.3));\n",
              "    fill: #FFFFFF;\n",
              "  }\n",
              "</style>\n",
              "\n",
              "    <script>\n",
              "      async function quickchart(key) {\n",
              "        const containerElement = document.querySelector('#' + key);\n",
              "        const charts = await google.colab.kernel.invokeFunction(\n",
              "            'suggestCharts', [key], {});\n",
              "      }\n",
              "    </script>\n",
              "\n",
              "      <script>\n",
              "\n",
              "function displayQuickchartButton(domScope) {\n",
              "  let quickchartButtonEl =\n",
              "    domScope.querySelector('#df-6cb8497a-b4ac-4f0f-80f5-36b8f44c1718 button.colab-df-quickchart');\n",
              "  quickchartButtonEl.style.display =\n",
              "    google.colab.kernel.accessAllowed ? 'block' : 'none';\n",
              "}\n",
              "\n",
              "        displayQuickchartButton(document);\n",
              "      </script>\n",
              "      <style>\n",
              "    .colab-df-container {\n",
              "      display:flex;\n",
              "      flex-wrap:wrap;\n",
              "      gap: 12px;\n",
              "    }\n",
              "\n",
              "    .colab-df-convert {\n",
              "      background-color: #E8F0FE;\n",
              "      border: none;\n",
              "      border-radius: 50%;\n",
              "      cursor: pointer;\n",
              "      display: none;\n",
              "      fill: #1967D2;\n",
              "      height: 32px;\n",
              "      padding: 0 0 0 0;\n",
              "      width: 32px;\n",
              "    }\n",
              "\n",
              "    .colab-df-convert:hover {\n",
              "      background-color: #E2EBFA;\n",
              "      box-shadow: 0px 1px 2px rgba(60, 64, 67, 0.3), 0px 1px 3px 1px rgba(60, 64, 67, 0.15);\n",
              "      fill: #174EA6;\n",
              "    }\n",
              "\n",
              "    [theme=dark] .colab-df-convert {\n",
              "      background-color: #3B4455;\n",
              "      fill: #D2E3FC;\n",
              "    }\n",
              "\n",
              "    [theme=dark] .colab-df-convert:hover {\n",
              "      background-color: #434B5C;\n",
              "      box-shadow: 0px 1px 3px 1px rgba(0, 0, 0, 0.15);\n",
              "      filter: drop-shadow(0px 1px 2px rgba(0, 0, 0, 0.3));\n",
              "      fill: #FFFFFF;\n",
              "    }\n",
              "  </style>\n",
              "\n",
              "      <script>\n",
              "        const buttonEl =\n",
              "          document.querySelector('#df-63ab5b83-988b-4b19-968c-6901784eefac button.colab-df-convert');\n",
              "        buttonEl.style.display =\n",
              "          google.colab.kernel.accessAllowed ? 'block' : 'none';\n",
              "\n",
              "        async function convertToInteractive(key) {\n",
              "          const element = document.querySelector('#df-63ab5b83-988b-4b19-968c-6901784eefac');\n",
              "          const dataTable =\n",
              "            await google.colab.kernel.invokeFunction('convertToInteractive',\n",
              "                                                     [key], {});\n",
              "          if (!dataTable) return;\n",
              "\n",
              "          const docLinkHtml = 'Like what you see? Visit the ' +\n",
              "            '<a target=\"_blank\" href=https://colab.research.google.com/notebooks/data_table.ipynb>data table notebook</a>'\n",
              "            + ' to learn more about interactive tables.';\n",
              "          element.innerHTML = '';\n",
              "          dataTable['output_type'] = 'display_data';\n",
              "          await google.colab.output.renderOutput(dataTable, element);\n",
              "          const docLink = document.createElement('div');\n",
              "          docLink.innerHTML = docLinkHtml;\n",
              "          element.appendChild(docLink);\n",
              "        }\n",
              "      </script>\n",
              "    </div>\n",
              "  </div>\n"
            ],
            "text/plain": [
              "   bad_weather  is_rush_hour  mile_distance  urban_address  late\n",
              "0          0.0           1.0            5.0            1.0   0.0\n",
              "1          1.0           0.0            7.0            0.0   1.0\n",
              "2          0.0           1.0            2.0            1.0   0.0\n",
              "3          1.0           1.0            4.2            1.0   0.0\n",
              "4          0.0           0.0            7.8            0.0   1.0"
            ]
          },
          "execution_count": 7,
          "metadata": {},
          "output_type": "execute_result"
        }
      ],
      "source": [
        "# Imprimir las primeras 5 filas\n",
        "delivery_data.head(5)"
      ]
    },
    {
      "cell_type": "markdown",
      "metadata": {
        "id": "oMQQR7O2zxrT"
      },
      "source": [
        "## 2. <a name=\"2\">Selección de características para entrenar el modelo</a>\n",
        "\n",
        "Vamos a separar las características de la variable objetivo\n"
      ]
    },
    {
      "cell_type": "code",
      "execution_count": null,
      "metadata": {
        "id": "WGCQo-qS0DN0"
      },
      "outputs": [],
      "source": [
        "input_data = delivery_data[\n",
        "    [\"bad_weather\", \"is_rush_hour\", \"mile_distance\", \"urban_address\"]\n",
        "]\n",
        "target = delivery_data[\"late\"]"
      ]
    },
    {
      "cell_type": "markdown",
      "metadata": {
        "id": "js3JgB-z0Sdt"
      },
      "source": [
        "En este conjunto de datos, que contiene muestras de cada una de las dos posibles clases, ajustamos un estimador de la biblioteca `sklearn` para capturar la relación entre la entrada y la salida, y exploramos más a fondo esa relación aprendida para predecir las clases a las que pertenecen las muestras no vistas.\n",
        "\n",
        "En `sklearn`, un estimador es un objeto de Python que implementa los métodos `.fit()` y `.predict()`. El constructor del estimador toma como argumentos los parámetros del modelo.\n"
      ]
    },
    {
      "cell_type": "markdown",
      "metadata": {
        "id": "6eVeAV0Y1AAY"
      },
      "source": [
        "## 3. <a name=\"2\">Entrenamiento del clasificador</a>\n",
        "\n",
        "Vamosw a ajustar a nuestros datos un clasificador de $k$ vecinos más cercanos. Utilizamos la librería de `sklearn` `KNeighborsClassifier`.\n",
        "\n",
        "![train-val-test split](https://drive.google.com/uc?id=1kybB4heQ_PqaDWddiKvU8K5EGioof5sv)\n"
      ]
    },
    {
      "cell_type": "code",
      "execution_count": null,
      "metadata": {
        "id": "709eGKSn1jtg"
      },
      "outputs": [],
      "source": [
        "from sklearn.neighbors import KNeighborsClassifier"
      ]
    },
    {
      "cell_type": "code",
      "execution_count": null,
      "metadata": {
        "colab": {
          "base_uri": "https://localhost:8080/",
          "height": 74
        },
        "id": "lKSSYL0c1p77",
        "outputId": "d791d886-9188-4082-f721-ab1a744b30b6"
      },
      "outputs": [
        {
          "data": {
            "text/html": [
              "<style>#sk-container-id-1 {color: black;background-color: white;}#sk-container-id-1 pre{padding: 0;}#sk-container-id-1 div.sk-toggleable {background-color: white;}#sk-container-id-1 label.sk-toggleable__label {cursor: pointer;display: block;width: 100%;margin-bottom: 0;padding: 0.3em;box-sizing: border-box;text-align: center;}#sk-container-id-1 label.sk-toggleable__label-arrow:before {content: \"▸\";float: left;margin-right: 0.25em;color: #696969;}#sk-container-id-1 label.sk-toggleable__label-arrow:hover:before {color: black;}#sk-container-id-1 div.sk-estimator:hover label.sk-toggleable__label-arrow:before {color: black;}#sk-container-id-1 div.sk-toggleable__content {max-height: 0;max-width: 0;overflow: hidden;text-align: left;background-color: #f0f8ff;}#sk-container-id-1 div.sk-toggleable__content pre {margin: 0.2em;color: black;border-radius: 0.25em;background-color: #f0f8ff;}#sk-container-id-1 input.sk-toggleable__control:checked~div.sk-toggleable__content {max-height: 200px;max-width: 100%;overflow: auto;}#sk-container-id-1 input.sk-toggleable__control:checked~label.sk-toggleable__label-arrow:before {content: \"▾\";}#sk-container-id-1 div.sk-estimator input.sk-toggleable__control:checked~label.sk-toggleable__label {background-color: #d4ebff;}#sk-container-id-1 div.sk-label input.sk-toggleable__control:checked~label.sk-toggleable__label {background-color: #d4ebff;}#sk-container-id-1 input.sk-hidden--visually {border: 0;clip: rect(1px 1px 1px 1px);clip: rect(1px, 1px, 1px, 1px);height: 1px;margin: -1px;overflow: hidden;padding: 0;position: absolute;width: 1px;}#sk-container-id-1 div.sk-estimator {font-family: monospace;background-color: #f0f8ff;border: 1px dotted black;border-radius: 0.25em;box-sizing: border-box;margin-bottom: 0.5em;}#sk-container-id-1 div.sk-estimator:hover {background-color: #d4ebff;}#sk-container-id-1 div.sk-parallel-item::after {content: \"\";width: 100%;border-bottom: 1px solid gray;flex-grow: 1;}#sk-container-id-1 div.sk-label:hover label.sk-toggleable__label {background-color: #d4ebff;}#sk-container-id-1 div.sk-serial::before {content: \"\";position: absolute;border-left: 1px solid gray;box-sizing: border-box;top: 0;bottom: 0;left: 50%;z-index: 0;}#sk-container-id-1 div.sk-serial {display: flex;flex-direction: column;align-items: center;background-color: white;padding-right: 0.2em;padding-left: 0.2em;position: relative;}#sk-container-id-1 div.sk-item {position: relative;z-index: 1;}#sk-container-id-1 div.sk-parallel {display: flex;align-items: stretch;justify-content: center;background-color: white;position: relative;}#sk-container-id-1 div.sk-item::before, #sk-container-id-1 div.sk-parallel-item::before {content: \"\";position: absolute;border-left: 1px solid gray;box-sizing: border-box;top: 0;bottom: 0;left: 50%;z-index: -1;}#sk-container-id-1 div.sk-parallel-item {display: flex;flex-direction: column;z-index: 1;position: relative;background-color: white;}#sk-container-id-1 div.sk-parallel-item:first-child::after {align-self: flex-end;width: 50%;}#sk-container-id-1 div.sk-parallel-item:last-child::after {align-self: flex-start;width: 50%;}#sk-container-id-1 div.sk-parallel-item:only-child::after {width: 0;}#sk-container-id-1 div.sk-dashed-wrapped {border: 1px dashed gray;margin: 0 0.4em 0.5em 0.4em;box-sizing: border-box;padding-bottom: 0.4em;background-color: white;}#sk-container-id-1 div.sk-label label {font-family: monospace;font-weight: bold;display: inline-block;line-height: 1.2em;}#sk-container-id-1 div.sk-label-container {text-align: center;}#sk-container-id-1 div.sk-container {/* jupyter's `normalize.less` sets `[hidden] { display: none; }` but bootstrap.min.css set `[hidden] { display: none !important; }` so we also need the `!important` here to be able to override the default hidden behavior on the sphinx rendered scikit-learn.org. See: https://github.com/scikit-learn/scikit-learn/issues/21755 */display: inline-block !important;position: relative;}#sk-container-id-1 div.sk-text-repr-fallback {display: none;}</style><div id=\"sk-container-id-1\" class=\"sk-top-container\"><div class=\"sk-text-repr-fallback\"><pre>KNeighborsClassifier(n_neighbors=1)</pre><b>In a Jupyter environment, please rerun this cell to show the HTML representation or trust the notebook. <br />On GitHub, the HTML representation is unable to render, please try loading this page with nbviewer.org.</b></div><div class=\"sk-container\" hidden><div class=\"sk-item\"><div class=\"sk-estimator sk-toggleable\"><input class=\"sk-toggleable__control sk-hidden--visually\" id=\"sk-estimator-id-1\" type=\"checkbox\" checked><label for=\"sk-estimator-id-1\" class=\"sk-toggleable__label sk-toggleable__label-arrow\">KNeighborsClassifier</label><div class=\"sk-toggleable__content\"><pre>KNeighborsClassifier(n_neighbors=1)</pre></div></div></div></div></div>"
            ],
            "text/plain": [
              "KNeighborsClassifier(n_neighbors=1)"
            ]
          },
          "execution_count": 10,
          "metadata": {},
          "output_type": "execute_result"
        }
      ],
      "source": [
        "# Use n_neighbors = 1\n",
        "# Esto significa que el clasificador utilizará la etiqueta del vecino más cercano para hacer la predicción.\n",
        "classifier = KNeighborsClassifier(n_neighbors=1)\n",
        "\n",
        "# Ajuste el modelo a los datos\n",
        "classifier.fit(input_data, target)"
      ]
    },
    {
      "cell_type": "markdown",
      "metadata": {
        "id": "59hpHX9913RW"
      },
      "source": [
        "## 4. <a name=\"4\">Uso del clasificador entrenado para predecir</a>\n",
        "\n",
        "Ahora, vamos a predecir las etiquetas de nuevas muestras con nuestro clasificador entrenado.\n"
      ]
    },
    {
      "cell_type": "code",
      "execution_count": null,
      "metadata": {
        "colab": {
          "base_uri": "https://localhost:8080/"
        },
        "id": "15l3OVhm2LNk",
        "outputId": "b403ec97-466f-4dd1-b865-4045af7ab25a"
      },
      "outputs": [
        {
          "name": "stdout",
          "output_type": "stream",
          "text": [
            "[0.]\n"
          ]
        },
        {
          "name": "stderr",
          "output_type": "stream",
          "text": [
            "/usr/local/lib/python3.10/dist-packages/sklearn/base.py:439: UserWarning: X does not have valid feature names, but KNeighborsClassifier was fitted with feature names\n",
            "  warnings.warn(\n"
          ]
        }
      ],
      "source": [
        "some_data = np.array(\n",
        "    [[0, 0, 2.1, 1]]\n",
        ")  # bad_weather->0, is_rush_hour->0, mile_distance->2.1 and urban_address->1\n",
        "\n",
        "# Utilice el modelo ajustado para hacer la predicción\n",
        "print(classifier.predict(some_data))"
      ]
    },
    {
      "cell_type": "markdown",
      "metadata": {
        "id": "li0OLmw92bLy"
      },
      "source": [
        "Según nuestro modelo, este envío llegará a tiempo\n"
      ]
    },
    {
      "cell_type": "markdown",
      "metadata": {
        "id": "sRFcZ5Zp2oSm"
      },
      "source": [
        "## 5. <a name=\"5\">Evaluación del modelo</a>\n",
        "\n",
        "**¿Cómo sabemos si nuestro modelo hace predicciones buenas o malas?**\n",
        "\n",
        "Si no tenemos la etiqueta real de este ejemplo (en este caso este pedido), no lo sabremos. Igualmente, no tenemos forma de saber qué tan bueno es este modelo.\n",
        "\n",
        "Lo que podemos hacer es validar el modelo con los datos en los que lo entrenamos, y utilizar algunas métricas para examinar el rendimiento del clasificador.\n"
      ]
    },
    {
      "cell_type": "code",
      "execution_count": null,
      "metadata": {
        "id": "DobyUz0J3MNn"
      },
      "outputs": [],
      "source": [
        "# Utilizar el modelo entrenado para predecir las etiquetas de nuestro conjunto de entrenamiento\n",
        "predictions = classifier.predict(input_data)"
      ]
    },
    {
      "cell_type": "code",
      "execution_count": null,
      "metadata": {
        "id": "VTMsONsa3VSg"
      },
      "outputs": [],
      "source": [
        "from sklearn.metrics import confusion_matrix"
      ]
    },
    {
      "cell_type": "code",
      "execution_count": null,
      "metadata": {
        "colab": {
          "base_uri": "https://localhost:8080/"
        },
        "id": "CYbMz6233YS9",
        "outputId": "0a8ff26f-9f58-48eb-c626-c6dc78330b0b"
      },
      "outputs": [
        {
          "name": "stdout",
          "output_type": "stream",
          "text": [
            "[[27  0]\n",
            " [ 0 18]]\n"
          ]
        }
      ],
      "source": [
        "print(confusion_matrix(target, predictions))"
      ]
    },
    {
      "cell_type": "markdown",
      "metadata": {
        "id": "Cq_90mYk3x4Q"
      },
      "source": [
        "Cuando observamos la matriz de confusión, podemos ver rápidamente que todas las predicciones fueron correctas, por lo que las métricas de clasificación deberían ser altas.\n",
        "\n",
        "**Métricas de clasificación:** Aquí usamos la métrica **tasa de acierto** (accuracy), que mide cuán correctamente el modelo entrenado predice los resultados de retraso o no retraso. Veamos el informe de clasificación y la puntuación de accuracy a continuación.\n"
      ]
    },
    {
      "cell_type": "code",
      "execution_count": null,
      "metadata": {
        "id": "vsBWG5Gx4MQi"
      },
      "outputs": [],
      "source": [
        "from sklearn.metrics import classification_report\n",
        "from sklearn.metrics import accuracy_score"
      ]
    },
    {
      "cell_type": "code",
      "execution_count": null,
      "metadata": {
        "colab": {
          "base_uri": "https://localhost:8080/"
        },
        "id": "drQ5VRzY4Oyq",
        "outputId": "f813a1f1-0c66-4916-a7d3-6afaa917ff89"
      },
      "outputs": [
        {
          "name": "stdout",
          "output_type": "stream",
          "text": [
            "              precision    recall  f1-score   support\n",
            "\n",
            "         0.0       1.00      1.00      1.00        27\n",
            "         1.0       1.00      1.00      1.00        18\n",
            "\n",
            "    accuracy                           1.00        45\n",
            "   macro avg       1.00      1.00      1.00        45\n",
            "weighted avg       1.00      1.00      1.00        45\n",
            "\n",
            "Accuracy: 1.0\n"
          ]
        }
      ],
      "source": [
        "print(classification_report(target, predictions))\n",
        "print(\"Accuracy:\", accuracy_score(target, predictions))"
      ]
    },
    {
      "cell_type": "markdown",
      "metadata": {
        "id": "Crz3Et0g4ZFL"
      },
      "source": [
        "## 6. <a name=\"6\">Conjuntos de entrenamiento y prueba</a>\n",
        "\n",
        "El modelo funcionó con un 100% de precisión en todo el conjunto de datos. Esto puede parecer prometedor, pero no nos dice nada sobre el rendimiento en futuros pedidos. Una forma de probar si este modelo funciona en nuevos pedidos \"no vistos\", es reservar algunos datos de nuestro conjunto de datos original para fines de prueba.\n",
        "\n",
        "Dividamos nuestros datos en dos conjuntos: Entrenamiento (85%) y Prueba (15%). Esto nos dará 38 registros de entrenamiento y 7 registros de prueba (de los 45 registros totales).\n",
        "\n",
        "![train-val-test split](https://drive.google.com/uc?id=18yLEOEuKylYPC_HZUagedK-9qYhwZzkK)\n"
      ]
    },
    {
      "cell_type": "code",
      "execution_count": null,
      "metadata": {
        "colab": {
          "base_uri": "https://localhost:8080/"
        },
        "id": "Lcv52SoP4uBb",
        "outputId": "86703002-5d5e-4161-a0c9-0c45f4631bc2"
      },
      "outputs": [
        {
          "data": {
            "text/plain": [
              "(45, 5)"
            ]
          },
          "execution_count": 17,
          "metadata": {},
          "output_type": "execute_result"
        }
      ],
      "source": [
        "delivery_data.shape"
      ]
    },
    {
      "cell_type": "code",
      "execution_count": null,
      "metadata": {
        "colab": {
          "base_uri": "https://localhost:8080/",
          "height": 206
        },
        "id": "c8ckL8rc4wf-",
        "outputId": "ac4db6fb-f40c-4fe4-d932-d97746fb59c5"
      },
      "outputs": [
        {
          "data": {
            "text/html": [
              "\n",
              "\n",
              "  <div id=\"df-1659acdf-1300-4b36-8989-03ca94dcee1a\">\n",
              "    <div class=\"colab-df-container\">\n",
              "      <div>\n",
              "<style scoped>\n",
              "    .dataframe tbody tr th:only-of-type {\n",
              "        vertical-align: middle;\n",
              "    }\n",
              "\n",
              "    .dataframe tbody tr th {\n",
              "        vertical-align: top;\n",
              "    }\n",
              "\n",
              "    .dataframe thead th {\n",
              "        text-align: right;\n",
              "    }\n",
              "</style>\n",
              "<table border=\"1\" class=\"dataframe\">\n",
              "  <thead>\n",
              "    <tr style=\"text-align: right;\">\n",
              "      <th></th>\n",
              "      <th>bad_weather</th>\n",
              "      <th>is_rush_hour</th>\n",
              "      <th>mile_distance</th>\n",
              "      <th>urban_address</th>\n",
              "      <th>late</th>\n",
              "    </tr>\n",
              "  </thead>\n",
              "  <tbody>\n",
              "    <tr>\n",
              "      <th>0</th>\n",
              "      <td>0.0</td>\n",
              "      <td>1.0</td>\n",
              "      <td>5.0</td>\n",
              "      <td>1.0</td>\n",
              "      <td>0.0</td>\n",
              "    </tr>\n",
              "    <tr>\n",
              "      <th>1</th>\n",
              "      <td>1.0</td>\n",
              "      <td>0.0</td>\n",
              "      <td>7.0</td>\n",
              "      <td>0.0</td>\n",
              "      <td>1.0</td>\n",
              "    </tr>\n",
              "    <tr>\n",
              "      <th>2</th>\n",
              "      <td>0.0</td>\n",
              "      <td>1.0</td>\n",
              "      <td>2.0</td>\n",
              "      <td>1.0</td>\n",
              "      <td>0.0</td>\n",
              "    </tr>\n",
              "    <tr>\n",
              "      <th>3</th>\n",
              "      <td>1.0</td>\n",
              "      <td>1.0</td>\n",
              "      <td>4.2</td>\n",
              "      <td>1.0</td>\n",
              "      <td>0.0</td>\n",
              "    </tr>\n",
              "    <tr>\n",
              "      <th>4</th>\n",
              "      <td>0.0</td>\n",
              "      <td>0.0</td>\n",
              "      <td>7.8</td>\n",
              "      <td>0.0</td>\n",
              "      <td>1.0</td>\n",
              "    </tr>\n",
              "  </tbody>\n",
              "</table>\n",
              "</div>\n",
              "      <button class=\"colab-df-convert\" onclick=\"convertToInteractive('df-1659acdf-1300-4b36-8989-03ca94dcee1a')\"\n",
              "              title=\"Convert this dataframe to an interactive table.\"\n",
              "              style=\"display:none;\">\n",
              "\n",
              "  <svg xmlns=\"http://www.w3.org/2000/svg\" height=\"24px\"viewBox=\"0 0 24 24\"\n",
              "       width=\"24px\">\n",
              "    <path d=\"M0 0h24v24H0V0z\" fill=\"none\"/>\n",
              "    <path d=\"M18.56 5.44l.94 2.06.94-2.06 2.06-.94-2.06-.94-.94-2.06-.94 2.06-2.06.94zm-11 1L8.5 8.5l.94-2.06 2.06-.94-2.06-.94L8.5 2.5l-.94 2.06-2.06.94zm10 10l.94 2.06.94-2.06 2.06-.94-2.06-.94-.94-2.06-.94 2.06-2.06.94z\"/><path d=\"M17.41 7.96l-1.37-1.37c-.4-.4-.92-.59-1.43-.59-.52 0-1.04.2-1.43.59L10.3 9.45l-7.72 7.72c-.78.78-.78 2.05 0 2.83L4 21.41c.39.39.9.59 1.41.59.51 0 1.02-.2 1.41-.59l7.78-7.78 2.81-2.81c.8-.78.8-2.07 0-2.86zM5.41 20L4 18.59l7.72-7.72 1.47 1.35L5.41 20z\"/>\n",
              "  </svg>\n",
              "      </button>\n",
              "\n",
              "\n",
              "\n",
              "    <div id=\"df-6e0cf5bd-7231-44e6-b6ad-db584e6db6c8\">\n",
              "      <button class=\"colab-df-quickchart\" onclick=\"quickchart('df-6e0cf5bd-7231-44e6-b6ad-db584e6db6c8')\"\n",
              "              title=\"Suggest charts.\"\n",
              "              style=\"display:none;\">\n",
              "\n",
              "<svg xmlns=\"http://www.w3.org/2000/svg\" height=\"24px\"viewBox=\"0 0 24 24\"\n",
              "     width=\"24px\">\n",
              "    <g>\n",
              "        <path d=\"M19 3H5c-1.1 0-2 .9-2 2v14c0 1.1.9 2 2 2h14c1.1 0 2-.9 2-2V5c0-1.1-.9-2-2-2zM9 17H7v-7h2v7zm4 0h-2V7h2v10zm4 0h-2v-4h2v4z\"/>\n",
              "    </g>\n",
              "</svg>\n",
              "      </button>\n",
              "    </div>\n",
              "\n",
              "<style>\n",
              "  .colab-df-quickchart {\n",
              "    background-color: #E8F0FE;\n",
              "    border: none;\n",
              "    border-radius: 50%;\n",
              "    cursor: pointer;\n",
              "    display: none;\n",
              "    fill: #1967D2;\n",
              "    height: 32px;\n",
              "    padding: 0 0 0 0;\n",
              "    width: 32px;\n",
              "  }\n",
              "\n",
              "  .colab-df-quickchart:hover {\n",
              "    background-color: #E2EBFA;\n",
              "    box-shadow: 0px 1px 2px rgba(60, 64, 67, 0.3), 0px 1px 3px 1px rgba(60, 64, 67, 0.15);\n",
              "    fill: #174EA6;\n",
              "  }\n",
              "\n",
              "  [theme=dark] .colab-df-quickchart {\n",
              "    background-color: #3B4455;\n",
              "    fill: #D2E3FC;\n",
              "  }\n",
              "\n",
              "  [theme=dark] .colab-df-quickchart:hover {\n",
              "    background-color: #434B5C;\n",
              "    box-shadow: 0px 1px 3px 1px rgba(0, 0, 0, 0.15);\n",
              "    filter: drop-shadow(0px 1px 2px rgba(0, 0, 0, 0.3));\n",
              "    fill: #FFFFFF;\n",
              "  }\n",
              "</style>\n",
              "\n",
              "    <script>\n",
              "      async function quickchart(key) {\n",
              "        const containerElement = document.querySelector('#' + key);\n",
              "        const charts = await google.colab.kernel.invokeFunction(\n",
              "            'suggestCharts', [key], {});\n",
              "      }\n",
              "    </script>\n",
              "\n",
              "      <script>\n",
              "\n",
              "function displayQuickchartButton(domScope) {\n",
              "  let quickchartButtonEl =\n",
              "    domScope.querySelector('#df-6e0cf5bd-7231-44e6-b6ad-db584e6db6c8 button.colab-df-quickchart');\n",
              "  quickchartButtonEl.style.display =\n",
              "    google.colab.kernel.accessAllowed ? 'block' : 'none';\n",
              "}\n",
              "\n",
              "        displayQuickchartButton(document);\n",
              "      </script>\n",
              "      <style>\n",
              "    .colab-df-container {\n",
              "      display:flex;\n",
              "      flex-wrap:wrap;\n",
              "      gap: 12px;\n",
              "    }\n",
              "\n",
              "    .colab-df-convert {\n",
              "      background-color: #E8F0FE;\n",
              "      border: none;\n",
              "      border-radius: 50%;\n",
              "      cursor: pointer;\n",
              "      display: none;\n",
              "      fill: #1967D2;\n",
              "      height: 32px;\n",
              "      padding: 0 0 0 0;\n",
              "      width: 32px;\n",
              "    }\n",
              "\n",
              "    .colab-df-convert:hover {\n",
              "      background-color: #E2EBFA;\n",
              "      box-shadow: 0px 1px 2px rgba(60, 64, 67, 0.3), 0px 1px 3px 1px rgba(60, 64, 67, 0.15);\n",
              "      fill: #174EA6;\n",
              "    }\n",
              "\n",
              "    [theme=dark] .colab-df-convert {\n",
              "      background-color: #3B4455;\n",
              "      fill: #D2E3FC;\n",
              "    }\n",
              "\n",
              "    [theme=dark] .colab-df-convert:hover {\n",
              "      background-color: #434B5C;\n",
              "      box-shadow: 0px 1px 3px 1px rgba(0, 0, 0, 0.15);\n",
              "      filter: drop-shadow(0px 1px 2px rgba(0, 0, 0, 0.3));\n",
              "      fill: #FFFFFF;\n",
              "    }\n",
              "  </style>\n",
              "\n",
              "      <script>\n",
              "        const buttonEl =\n",
              "          document.querySelector('#df-1659acdf-1300-4b36-8989-03ca94dcee1a button.colab-df-convert');\n",
              "        buttonEl.style.display =\n",
              "          google.colab.kernel.accessAllowed ? 'block' : 'none';\n",
              "\n",
              "        async function convertToInteractive(key) {\n",
              "          const element = document.querySelector('#df-1659acdf-1300-4b36-8989-03ca94dcee1a');\n",
              "          const dataTable =\n",
              "            await google.colab.kernel.invokeFunction('convertToInteractive',\n",
              "                                                     [key], {});\n",
              "          if (!dataTable) return;\n",
              "\n",
              "          const docLinkHtml = 'Like what you see? Visit the ' +\n",
              "            '<a target=\"_blank\" href=https://colab.research.google.com/notebooks/data_table.ipynb>data table notebook</a>'\n",
              "            + ' to learn more about interactive tables.';\n",
              "          element.innerHTML = '';\n",
              "          dataTable['output_type'] = 'display_data';\n",
              "          await google.colab.output.renderOutput(dataTable, element);\n",
              "          const docLink = document.createElement('div');\n",
              "          docLink.innerHTML = docLinkHtml;\n",
              "          element.appendChild(docLink);\n",
              "        }\n",
              "      </script>\n",
              "    </div>\n",
              "  </div>\n"
            ],
            "text/plain": [
              "   bad_weather  is_rush_hour  mile_distance  urban_address  late\n",
              "0          0.0           1.0            5.0            1.0   0.0\n",
              "1          1.0           0.0            7.0            0.0   1.0\n",
              "2          0.0           1.0            2.0            1.0   0.0\n",
              "3          1.0           1.0            4.2            1.0   0.0\n",
              "4          0.0           0.0            7.8            0.0   1.0"
            ]
          },
          "execution_count": 18,
          "metadata": {},
          "output_type": "execute_result"
        }
      ],
      "source": [
        "# Dividamos nuestra base de datos: Training (85%) and Test (15%)\n",
        "training_data = delivery_data.iloc[:38, :]  # First 38\n",
        "test_data = delivery_data.iloc[38:, :]  # Remaining\n",
        "\n",
        "training_data.head()"
      ]
    },
    {
      "cell_type": "markdown",
      "metadata": {
        "id": "X8ETpUZR46wW"
      },
      "source": [
        "Ajustemos el $k$NN en los datos de entrenamiento esta vez:\n"
      ]
    },
    {
      "cell_type": "code",
      "execution_count": null,
      "metadata": {
        "colab": {
          "base_uri": "https://localhost:8080/",
          "height": 74
        },
        "id": "XrYmoHuh46M7",
        "outputId": "e0b4e50b-5dbb-4261-c022-ebe5968f28a2"
      },
      "outputs": [
        {
          "data": {
            "text/html": [
              "<style>#sk-container-id-2 {color: black;background-color: white;}#sk-container-id-2 pre{padding: 0;}#sk-container-id-2 div.sk-toggleable {background-color: white;}#sk-container-id-2 label.sk-toggleable__label {cursor: pointer;display: block;width: 100%;margin-bottom: 0;padding: 0.3em;box-sizing: border-box;text-align: center;}#sk-container-id-2 label.sk-toggleable__label-arrow:before {content: \"▸\";float: left;margin-right: 0.25em;color: #696969;}#sk-container-id-2 label.sk-toggleable__label-arrow:hover:before {color: black;}#sk-container-id-2 div.sk-estimator:hover label.sk-toggleable__label-arrow:before {color: black;}#sk-container-id-2 div.sk-toggleable__content {max-height: 0;max-width: 0;overflow: hidden;text-align: left;background-color: #f0f8ff;}#sk-container-id-2 div.sk-toggleable__content pre {margin: 0.2em;color: black;border-radius: 0.25em;background-color: #f0f8ff;}#sk-container-id-2 input.sk-toggleable__control:checked~div.sk-toggleable__content {max-height: 200px;max-width: 100%;overflow: auto;}#sk-container-id-2 input.sk-toggleable__control:checked~label.sk-toggleable__label-arrow:before {content: \"▾\";}#sk-container-id-2 div.sk-estimator input.sk-toggleable__control:checked~label.sk-toggleable__label {background-color: #d4ebff;}#sk-container-id-2 div.sk-label input.sk-toggleable__control:checked~label.sk-toggleable__label {background-color: #d4ebff;}#sk-container-id-2 input.sk-hidden--visually {border: 0;clip: rect(1px 1px 1px 1px);clip: rect(1px, 1px, 1px, 1px);height: 1px;margin: -1px;overflow: hidden;padding: 0;position: absolute;width: 1px;}#sk-container-id-2 div.sk-estimator {font-family: monospace;background-color: #f0f8ff;border: 1px dotted black;border-radius: 0.25em;box-sizing: border-box;margin-bottom: 0.5em;}#sk-container-id-2 div.sk-estimator:hover {background-color: #d4ebff;}#sk-container-id-2 div.sk-parallel-item::after {content: \"\";width: 100%;border-bottom: 1px solid gray;flex-grow: 1;}#sk-container-id-2 div.sk-label:hover label.sk-toggleable__label {background-color: #d4ebff;}#sk-container-id-2 div.sk-serial::before {content: \"\";position: absolute;border-left: 1px solid gray;box-sizing: border-box;top: 0;bottom: 0;left: 50%;z-index: 0;}#sk-container-id-2 div.sk-serial {display: flex;flex-direction: column;align-items: center;background-color: white;padding-right: 0.2em;padding-left: 0.2em;position: relative;}#sk-container-id-2 div.sk-item {position: relative;z-index: 1;}#sk-container-id-2 div.sk-parallel {display: flex;align-items: stretch;justify-content: center;background-color: white;position: relative;}#sk-container-id-2 div.sk-item::before, #sk-container-id-2 div.sk-parallel-item::before {content: \"\";position: absolute;border-left: 1px solid gray;box-sizing: border-box;top: 0;bottom: 0;left: 50%;z-index: -1;}#sk-container-id-2 div.sk-parallel-item {display: flex;flex-direction: column;z-index: 1;position: relative;background-color: white;}#sk-container-id-2 div.sk-parallel-item:first-child::after {align-self: flex-end;width: 50%;}#sk-container-id-2 div.sk-parallel-item:last-child::after {align-self: flex-start;width: 50%;}#sk-container-id-2 div.sk-parallel-item:only-child::after {width: 0;}#sk-container-id-2 div.sk-dashed-wrapped {border: 1px dashed gray;margin: 0 0.4em 0.5em 0.4em;box-sizing: border-box;padding-bottom: 0.4em;background-color: white;}#sk-container-id-2 div.sk-label label {font-family: monospace;font-weight: bold;display: inline-block;line-height: 1.2em;}#sk-container-id-2 div.sk-label-container {text-align: center;}#sk-container-id-2 div.sk-container {/* jupyter's `normalize.less` sets `[hidden] { display: none; }` but bootstrap.min.css set `[hidden] { display: none !important; }` so we also need the `!important` here to be able to override the default hidden behavior on the sphinx rendered scikit-learn.org. See: https://github.com/scikit-learn/scikit-learn/issues/21755 */display: inline-block !important;position: relative;}#sk-container-id-2 div.sk-text-repr-fallback {display: none;}</style><div id=\"sk-container-id-2\" class=\"sk-top-container\"><div class=\"sk-text-repr-fallback\"><pre>KNeighborsClassifier(n_neighbors=1)</pre><b>In a Jupyter environment, please rerun this cell to show the HTML representation or trust the notebook. <br />On GitHub, the HTML representation is unable to render, please try loading this page with nbviewer.org.</b></div><div class=\"sk-container\" hidden><div class=\"sk-item\"><div class=\"sk-estimator sk-toggleable\"><input class=\"sk-toggleable__control sk-hidden--visually\" id=\"sk-estimator-id-2\" type=\"checkbox\" checked><label for=\"sk-estimator-id-2\" class=\"sk-toggleable__label sk-toggleable__label-arrow\">KNeighborsClassifier</label><div class=\"sk-toggleable__content\"><pre>KNeighborsClassifier(n_neighbors=1)</pre></div></div></div></div></div>"
            ],
            "text/plain": [
              "KNeighborsClassifier(n_neighbors=1)"
            ]
          },
          "execution_count": 19,
          "metadata": {},
          "output_type": "execute_result"
        }
      ],
      "source": [
        "X_train = training_data[\n",
        "    [\"bad_weather\", \"is_rush_hour\", \"mile_distance\", \"urban_address\"]\n",
        "].values\n",
        "y_train = training_data[\"late\"].tolist()\n",
        "\n",
        "# Use n_neighbors = 1\n",
        "classifier = KNeighborsClassifier(n_neighbors=1)\n",
        "\n",
        "classifier.fit(X_train, y_train)"
      ]
    },
    {
      "cell_type": "code",
      "execution_count": null,
      "metadata": {
        "colab": {
          "base_uri": "https://localhost:8080/"
        },
        "id": "G1MxSk_M5LL3",
        "outputId": "fb5f77f3-b03a-4cf1-a5f0-29c245ac0b00"
      },
      "outputs": [
        {
          "name": "stdout",
          "output_type": "stream",
          "text": [
            "Model evaluation on the training set: \n",
            "\n",
            "[[23  0]\n",
            " [ 0 15]]\n",
            "              precision    recall  f1-score   support\n",
            "\n",
            "         0.0       1.00      1.00      1.00        23\n",
            "         1.0       1.00      1.00      1.00        15\n",
            "\n",
            "    accuracy                           1.00        38\n",
            "   macro avg       1.00      1.00      1.00        38\n",
            "weighted avg       1.00      1.00      1.00        38\n",
            "\n",
            "Training accuracy: 1.0\n"
          ]
        }
      ],
      "source": [
        "# Usemos el modelo ajustado para hacer predicciones en el conjunto de entrenamiento\n",
        "train_predictions = classifier.predict(X_train)\n",
        "\n",
        "print(\"Model evaluation on the training set: \\n\")\n",
        "print(confusion_matrix(y_train, train_predictions))\n",
        "print(classification_report(y_train, train_predictions))\n",
        "print(\"Training accuracy:\", accuracy_score(y_train, train_predictions))"
      ]
    },
    {
      "cell_type": "markdown",
      "metadata": {
        "id": "FtlIld045guC"
      },
      "source": [
        "Ahora, comprobemos el rendimiento en los datos de test\n"
      ]
    },
    {
      "cell_type": "code",
      "execution_count": null,
      "metadata": {
        "colab": {
          "base_uri": "https://localhost:8080/"
        },
        "id": "zBxxqv485lGe",
        "outputId": "dd27ec3a-021d-4b0d-8d2f-0a84900bcf6c"
      },
      "outputs": [
        {
          "name": "stdout",
          "output_type": "stream",
          "text": [
            "Model evaluation on the training set: \n",
            "\n",
            "[[3 1]\n",
            " [1 2]]\n",
            "              precision    recall  f1-score   support\n",
            "\n",
            "         0.0       0.75      0.75      0.75         4\n",
            "         1.0       0.67      0.67      0.67         3\n",
            "\n",
            "    accuracy                           0.71         7\n",
            "   macro avg       0.71      0.71      0.71         7\n",
            "weighted avg       0.71      0.71      0.71         7\n",
            "\n",
            "Training accuracy: 0.7142857142857143\n"
          ]
        }
      ],
      "source": [
        "X_test = test_data[\n",
        "    [\"bad_weather\", \"is_rush_hour\", \"mile_distance\", \"urban_address\"]\n",
        "].values\n",
        "y_test = test_data[\"late\"].tolist()\n",
        "\n",
        "# Usemos el modelo ajustado para predecir las etiquetas del conjunto de test\n",
        "test_predictions = classifier.predict(X_test)\n",
        "\n",
        "print(\"Model evaluation on the training set: \\n\")\n",
        "print(confusion_matrix(y_test, test_predictions))\n",
        "print(classification_report(y_test, test_predictions))\n",
        "print(\"Training accuracy:\", accuracy_score(y_test, test_predictions))"
      ]
    },
    {
      "cell_type": "markdown",
      "metadata": {
        "id": "ZEsxO9GO54BW"
      },
      "source": [
        "## 7. <a name=\"7\">Sobreajuste</a>\n",
        "\n",
        "¡Esto no se ve bien!\n",
        "\n",
        "Solo logramos un 71% de precisión en datos que el modelo no ha visto antes.\n",
        "¿Podemos confiar en este modelo? Probablemente no.\n",
        "Expliquemos lo que pasó aquí.\n",
        "\n",
        "Experimentamos un problema común llamado \"sobreajuste\". Esto significa que nuestro modelo \"aprendió demasiado\" o memorizó nuestros datos de entrenamiento, y falló en los nuevos datos que no ha visto antes.\n",
        "\n",
        "Las personas experimentadas habrían detectado el problema incluso antes de ajustar el clasificador, el parámetro $k$ que elegimos como 1 aquí mira el registro más cercano y asigna la clase de ese registro. Esto no se generaliza bien a nuestro conjunto de datos general y \"sobreajusta\" el conjunto de datos.\n",
        "¿Dónde está el subconjunto de validación?\n",
        "\n",
        "Si queremos optimizar el rendimiento de nuestro algoritmo, y por lo tanto reducir la llamada brecha de generalización, necesitamos buscar el valor de $k$ que mejor rendimiento tenga, utilizando un conjunto de validación. Elegimos el valor de $k$ que resulta en la mejor métrica de rendimiento de validación de nuestra elección, y luego finalmente comprobamos el rendimiento del modelo en el conjunto de datos de prueba.\n"
      ]
    },
    {
      "cell_type": "code",
      "execution_count": null,
      "metadata": {
        "id": "YvNsp3YP6s35"
      },
      "outputs": [],
      "source": [
        "# Dividamos los datos de entremiento en dos subconjuntos: Training (80%) and Validation (20%)\n",
        "\n",
        "train_data = training_data.iloc[:30, :]  # First 30\n",
        "val_data = training_data.iloc[30:, :]  # Remaining\n",
        "\n",
        "X_train = train_data[\n",
        "    [\"bad_weather\", \"is_rush_hour\", \"mile_distance\", \"urban_address\"]\n",
        "].values\n",
        "y_train = train_data[\"late\"].tolist()\n",
        "\n",
        "X_val = val_data[\n",
        "    [\"bad_weather\", \"is_rush_hour\", \"mile_distance\", \"urban_address\"]\n",
        "].values\n",
        "y_val = val_data[\"late\"].tolist()"
      ]
    },
    {
      "cell_type": "markdown",
      "metadata": {
        "id": "HLLc9XvI60UF"
      },
      "source": [
        "Entrenemos para diferentes valores de $k$\n"
      ]
    },
    {
      "cell_type": "code",
      "execution_count": null,
      "metadata": {
        "colab": {
          "base_uri": "https://localhost:8080/"
        },
        "id": "Exs79Dba64N8",
        "outputId": "61538f33-af70-4acd-dee6-968150745926"
      },
      "outputs": [
        {
          "name": "stdout",
          "output_type": "stream",
          "text": [
            "K=1, Validation accuracy score: 0.875000\n",
            "K=2, Validation accuracy score: 0.875000\n",
            "K=3, Validation accuracy score: 1.000000\n",
            "K=4, Validation accuracy score: 1.000000\n",
            "K=5, Validation accuracy score: 1.000000\n",
            "K=6, Validation accuracy score: 0.875000\n"
          ]
        }
      ],
      "source": [
        "K_values = [1, 2, 3, 4, 5, 6]\n",
        "\n",
        "for K in K_values:\n",
        "    classifier = KNeighborsClassifier(n_neighbors=K)\n",
        "    classifier.fit(X_train, y_train)\n",
        "    val_predictions = classifier.predict(X_val)\n",
        "    print(\n",
        "        \"K=%d, Validation accuracy score: %f\"\n",
        "        % (K, accuracy_score(y_val, val_predictions))\n",
        "    )"
      ]
    },
    {
      "cell_type": "markdown",
      "metadata": {
        "id": "vneqVGuO7Bmq"
      },
      "source": [
        "Parece que $k = 3$ o $k = 4$ o $k = 5$ son opciones óptimas para $k$. Escojamos $k = 4$ para construir el clasificador, entrenar en el conjunto de entrenamiento y finalmente probar en el conjunto de prueba.\n"
      ]
    },
    {
      "cell_type": "code",
      "execution_count": null,
      "metadata": {
        "colab": {
          "base_uri": "https://localhost:8080/"
        },
        "id": "qkPmoBfk7A8_",
        "outputId": "905d4f91-56dc-4ac4-e442-7a5f677cdb24"
      },
      "outputs": [
        {
          "name": "stdout",
          "output_type": "stream",
          "text": [
            "Test accuracy score: 0.857143\n"
          ]
        }
      ],
      "source": [
        "classifier = KNeighborsClassifier(n_neighbors=4)\n",
        "classifier.fit(X_train, y_train)\n",
        "test_predictions = classifier.predict(X_test)\n",
        "print(\"Test accuracy score: %f\" % (accuracy_score(y_test, test_predictions)))"
      ]
    },
    {
      "cell_type": "markdown",
      "metadata": {
        "id": "gbhw1Y737Uwt"
      },
      "source": [
        "En efecto, la precisión en el conjunto de prueba mejoró del 71% al 86%, reduciendo la brecha de generalización.\n"
      ]
    }
  ],
  "metadata": {
    "colab": {
      "authorship_tag": "ABX9TyOPr+vHMgoyX2sS0ejqglUu",
      "include_colab_link": true,
      "provenance": []
    },
    "kernelspec": {
      "display_name": "Python 3",
      "name": "python3"
    },
    "language_info": {
      "name": "python",
      "version": "3.11.5"
    }
  },
  "nbformat": 4,
  "nbformat_minor": 0
}
