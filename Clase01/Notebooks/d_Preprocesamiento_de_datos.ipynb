{
  "cells": [
    {
      "cell_type": "markdown",
      "metadata": {
        "colab_type": "text",
        "id": "view-in-github"
      },
      "source": [
        "<a href=\"https://colab.research.google.com/github/jdmartinev/MachineLearning/blob/main/Clase01/Notebooks/d_Preprocesamiento_de_datos.ipynb\" target=\"_parent\"><img src=\"https://colab.research.google.com/assets/colab-badge.svg\" alt=\"Open In Colab\"/></a>\n"
      ]
    },
    {
      "cell_type": "markdown",
      "metadata": {
        "id": "XWseYLyCtOsE"
      },
      "source": [
        "# **Semana 1 - Preprocesamiento de datos**\n",
        "\n",
        "## **Objetivos de aprendizaje**\n",
        "\n",
        "- Reconocer el impacto de la calidad y cantidad de datos en los algoritmos de ML\n",
        "- Explicar un proceso típico de recolección y transformación de datos en el flujo de trabajo de ML\n",
        "- Identificar cuando implementar transformaciones de características como imputación, escalamiento, one-hot-encoding\n"
      ]
    },
    {
      "cell_type": "markdown",
      "metadata": {
        "id": "zR1UwTMwuo2z"
      },
      "source": [
        "## **Ejemplo: Recomendación de canciones usando $k$-NN**\n",
        "\n",
        "En este ejemplo usaremos $k-$NN para predecir si a un usuario le gustará una canción o no.\n",
        "\n",
        "Intuición:\n",
        "\n",
        "- Encuentre las canciones similares en el conjunto de entrenamiento a la canción a la que queremos hacer la predicción\n",
        "- Por mayoría, escoger si al usuario le gustaron o no estas canciones\n",
        "- Asignar la etiqueta a la nueva canción según el voto mayoritario\n",
        "\n",
        "![Spotify recommendation](https://drive.google.com/uc?id=18lBxaBGX3n8BPxwyOnybK2CqtMHDp9Up)\n"
      ]
    },
    {
      "cell_type": "markdown",
      "metadata": {
        "id": "fAsfat9Lwt7u"
      },
      "source": [
        "## **Descarga de datos (opción 1)**\n",
        "\n",
        "Lo primero que hará será descargar los datos con los que va a trabajar:\n",
        "\n",
        "- Tabla de datos de clientes (archivo csv).\n",
        "\n",
        "Este archivo quedará en la ruta \\_/content/data.csv asociada con el sistema operativo del servidor en el que se está ejecutando google colab.\n"
      ]
    },
    {
      "cell_type": "code",
      "execution_count": 1,
      "metadata": {
        "colab": {
          "base_uri": "https://localhost:8080/"
        },
        "id": "dvaESH8bw1xE",
        "outputId": "5590279b-a833-4f24-9021-54b2e9674b4d"
      },
      "outputs": [
        {
          "name": "stdout",
          "output_type": "stream",
          "text": [
            "--2024-02-16 19:55:11--  https://docs.google.com/uc?export=download&id=1UAeE2IQvuFxvwep1ThK7_DnpBfUB7eyr\n",
            "Resolving docs.google.com (docs.google.com)... 172.217.28.110\n",
            "Connecting to docs.google.com (docs.google.com)|172.217.28.110|:443... connected.\n"
          ]
        },
        {
          "name": "stdout",
          "output_type": "stream",
          "text": [
            "HTTP request sent, awaiting response... 303 See Other\n",
            "Location: https://drive.usercontent.google.com/download?id=1UAeE2IQvuFxvwep1ThK7_DnpBfUB7eyr&export=download [following]\n",
            "--2024-02-16 19:55:11--  https://drive.usercontent.google.com/download?id=1UAeE2IQvuFxvwep1ThK7_DnpBfUB7eyr&export=download\n",
            "Resolving drive.usercontent.google.com (drive.usercontent.google.com)... 142.250.78.65\n",
            "Connecting to drive.usercontent.google.com (drive.usercontent.google.com)|142.250.78.65|:443... connected.\n",
            "HTTP request sent, awaiting response... 200 OK\n",
            "Length: 222579 (217K) [application/octet-stream]\n",
            "Saving to: ‘data_spotify.csv’\n",
            "\n",
            "data_spotify.csv    100%[===================>] 217.36K   922KB/s    in 0.2s    \n",
            "\n",
            "2024-02-16 19:55:12 (922 KB/s) - ‘data_spotify.csv’ saved [222579/222579]\n",
            "\n"
          ]
        }
      ],
      "source": [
        "!wget --no-check-certificate 'https://docs.google.com/uc?export=download&id=1UAeE2IQvuFxvwep1ThK7_DnpBfUB7eyr' -O data_spotify.csv\n",
        "\n"
      ]
    },
    {
      "cell_type": "markdown",
      "metadata": {
        "id": "3jEPjI2JxQkn"
      },
      "source": [
        "## **Descarga de datos (opción 2)**\n",
        "\n",
        "Vincular google colab con google drive\n",
        "\n",
        "https://www.youtube.com/watch?v=6UnCrulz-fE\n"
      ]
    },
    {
      "cell_type": "markdown",
      "metadata": {
        "id": "dezqH47XyxXp"
      },
      "source": [
        "## **Importar librerías necesarias**\n"
      ]
    },
    {
      "cell_type": "code",
      "execution_count": 2,
      "metadata": {
        "id": "TjdstBiByoH9"
      },
      "outputs": [],
      "source": [
        "import sys\n",
        "\n",
        "import seaborn as sns\n",
        "\n",
        "%matplotlib inline\n",
        "import numpy as np\n",
        "import pandas as pd\n",
        "from IPython.display import HTML\n",
        "\n",
        "sys.path.append(\"code/.\")\n",
        "\n",
        "from IPython.display import display\n",
        "\n",
        "# Preprocessing and pipeline\n",
        "from sklearn.impute import SimpleImputer\n",
        "\n",
        "# train test split and cross validation\n",
        "from sklearn.model_selection import cross_val_score, cross_validate, train_test_split\n",
        "from sklearn.neighbors import KNeighborsClassifier\n",
        "from sklearn.pipeline import Pipeline\n",
        "\n",
        "pd.set_option(\"display.max_colwidth\", 200)"
      ]
    },
    {
      "cell_type": "markdown",
      "metadata": {
        "id": "FK23F-k6yEq4"
      },
      "source": [
        "## **Entrenamiento del modelo**\n"
      ]
    },
    {
      "cell_type": "code",
      "execution_count": 3,
      "metadata": {
        "colab": {
          "base_uri": "https://localhost:8080/",
          "height": 339
        },
        "id": "fECV1u8TyDHn",
        "outputId": "cbfe05ec-7239-412c-a82a-4c1b0a23eae9"
      },
      "outputs": [
        {
          "data": {
            "text/html": [
              "<div>\n",
              "<style scoped>\n",
              "    .dataframe tbody tr th:only-of-type {\n",
              "        vertical-align: middle;\n",
              "    }\n",
              "\n",
              "    .dataframe tbody tr th {\n",
              "        vertical-align: top;\n",
              "    }\n",
              "\n",
              "    .dataframe thead th {\n",
              "        text-align: right;\n",
              "    }\n",
              "</style>\n",
              "<table border=\"1\" class=\"dataframe\">\n",
              "  <thead>\n",
              "    <tr style=\"text-align: right;\">\n",
              "      <th></th>\n",
              "      <th>acousticness</th>\n",
              "      <th>danceability</th>\n",
              "      <th>duration_ms</th>\n",
              "      <th>energy</th>\n",
              "      <th>instrumentalness</th>\n",
              "      <th>key</th>\n",
              "      <th>liveness</th>\n",
              "      <th>loudness</th>\n",
              "      <th>mode</th>\n",
              "      <th>speechiness</th>\n",
              "      <th>tempo</th>\n",
              "      <th>time_signature</th>\n",
              "      <th>valence</th>\n",
              "      <th>target</th>\n",
              "      <th>song_title</th>\n",
              "      <th>artist</th>\n",
              "    </tr>\n",
              "  </thead>\n",
              "  <tbody>\n",
              "    <tr>\n",
              "      <th>0</th>\n",
              "      <td>0.0102</td>\n",
              "      <td>0.833</td>\n",
              "      <td>204600</td>\n",
              "      <td>0.434</td>\n",
              "      <td>0.021900</td>\n",
              "      <td>2</td>\n",
              "      <td>0.1650</td>\n",
              "      <td>-8.795</td>\n",
              "      <td>1</td>\n",
              "      <td>0.4310</td>\n",
              "      <td>150.062</td>\n",
              "      <td>4.0</td>\n",
              "      <td>0.286</td>\n",
              "      <td>1</td>\n",
              "      <td>Mask Off</td>\n",
              "      <td>Future</td>\n",
              "    </tr>\n",
              "    <tr>\n",
              "      <th>1</th>\n",
              "      <td>0.1990</td>\n",
              "      <td>0.743</td>\n",
              "      <td>326933</td>\n",
              "      <td>0.359</td>\n",
              "      <td>0.006110</td>\n",
              "      <td>1</td>\n",
              "      <td>0.1370</td>\n",
              "      <td>-10.401</td>\n",
              "      <td>1</td>\n",
              "      <td>0.0794</td>\n",
              "      <td>160.083</td>\n",
              "      <td>4.0</td>\n",
              "      <td>0.588</td>\n",
              "      <td>1</td>\n",
              "      <td>Redbone</td>\n",
              "      <td>Childish Gambino</td>\n",
              "    </tr>\n",
              "    <tr>\n",
              "      <th>2</th>\n",
              "      <td>0.0344</td>\n",
              "      <td>0.838</td>\n",
              "      <td>185707</td>\n",
              "      <td>0.412</td>\n",
              "      <td>0.000234</td>\n",
              "      <td>2</td>\n",
              "      <td>0.1590</td>\n",
              "      <td>-7.148</td>\n",
              "      <td>1</td>\n",
              "      <td>0.2890</td>\n",
              "      <td>75.044</td>\n",
              "      <td>4.0</td>\n",
              "      <td>0.173</td>\n",
              "      <td>1</td>\n",
              "      <td>Xanny Family</td>\n",
              "      <td>Future</td>\n",
              "    </tr>\n",
              "    <tr>\n",
              "      <th>3</th>\n",
              "      <td>0.6040</td>\n",
              "      <td>0.494</td>\n",
              "      <td>199413</td>\n",
              "      <td>0.338</td>\n",
              "      <td>0.510000</td>\n",
              "      <td>5</td>\n",
              "      <td>0.0922</td>\n",
              "      <td>-15.236</td>\n",
              "      <td>1</td>\n",
              "      <td>0.0261</td>\n",
              "      <td>86.468</td>\n",
              "      <td>4.0</td>\n",
              "      <td>0.230</td>\n",
              "      <td>1</td>\n",
              "      <td>Master Of None</td>\n",
              "      <td>Beach House</td>\n",
              "    </tr>\n",
              "    <tr>\n",
              "      <th>4</th>\n",
              "      <td>0.1800</td>\n",
              "      <td>0.678</td>\n",
              "      <td>392893</td>\n",
              "      <td>0.561</td>\n",
              "      <td>0.512000</td>\n",
              "      <td>5</td>\n",
              "      <td>0.4390</td>\n",
              "      <td>-11.648</td>\n",
              "      <td>0</td>\n",
              "      <td>0.0694</td>\n",
              "      <td>174.004</td>\n",
              "      <td>4.0</td>\n",
              "      <td>0.904</td>\n",
              "      <td>1</td>\n",
              "      <td>Parallel Lines</td>\n",
              "      <td>Junior Boys</td>\n",
              "    </tr>\n",
              "  </tbody>\n",
              "</table>\n",
              "</div>"
            ],
            "text/plain": [
              "   acousticness  danceability  duration_ms  energy  instrumentalness  key  \\\n",
              "0        0.0102         0.833       204600   0.434          0.021900    2   \n",
              "1        0.1990         0.743       326933   0.359          0.006110    1   \n",
              "2        0.0344         0.838       185707   0.412          0.000234    2   \n",
              "3        0.6040         0.494       199413   0.338          0.510000    5   \n",
              "4        0.1800         0.678       392893   0.561          0.512000    5   \n",
              "\n",
              "   liveness  loudness  mode  speechiness    tempo  time_signature  valence  \\\n",
              "0    0.1650    -8.795     1       0.4310  150.062             4.0    0.286   \n",
              "1    0.1370   -10.401     1       0.0794  160.083             4.0    0.588   \n",
              "2    0.1590    -7.148     1       0.2890   75.044             4.0    0.173   \n",
              "3    0.0922   -15.236     1       0.0261   86.468             4.0    0.230   \n",
              "4    0.4390   -11.648     0       0.0694  174.004             4.0    0.904   \n",
              "\n",
              "   target      song_title            artist  \n",
              "0       1        Mask Off            Future  \n",
              "1       1         Redbone  Childish Gambino  \n",
              "2       1    Xanny Family            Future  \n",
              "3       1  Master Of None       Beach House  \n",
              "4       1  Parallel Lines       Junior Boys  "
            ]
          },
          "execution_count": 3,
          "metadata": {},
          "output_type": "execute_result"
        }
      ],
      "source": [
        "# Cargar los datos\n",
        "spotify_df = pd.read_csv(\"data_spotify.csv\", index_col=0)\n",
        "spotify_df.head()"
      ]
    },
    {
      "cell_type": "code",
      "execution_count": 4,
      "metadata": {
        "id": "OSZjihZRzl3e"
      },
      "outputs": [],
      "source": [
        "# Particiones de entrenamiento, validación y prueba\n",
        "train_df, test_df = train_test_split(spotify_df, test_size=0.20, random_state=123)\n",
        "train_df, val_df = train_test_split(train_df, test_size=0.20, random_state=123)"
      ]
    },
    {
      "cell_type": "code",
      "execution_count": 5,
      "metadata": {
        "id": "KGVsHVM2z623"
      },
      "outputs": [],
      "source": [
        "# Definir variable objetivo y eliminar variables no numéricas\n",
        "X_train, y_train = (\n",
        "    train_df.drop(columns=[\"song_title\", \"artist\", \"target\"]),\n",
        "    train_df[\"target\"],\n",
        ")\n",
        "\n",
        "X_val, y_val = (\n",
        "    val_df.drop(columns=[\"song_title\", \"artist\", \"target\"]),\n",
        "    val_df[\"target\"],\n",
        ")\n",
        "\n",
        "X_test, y_test = (\n",
        "    test_df.drop(columns=[\"song_title\", \"artist\", \"target\"]),\n",
        "    test_df[\"target\"],\n",
        ")"
      ]
    },
    {
      "cell_type": "code",
      "execution_count": 6,
      "metadata": {
        "id": "OD_yhpUc0Uft"
      },
      "outputs": [],
      "source": [
        "# Crear un clasificador KNN con diferentes números de vecinos\n",
        "n_neighbors = [1, 3, 5, 7, 9, 11, 13, 15]\n",
        "accuracy = []\n",
        "\n",
        "for k in n_neighbors:\n",
        "    clf = Pipeline(steps=[(\"classifier\", KNeighborsClassifier(n_neighbors=k))])\n",
        "\n",
        "    # Entrenar el clasificador con los datos de entrenamiento\n",
        "    clf.fit(X_train, y_train)\n",
        "\n",
        "    # Evaluar el rendimiento del clasificador en los datos de validación\n",
        "    accuracy.append(clf.score(X_val, y_val))"
      ]
    },
    {
      "cell_type": "code",
      "execution_count": 7,
      "metadata": {
        "colab": {
          "base_uri": "https://localhost:8080/",
          "height": 525
        },
        "id": "OMEizkyR6ugB",
        "outputId": "201840ef-b521-428e-be06-e274a5da7da8"
      },
      "outputs": [
        {
          "data": {
            "text/plain": [
              "[Text(0.5, 0, 'Number of neighbors'),\n",
              " Text(0, 0.5, 'Accuracy (%)'),\n",
              " Text(0.5, 1.0, 'k-NN Classification')]"
            ]
          },
          "execution_count": 7,
          "metadata": {},
          "output_type": "execute_result"
        },
        {
          "data": {
            "image/png": "[encoded data removed]",
            "text/plain": [
              "<Figure size 640x480 with 1 Axes>"
            ]
          },
          "metadata": {},
          "output_type": "display_data"
        }
      ],
      "source": [
        "gfg = sns.barplot(x=n_neighbors, y=accuracy)\n",
        "gfg.set(\n",
        "    xlabel=\"Number of neighbors\", ylabel=\"Accuracy (%)\", title=\"k-NN Classification\"\n",
        ")"
      ]
    },
    {
      "cell_type": "code",
      "execution_count": 8,
      "metadata": {
        "colab": {
          "base_uri": "https://localhost:8080/"
        },
        "id": "k9alcOn-7ChG",
        "outputId": "f5af74a2-e654-441b-ee39-0379bf05071a"
      },
      "outputs": [
        {
          "name": "stdout",
          "output_type": "stream",
          "text": [
            "El número óptimo de vecinos es 11\n",
            "La tasa de acierto de clasificación en el conjunto de test es 0.56\n"
          ]
        }
      ],
      "source": [
        "# Re-entrenar el modelo con los datos de entrenamiento y validación para el valor de k óptimo\n",
        "k_opt = n_neighbors[np.argmax(accuracy)]\n",
        "print(f\"El número óptimo de vecinos es {k_opt}\")\n",
        "X_train_test = pd.concat([X_train, X_val], axis=0)\n",
        "y_train_test = np.hstack([y_train, y_val])\n",
        "\n",
        "clf = Pipeline(steps=[(\"classifier\", KNeighborsClassifier(n_neighbors=k_opt))])\n",
        "clf.fit(X_train_test, y_train_test)\n",
        "# Validar el rendimiento del clasificador con los datos de prueba\n",
        "accuracy = clf.score(X_test, y_test)\n",
        "\n",
        "print(f\"La tasa de acierto de clasificación en el conjunto de test es {accuracy:0.2f}\")"
      ]
    },
    {
      "cell_type": "markdown",
      "metadata": {
        "id": "fOZhd3xp8ZPH"
      },
      "source": [
        "## ¿Cómo se calculan los vecinos más cercanos?\n",
        "\n",
        "Notación matemática:\n",
        "\n",
        "Cada fila de un dataframe será para nosotros un vector de n posiciones (vector de características):\n",
        "\n",
        "$\\mathbf{x}^{(i)} = \\begin{bmatrix}\n",
        "x_1^{(i)} \\\\\n",
        "x_2^{(i)} \\\\\n",
        "\\vdots \\\\\n",
        "x_n^{(i)}\n",
        "\\end{bmatrix} \\in \\Re^{n}$\n",
        "\n",
        "El super-índice (i) denota la fila del dataframe\n",
        "\n",
        "La distancia euclidiana sirve para saber qué tan lejos o cerca están dos vectores de características. Se calcula de la siguiente forma:\n",
        "\n",
        "$d(\\mathbf{x}^{(1)},\\mathbf{x}^{(2)}) = \\sqrt{(x_1^{(1)} - x_1^{(2)})^2 + (x_2^{(1)} - x_2^{(2)})^2 + ... + (x_n^{(1)} - x_n^{(2)})^2}$\n"
      ]
    },
    {
      "cell_type": "code",
      "execution_count": 9,
      "metadata": {
        "colab": {
          "base_uri": "https://localhost:8080/",
          "height": 112
        },
        "id": "SVA7_T_P76M9",
        "outputId": "0d0c18c1-74ff-497b-d66d-7c623afb4127"
      },
      "outputs": [
        {
          "data": {
            "text/html": [
              "<div>\n",
              "<style scoped>\n",
              "    .dataframe tbody tr th:only-of-type {\n",
              "        vertical-align: middle;\n",
              "    }\n",
              "\n",
              "    .dataframe tbody tr th {\n",
              "        vertical-align: top;\n",
              "    }\n",
              "\n",
              "    .dataframe thead th {\n",
              "        text-align: right;\n",
              "    }\n",
              "</style>\n",
              "<table border=\"1\" class=\"dataframe\">\n",
              "  <thead>\n",
              "    <tr style=\"text-align: right;\">\n",
              "      <th></th>\n",
              "      <th>acousticness</th>\n",
              "      <th>danceability</th>\n",
              "      <th>duration_ms</th>\n",
              "      <th>energy</th>\n",
              "      <th>instrumentalness</th>\n",
              "      <th>key</th>\n",
              "      <th>liveness</th>\n",
              "      <th>loudness</th>\n",
              "      <th>mode</th>\n",
              "      <th>speechiness</th>\n",
              "      <th>tempo</th>\n",
              "      <th>time_signature</th>\n",
              "      <th>valence</th>\n",
              "    </tr>\n",
              "  </thead>\n",
              "  <tbody>\n",
              "    <tr>\n",
              "      <th>1870</th>\n",
              "      <td>0.07540</td>\n",
              "      <td>0.655</td>\n",
              "      <td>202163</td>\n",
              "      <td>0.873</td>\n",
              "      <td>0.0</td>\n",
              "      <td>7</td>\n",
              "      <td>0.105</td>\n",
              "      <td>-4.992</td>\n",
              "      <td>0</td>\n",
              "      <td>0.0692</td>\n",
              "      <td>130.018</td>\n",
              "      <td>4.0</td>\n",
              "      <td>0.571</td>\n",
              "    </tr>\n",
              "    <tr>\n",
              "      <th>69</th>\n",
              "      <td>0.00158</td>\n",
              "      <td>0.857</td>\n",
              "      <td>134062</td>\n",
              "      <td>0.831</td>\n",
              "      <td>0.0</td>\n",
              "      <td>2</td>\n",
              "      <td>0.154</td>\n",
              "      <td>-4.664</td>\n",
              "      <td>1</td>\n",
              "      <td>0.0995</td>\n",
              "      <td>106.059</td>\n",
              "      <td>4.0</td>\n",
              "      <td>0.251</td>\n",
              "    </tr>\n",
              "  </tbody>\n",
              "</table>\n",
              "</div>"
            ],
            "text/plain": [
              "      acousticness  danceability  duration_ms  energy  instrumentalness  key  \\\n",
              "1870       0.07540         0.655       202163   0.873               0.0    7   \n",
              "69         0.00158         0.857       134062   0.831               0.0    2   \n",
              "\n",
              "      liveness  loudness  mode  speechiness    tempo  time_signature  valence  \n",
              "1870     0.105    -4.992     0       0.0692  130.018             4.0    0.571  \n",
              "69       0.154    -4.664     1       0.0995  106.059             4.0    0.251  "
            ]
          },
          "execution_count": 9,
          "metadata": {},
          "output_type": "execute_result"
        }
      ],
      "source": [
        "# Tomemos dos filas del dataframe y calculemos la distancia euclidiana\n",
        "two_songs = X_train.sample(2, random_state=42)\n",
        "two_songs"
      ]
    },
    {
      "cell_type": "code",
      "execution_count": 10,
      "metadata": {
        "id": "d1RLKx0e-wVF"
      },
      "outputs": [],
      "source": [
        "from scipy.spatial.distance import pdist, squareform"
      ]
    },
    {
      "cell_type": "code",
      "execution_count": 11,
      "metadata": {
        "colab": {
          "base_uri": "https://localhost:8080/"
        },
        "id": "IHXgfaQ0-0e4",
        "outputId": "442277d8-34d9-4a86-d39a-fdb6d7b65521"
      },
      "outputs": [
        {
          "name": "stdout",
          "output_type": "stream",
          "text": [
            "[[    0.         68101.00440739]\n",
            " [68101.00440739     0.        ]]\n"
          ]
        }
      ],
      "source": [
        "dist_matrix = squareform(pdist(two_songs, metric=\"euclidean\"))\n",
        "print(dist_matrix)"
      ]
    },
    {
      "cell_type": "code",
      "execution_count": 12,
      "metadata": {
        "colab": {
          "base_uri": "https://localhost:8080/",
          "height": 112
        },
        "id": "2zog_cRq_GQB",
        "outputId": "f41e2555-546b-4ab5-b2d3-7672aa79e3b5"
      },
      "outputs": [
        {
          "data": {
            "text/html": [
              "<div>\n",
              "<style scoped>\n",
              "    .dataframe tbody tr th:only-of-type {\n",
              "        vertical-align: middle;\n",
              "    }\n",
              "\n",
              "    .dataframe tbody tr th {\n",
              "        vertical-align: top;\n",
              "    }\n",
              "\n",
              "    .dataframe thead th {\n",
              "        text-align: right;\n",
              "    }\n",
              "</style>\n",
              "<table border=\"1\" class=\"dataframe\">\n",
              "  <thead>\n",
              "    <tr style=\"text-align: right;\">\n",
              "      <th></th>\n",
              "      <th>duration_ms</th>\n",
              "      <th>tempo</th>\n",
              "    </tr>\n",
              "  </thead>\n",
              "  <tbody>\n",
              "    <tr>\n",
              "      <th>1870</th>\n",
              "      <td>202163</td>\n",
              "      <td>130.018</td>\n",
              "    </tr>\n",
              "    <tr>\n",
              "      <th>69</th>\n",
              "      <td>134062</td>\n",
              "      <td>106.059</td>\n",
              "    </tr>\n",
              "  </tbody>\n",
              "</table>\n",
              "</div>"
            ],
            "text/plain": [
              "      duration_ms    tempo\n",
              "1870       202163  130.018\n",
              "69         134062  106.059"
            ]
          },
          "execution_count": 12,
          "metadata": {},
          "output_type": "execute_result"
        }
      ],
      "source": [
        "# Consideremos ahora únicamente dos características (distancia y tiempo)\n",
        "two_songs_subset = two_songs[[\"duration_ms\", \"tempo\"]]\n",
        "two_songs_subset"
      ]
    },
    {
      "cell_type": "code",
      "execution_count": 13,
      "metadata": {
        "colab": {
          "base_uri": "https://localhost:8080/"
        },
        "id": "FALogOUV_Rih",
        "outputId": "0b2f2f38-fa07-4af3-8b1d-6000dfa87f79"
      },
      "outputs": [
        {
          "name": "stdout",
          "output_type": "stream",
          "text": [
            "[[    0.         68101.00421458]\n",
            " [68101.00421458     0.        ]]\n"
          ]
        }
      ],
      "source": [
        "dist_matrix = squareform(pdist(two_songs_subset, metric=\"euclidean\"))\n",
        "print(dist_matrix)"
      ]
    },
    {
      "cell_type": "markdown",
      "metadata": {
        "id": "HJtQ09W2_XDw"
      },
      "source": [
        "¿Encontramos algún problema?\n",
        "\n",
        "- La distancia está completamente dominada por las características con valores más grandes.\n",
        "- Las características con valores más pequeños están siendo ignoradas.\n",
        "- ¿Importa?\n",
        "  - ¡Sí! La escala se basa en cómo se recopilaron los datos.\n",
        "  - Las características en una escala más pequeña pueden ser altamente informativas y no hay una buena razón para ignorarlas.\n",
        "  - Queremos que nuestro modelo sea robusto y no sea sensible a la escala.\n",
        "\n",
        "Este problema aplica para todos los modelos que usan distancias en su formulación, regresión lineal, logística, redes neuronales.\n",
        "\n",
        "¡No aplica para modelos basados en árboles de decisión!\n"
      ]
    },
    {
      "cell_type": "markdown",
      "metadata": {
        "id": "Z_lmUJnZAh9V"
      },
      "source": [
        "### Escalamiento usando [`StandardScaler`](https://scikit-learn.org/stable/modules/generated/sklearn.preprocessing.StandardScaler.html) de `scikit-learn`\n",
        "\n",
        "- Utilizaremos [`StandardScaler`](https://scikit-learn.org/stable/modules/generated/sklearn.preprocessing.StandardScaler.html) de `scikit-learn`, que es un `transformer`.\n",
        "- Por ahora nos centraremos en la sintaxis.\n"
      ]
    },
    {
      "cell_type": "code",
      "execution_count": 14,
      "metadata": {
        "id": "DvFYw5IPASvv"
      },
      "outputs": [],
      "source": [
        "from sklearn.preprocessing import StandardScaler\n",
        "\n",
        "scaler = StandardScaler()  # Crear objeto transformador de características\n",
        "scaler.fit(X_train)  # ajustar el transformador en la división de entrenamiento\n",
        "X_train_scaled = scaler.transform(X_train)  # transformar la división de entrenamiento\n",
        "X_val_scaled = scaler.transform(X_val)  # transformar la división de validación\n",
        "X_test_scaled = scaler.transform(X_test)  # transformar la división de prueba"
      ]
    },
    {
      "cell_type": "code",
      "execution_count": 15,
      "metadata": {
        "colab": {
          "base_uri": "https://localhost:8080/",
          "height": 423
        },
        "id": "UtbBzqURCSRc",
        "outputId": "5a43d943-9a27-4033-c52b-0d2fb4ab5150"
      },
      "outputs": [
        {
          "data": {
            "text/html": [
              "<div>\n",
              "<style scoped>\n",
              "    .dataframe tbody tr th:only-of-type {\n",
              "        vertical-align: middle;\n",
              "    }\n",
              "\n",
              "    .dataframe tbody tr th {\n",
              "        vertical-align: top;\n",
              "    }\n",
              "\n",
              "    .dataframe thead th {\n",
              "        text-align: right;\n",
              "    }\n",
              "</style>\n",
              "<table border=\"1\" class=\"dataframe\">\n",
              "  <thead>\n",
              "    <tr style=\"text-align: right;\">\n",
              "      <th></th>\n",
              "      <th>acousticness</th>\n",
              "      <th>danceability</th>\n",
              "      <th>duration_ms</th>\n",
              "      <th>energy</th>\n",
              "      <th>instrumentalness</th>\n",
              "      <th>key</th>\n",
              "      <th>liveness</th>\n",
              "      <th>loudness</th>\n",
              "      <th>mode</th>\n",
              "      <th>speechiness</th>\n",
              "      <th>tempo</th>\n",
              "      <th>time_signature</th>\n",
              "      <th>valence</th>\n",
              "    </tr>\n",
              "  </thead>\n",
              "  <tbody>\n",
              "    <tr>\n",
              "      <th>432</th>\n",
              "      <td>0.19800</td>\n",
              "      <td>0.507</td>\n",
              "      <td>286413</td>\n",
              "      <td>0.739</td>\n",
              "      <td>0.865000</td>\n",
              "      <td>2</td>\n",
              "      <td>0.1850</td>\n",
              "      <td>-9.728</td>\n",
              "      <td>1</td>\n",
              "      <td>0.0400</td>\n",
              "      <td>87.569</td>\n",
              "      <td>4.0</td>\n",
              "      <td>0.170</td>\n",
              "    </tr>\n",
              "    <tr>\n",
              "      <th>1673</th>\n",
              "      <td>0.11400</td>\n",
              "      <td>0.858</td>\n",
              "      <td>290836</td>\n",
              "      <td>0.697</td>\n",
              "      <td>0.000000</td>\n",
              "      <td>2</td>\n",
              "      <td>0.2240</td>\n",
              "      <td>-5.361</td>\n",
              "      <td>1</td>\n",
              "      <td>0.2300</td>\n",
              "      <td>98.012</td>\n",
              "      <td>4.0</td>\n",
              "      <td>0.365</td>\n",
              "    </tr>\n",
              "    <tr>\n",
              "      <th>1172</th>\n",
              "      <td>0.02350</td>\n",
              "      <td>0.667</td>\n",
              "      <td>172893</td>\n",
              "      <td>0.648</td>\n",
              "      <td>0.000015</td>\n",
              "      <td>3</td>\n",
              "      <td>0.0427</td>\n",
              "      <td>-6.398</td>\n",
              "      <td>0</td>\n",
              "      <td>0.0626</td>\n",
              "      <td>95.031</td>\n",
              "      <td>4.0</td>\n",
              "      <td>0.585</td>\n",
              "    </tr>\n",
              "    <tr>\n",
              "      <th>961</th>\n",
              "      <td>0.08530</td>\n",
              "      <td>0.864</td>\n",
              "      <td>126467</td>\n",
              "      <td>0.552</td>\n",
              "      <td>0.778000</td>\n",
              "      <td>5</td>\n",
              "      <td>0.0940</td>\n",
              "      <td>-8.851</td>\n",
              "      <td>0</td>\n",
              "      <td>0.0495</td>\n",
              "      <td>112.378</td>\n",
              "      <td>4.0</td>\n",
              "      <td>0.740</td>\n",
              "    </tr>\n",
              "    <tr>\n",
              "      <th>1964</th>\n",
              "      <td>0.00513</td>\n",
              "      <td>0.685</td>\n",
              "      <td>267947</td>\n",
              "      <td>0.948</td>\n",
              "      <td>0.003470</td>\n",
              "      <td>9</td>\n",
              "      <td>0.1700</td>\n",
              "      <td>-5.182</td>\n",
              "      <td>1</td>\n",
              "      <td>0.0457</td>\n",
              "      <td>104.881</td>\n",
              "      <td>4.0</td>\n",
              "      <td>0.627</td>\n",
              "    </tr>\n",
              "    <tr>\n",
              "      <th>...</th>\n",
              "      <td>...</td>\n",
              "      <td>...</td>\n",
              "      <td>...</td>\n",
              "      <td>...</td>\n",
              "      <td>...</td>\n",
              "      <td>...</td>\n",
              "      <td>...</td>\n",
              "      <td>...</td>\n",
              "      <td>...</td>\n",
              "      <td>...</td>\n",
              "      <td>...</td>\n",
              "      <td>...</td>\n",
              "      <td>...</td>\n",
              "    </tr>\n",
              "    <tr>\n",
              "      <th>1967</th>\n",
              "      <td>0.00141</td>\n",
              "      <td>0.895</td>\n",
              "      <td>179000</td>\n",
              "      <td>0.883</td>\n",
              "      <td>0.000383</td>\n",
              "      <td>7</td>\n",
              "      <td>0.2740</td>\n",
              "      <td>-8.919</td>\n",
              "      <td>1</td>\n",
              "      <td>0.2160</td>\n",
              "      <td>131.644</td>\n",
              "      <td>4.0</td>\n",
              "      <td>0.893</td>\n",
              "    </tr>\n",
              "    <tr>\n",
              "      <th>1417</th>\n",
              "      <td>0.04150</td>\n",
              "      <td>0.370</td>\n",
              "      <td>250240</td>\n",
              "      <td>0.870</td>\n",
              "      <td>0.000000</td>\n",
              "      <td>5</td>\n",
              "      <td>0.6040</td>\n",
              "      <td>-2.090</td>\n",
              "      <td>1</td>\n",
              "      <td>0.2710</td>\n",
              "      <td>79.092</td>\n",
              "      <td>4.0</td>\n",
              "      <td>0.334</td>\n",
              "    </tr>\n",
              "    <tr>\n",
              "      <th>575</th>\n",
              "      <td>0.00470</td>\n",
              "      <td>0.777</td>\n",
              "      <td>309180</td>\n",
              "      <td>0.688</td>\n",
              "      <td>0.690000</td>\n",
              "      <td>8</td>\n",
              "      <td>0.0960</td>\n",
              "      <td>-8.692</td>\n",
              "      <td>0</td>\n",
              "      <td>0.0681</td>\n",
              "      <td>126.019</td>\n",
              "      <td>4.0</td>\n",
              "      <td>0.180</td>\n",
              "    </tr>\n",
              "    <tr>\n",
              "      <th>686</th>\n",
              "      <td>0.35600</td>\n",
              "      <td>0.667</td>\n",
              "      <td>234994</td>\n",
              "      <td>0.901</td>\n",
              "      <td>0.003930</td>\n",
              "      <td>9</td>\n",
              "      <td>0.0774</td>\n",
              "      <td>-3.719</td>\n",
              "      <td>0</td>\n",
              "      <td>0.0275</td>\n",
              "      <td>140.026</td>\n",
              "      <td>4.0</td>\n",
              "      <td>0.824</td>\n",
              "    </tr>\n",
              "    <tr>\n",
              "      <th>1178</th>\n",
              "      <td>0.01300</td>\n",
              "      <td>0.853</td>\n",
              "      <td>206693</td>\n",
              "      <td>0.560</td>\n",
              "      <td>0.000000</td>\n",
              "      <td>1</td>\n",
              "      <td>0.0944</td>\n",
              "      <td>-4.961</td>\n",
              "      <td>1</td>\n",
              "      <td>0.0406</td>\n",
              "      <td>134.066</td>\n",
              "      <td>4.0</td>\n",
              "      <td>0.853</td>\n",
              "    </tr>\n",
              "  </tbody>\n",
              "</table>\n",
              "<p>1290 rows × 13 columns</p>\n",
              "</div>"
            ],
            "text/plain": [
              "      acousticness  danceability  duration_ms  energy  instrumentalness  key  \\\n",
              "432        0.19800         0.507       286413   0.739          0.865000    2   \n",
              "1673       0.11400         0.858       290836   0.697          0.000000    2   \n",
              "1172       0.02350         0.667       172893   0.648          0.000015    3   \n",
              "961        0.08530         0.864       126467   0.552          0.778000    5   \n",
              "1964       0.00513         0.685       267947   0.948          0.003470    9   \n",
              "...            ...           ...          ...     ...               ...  ...   \n",
              "1967       0.00141         0.895       179000   0.883          0.000383    7   \n",
              "1417       0.04150         0.370       250240   0.870          0.000000    5   \n",
              "575        0.00470         0.777       309180   0.688          0.690000    8   \n",
              "686        0.35600         0.667       234994   0.901          0.003930    9   \n",
              "1178       0.01300         0.853       206693   0.560          0.000000    1   \n",
              "\n",
              "      liveness  loudness  mode  speechiness    tempo  time_signature  valence  \n",
              "432     0.1850    -9.728     1       0.0400   87.569             4.0    0.170  \n",
              "1673    0.2240    -5.361     1       0.2300   98.012             4.0    0.365  \n",
              "1172    0.0427    -6.398     0       0.0626   95.031             4.0    0.585  \n",
              "961     0.0940    -8.851     0       0.0495  112.378             4.0    0.740  \n",
              "1964    0.1700    -5.182     1       0.0457  104.881             4.0    0.627  \n",
              "...        ...       ...   ...          ...      ...             ...      ...  \n",
              "1967    0.2740    -8.919     1       0.2160  131.644             4.0    0.893  \n",
              "1417    0.6040    -2.090     1       0.2710   79.092             4.0    0.334  \n",
              "575     0.0960    -8.692     0       0.0681  126.019             4.0    0.180  \n",
              "686     0.0774    -3.719     0       0.0275  140.026             4.0    0.824  \n",
              "1178    0.0944    -4.961     1       0.0406  134.066             4.0    0.853  \n",
              "\n",
              "[1290 rows x 13 columns]"
            ]
          },
          "execution_count": 15,
          "metadata": {},
          "output_type": "execute_result"
        }
      ],
      "source": [
        "X_train"
      ]
    },
    {
      "cell_type": "markdown",
      "metadata": {
        "id": "vZzU8qwgCe-d"
      },
      "source": [
        "Examinemos el valor transformado de la característica `energía` en la primera fila.\n"
      ]
    },
    {
      "cell_type": "code",
      "execution_count": 16,
      "metadata": {
        "colab": {
          "base_uri": "https://localhost:8080/"
        },
        "id": "uc2PVQlhCodB",
        "outputId": "1b73a8d8-9d33-4821-a3be-1a13d93219be"
      },
      "outputs": [
        {
          "data": {
            "text/plain": [
              "0.739"
            ]
          },
          "execution_count": 16,
          "metadata": {},
          "output_type": "execute_result"
        }
      ],
      "source": [
        "X_train[\"energy\"].iloc[0]"
      ]
    },
    {
      "cell_type": "code",
      "execution_count": 17,
      "metadata": {
        "colab": {
          "base_uri": "https://localhost:8080/"
        },
        "id": "jqLxodKVCwsX",
        "outputId": "7c3e4444-c2a8-45c8-9235-1602a7d79baf"
      },
      "outputs": [
        {
          "data": {
            "text/plain": [
              "0.28059979079502617"
            ]
          },
          "execution_count": 17,
          "metadata": {},
          "output_type": "execute_result"
        }
      ],
      "source": [
        "(X_train[\"energy\"].iloc[0] - np.mean(X_train[\"energy\"])) / X_train[\"energy\"].std()"
      ]
    },
    {
      "cell_type": "code",
      "execution_count": 18,
      "metadata": {
        "colab": {
          "base_uri": "https://localhost:8080/",
          "height": 206
        },
        "id": "36W2ay3lC4F7",
        "outputId": "a6812c7e-050b-4a3a-b044-319622b76906"
      },
      "outputs": [
        {
          "data": {
            "text/html": [
              "<div>\n",
              "<style scoped>\n",
              "    .dataframe tbody tr th:only-of-type {\n",
              "        vertical-align: middle;\n",
              "    }\n",
              "\n",
              "    .dataframe tbody tr th {\n",
              "        vertical-align: top;\n",
              "    }\n",
              "\n",
              "    .dataframe thead th {\n",
              "        text-align: right;\n",
              "    }\n",
              "</style>\n",
              "<table border=\"1\" class=\"dataframe\">\n",
              "  <thead>\n",
              "    <tr style=\"text-align: right;\">\n",
              "      <th></th>\n",
              "      <th>acousticness</th>\n",
              "      <th>danceability</th>\n",
              "      <th>duration_ms</th>\n",
              "      <th>energy</th>\n",
              "      <th>instrumentalness</th>\n",
              "      <th>key</th>\n",
              "      <th>liveness</th>\n",
              "      <th>loudness</th>\n",
              "      <th>mode</th>\n",
              "      <th>speechiness</th>\n",
              "      <th>tempo</th>\n",
              "      <th>time_signature</th>\n",
              "      <th>valence</th>\n",
              "    </tr>\n",
              "  </thead>\n",
              "  <tbody>\n",
              "    <tr>\n",
              "      <th>432</th>\n",
              "      <td>0.035</td>\n",
              "      <td>-0.665</td>\n",
              "      <td>0.480</td>\n",
              "      <td>0.281</td>\n",
              "      <td>2.614</td>\n",
              "      <td>-0.906</td>\n",
              "      <td>-0.024</td>\n",
              "      <td>-0.661</td>\n",
              "      <td>0.774</td>\n",
              "      <td>-0.596</td>\n",
              "      <td>-1.282</td>\n",
              "      <td>0.163</td>\n",
              "      <td>-1.317</td>\n",
              "    </tr>\n",
              "    <tr>\n",
              "      <th>1673</th>\n",
              "      <td>-0.284</td>\n",
              "      <td>1.493</td>\n",
              "      <td>0.534</td>\n",
              "      <td>0.086</td>\n",
              "      <td>-0.493</td>\n",
              "      <td>-0.906</td>\n",
              "      <td>0.228</td>\n",
              "      <td>0.473</td>\n",
              "      <td>0.774</td>\n",
              "      <td>1.608</td>\n",
              "      <td>-0.897</td>\n",
              "      <td>0.163</td>\n",
              "      <td>-0.520</td>\n",
              "    </tr>\n",
              "    <tr>\n",
              "      <th>1172</th>\n",
              "      <td>-0.628</td>\n",
              "      <td>0.319</td>\n",
              "      <td>-0.919</td>\n",
              "      <td>-0.141</td>\n",
              "      <td>-0.493</td>\n",
              "      <td>-0.632</td>\n",
              "      <td>-0.943</td>\n",
              "      <td>0.204</td>\n",
              "      <td>-1.293</td>\n",
              "      <td>-0.334</td>\n",
              "      <td>-1.007</td>\n",
              "      <td>0.163</td>\n",
              "      <td>0.378</td>\n",
              "    </tr>\n",
              "    <tr>\n",
              "      <th>961</th>\n",
              "      <td>-0.393</td>\n",
              "      <td>1.530</td>\n",
              "      <td>-1.491</td>\n",
              "      <td>-0.585</td>\n",
              "      <td>2.302</td>\n",
              "      <td>-0.084</td>\n",
              "      <td>-0.612</td>\n",
              "      <td>-0.433</td>\n",
              "      <td>-1.293</td>\n",
              "      <td>-0.486</td>\n",
              "      <td>-0.367</td>\n",
              "      <td>0.163</td>\n",
              "      <td>1.011</td>\n",
              "    </tr>\n",
              "    <tr>\n",
              "      <th>1964</th>\n",
              "      <td>-0.697</td>\n",
              "      <td>0.430</td>\n",
              "      <td>0.252</td>\n",
              "      <td>1.248</td>\n",
              "      <td>-0.481</td>\n",
              "      <td>1.011</td>\n",
              "      <td>-0.121</td>\n",
              "      <td>0.519</td>\n",
              "      <td>0.774</td>\n",
              "      <td>-0.530</td>\n",
              "      <td>-0.643</td>\n",
              "      <td>0.163</td>\n",
              "      <td>0.550</td>\n",
              "    </tr>\n",
              "  </tbody>\n",
              "</table>\n",
              "</div>"
            ],
            "text/plain": [
              "      acousticness  danceability  duration_ms  energy  instrumentalness  \\\n",
              "432          0.035        -0.665        0.480   0.281             2.614   \n",
              "1673        -0.284         1.493        0.534   0.086            -0.493   \n",
              "1172        -0.628         0.319       -0.919  -0.141            -0.493   \n",
              "961         -0.393         1.530       -1.491  -0.585             2.302   \n",
              "1964        -0.697         0.430        0.252   1.248            -0.481   \n",
              "\n",
              "        key  liveness  loudness   mode  speechiness  tempo  time_signature  \\\n",
              "432  -0.906    -0.024    -0.661  0.774       -0.596 -1.282           0.163   \n",
              "1673 -0.906     0.228     0.473  0.774        1.608 -0.897           0.163   \n",
              "1172 -0.632    -0.943     0.204 -1.293       -0.334 -1.007           0.163   \n",
              "961  -0.084    -0.612    -0.433 -1.293       -0.486 -0.367           0.163   \n",
              "1964  1.011    -0.121     0.519  0.774       -0.530 -0.643           0.163   \n",
              "\n",
              "      valence  \n",
              "432    -1.317  \n",
              "1673   -0.520  \n",
              "1172    0.378  \n",
              "961     1.011  \n",
              "1964    0.550  "
            ]
          },
          "execution_count": 18,
          "metadata": {},
          "output_type": "execute_result"
        }
      ],
      "source": [
        "pd.DataFrame(X_train_scaled, columns=X_train.columns, index=X_train.index).head().round(\n",
        "    3\n",
        ")"
      ]
    },
    {
      "cell_type": "markdown",
      "metadata": {
        "id": "31xbsJVgDVwf"
      },
      "source": [
        "## Paradigma `fit` y `transform` para transformadores\n",
        "\n",
        "- `sklearn` utiliza los paradigmas `fit` y `transform` para transformaciones de características.\n",
        "- Ajustamos el transformador en la división de entrenamiento y luego transformamos tanto la división de entrenamiento como la de prueba.\n",
        "- Aplicamos las mismas transformaciones en las divisiones de validacion y prueba.\n"
      ]
    },
    {
      "cell_type": "markdown",
      "metadata": {
        "id": "myIt6GF9EJ0Z"
      },
      "source": [
        "## Resumen de la API `sklearn`: transformadores\n",
        "\n",
        "Supongamos que transformer es un transformador utilizado para cambiar la representación de entrada, por ejemplo, para completar valores faltantes o escalar características numéricas.\n",
        "\n",
        "```\n",
        "transformer.fit(X_train, [y_train])\n",
        "X_train_transformed = transformer.transform(X_train)\n",
        "X_test_transformed = transformer.transform(X_test)\n",
        "```\n",
        "\n",
        "- Puedes pasar y_train en fit pero generalmente se ignora. Te permite pasarlo solo para ser coherente con el uso habitual del método fit de sklearn.\n",
        "- También puedes llevar a cabo el ajuste y la transformación en una sola llamada usando `fit_transform`. Pero ten en cuenta que debes usarlo solo en la división de entrenamiento y no en la división de validación o de prueba.\n"
      ]
    },
    {
      "cell_type": "markdown",
      "metadata": {
        "id": "x4uV9-y7EJ53"
      },
      "source": [
        "## Re-entrenamiento del modelo incluyendo el escalamiento\n"
      ]
    },
    {
      "cell_type": "code",
      "execution_count": 19,
      "metadata": {
        "id": "4zWGsqWLGHzO"
      },
      "outputs": [],
      "source": [
        "# Crear un clasificador KNN con diferentes números de vecinos\n",
        "n_neighbors = [1, 3, 5, 7, 9, 11, 13, 15]\n",
        "accuracy = []\n",
        "\n",
        "for k in n_neighbors:\n",
        "    clf = Pipeline(steps=[(\"classifier\", KNeighborsClassifier(n_neighbors=k))])\n",
        "\n",
        "    # Entrenar el clasificador con los datos de entrenamiento\n",
        "    clf.fit(X_train_scaled, y_train)\n",
        "\n",
        "    # Evaluar el rendimiento del clasificador en los datos de validación\n",
        "    accuracy.append(clf.score(X_val_scaled, y_val))"
      ]
    },
    {
      "cell_type": "code",
      "execution_count": 20,
      "metadata": {
        "colab": {
          "base_uri": "https://localhost:8080/"
        },
        "id": "RMXbxbyaGV1h",
        "outputId": "8262011e-e447-4ccb-cd47-afa942cc768a"
      },
      "outputs": [
        {
          "name": "stdout",
          "output_type": "stream",
          "text": [
            "El número óptimo de vecinos es 15\n",
            "La tasa de acierto de clasificación en el conjunto de test es 0.69\n"
          ]
        }
      ],
      "source": [
        "# Re-entrenar el modelo con los datos de entrenamiento y validación para el valor de k óptimo\n",
        "k_opt = n_neighbors[np.argmax(accuracy)]\n",
        "print(f\"El número óptimo de vecinos es {k_opt}\")\n",
        "X_train_test_scaled = np.vstack([X_train_scaled, X_val_scaled])\n",
        "y_train_test = np.hstack([y_train, y_val])\n",
        "\n",
        "clf = Pipeline(steps=[(\"classifier\", KNeighborsClassifier(n_neighbors=k_opt))])\n",
        "clf.fit(X_train_test_scaled, y_train_test)\n",
        "# Validar el rendimiento del clasificador con los datos de prueba\n",
        "accuracy = clf.score(X_test_scaled, y_test)\n",
        "\n",
        "print(f\"La tasa de acierto de clasificación en el conjunto de test es {accuracy:0.2f}\")"
      ]
    },
    {
      "cell_type": "markdown",
      "metadata": {
        "id": "n4xtg1m7G-Wi"
      },
      "source": [
        "La tasa de acierto es mejor (casi 10%) con los datos escalados\n"
      ]
    },
    {
      "cell_type": "markdown",
      "metadata": {
        "id": "Q0p4XHKJIaxA"
      },
      "source": [
        "### Utilizando `Pipelines` de `sklearn`\n",
        "\n",
        "Un pipeline en scikit-learn es un objeto que permite concatenar varios pasos de preprocesamiento y modelado en un solo estimador. Los pipelines son útiles para automatizar el flujo de trabajo, garantizar que los pasos se apliquen consistentemente en los conjuntos de entrenamiento y prueba, y facilitar la integración con la validación cruzada y la optimización de hiperparámetros.\n"
      ]
    },
    {
      "cell_type": "code",
      "execution_count": 21,
      "metadata": {
        "id": "71AG_1nNJKJO"
      },
      "outputs": [],
      "source": [
        "# Crear un clasificador KNN con diferentes números de vecinos\n",
        "n_neighbors = [1, 3, 5, 7, 9, 11, 13, 15]\n",
        "accuracy = []\n",
        "\n",
        "for k in n_neighbors:\n",
        "    clf = Pipeline(\n",
        "        steps=[\n",
        "            (\"preprocessor\", StandardScaler()),\n",
        "            (\"classifier\", KNeighborsClassifier(n_neighbors=k)),\n",
        "        ]\n",
        "    )\n",
        "\n",
        "    # Entrenar el clasificador con los datos de entrenamiento\n",
        "    clf.fit(X_train, y_train)\n",
        "\n",
        "    # Evaluar el rendimiento del clasificador en los datos de validación\n",
        "    accuracy.append(clf.score(X_val, y_val))"
      ]
    },
    {
      "cell_type": "code",
      "execution_count": 22,
      "metadata": {
        "colab": {
          "base_uri": "https://localhost:8080/",
          "height": 525
        },
        "id": "D4gxGHC9Jy8d",
        "outputId": "c099296d-3e0d-4a98-a208-349277ab6f75"
      },
      "outputs": [
        {
          "data": {
            "text/plain": [
              "[Text(0.5, 0, 'Number of neighbors'),\n",
              " Text(0, 0.5, 'Accuracy (%)'),\n",
              " Text(0.5, 1.0, 'k-NN Classification')]"
            ]
          },
          "execution_count": 22,
          "metadata": {},
          "output_type": "execute_result"
        },
        {
          "data": {
            "image/png": "[encoded data removed]",
            "text/plain": [
              "<Figure size 640x480 with 1 Axes>"
            ]
          },
          "metadata": {},
          "output_type": "display_data"
        }
      ],
      "source": [
        "gfg = sns.barplot(x=n_neighbors, y=accuracy)\n",
        "gfg.set(\n",
        "    xlabel=\"Number of neighbors\", ylabel=\"Accuracy (%)\", title=\"k-NN Classification\"\n",
        ")"
      ]
    },
    {
      "cell_type": "code",
      "execution_count": 23,
      "metadata": {
        "colab": {
          "base_uri": "https://localhost:8080/"
        },
        "id": "OIpjugk3J23B",
        "outputId": "99c7b057-3477-42aa-d59e-dde742bd3cee"
      },
      "outputs": [
        {
          "name": "stdout",
          "output_type": "stream",
          "text": [
            "El número óptimo de vecinos es 15\n",
            "La tasa de acierto de clasificación en el conjunto de test es 0.70\n"
          ]
        }
      ],
      "source": [
        "# Re-entrenar el modelo con los datos de entrenamiento y validación para el valor de k óptimo\n",
        "k_opt = n_neighbors[np.argmax(accuracy)]\n",
        "print(f\"El número óptimo de vecinos es {k_opt}\")\n",
        "X_train_test = pd.concat([X_train, X_val], axis=0)\n",
        "y_train_test = np.hstack([y_train, y_val])\n",
        "\n",
        "clf = Pipeline(\n",
        "    steps=[\n",
        "        (\"preprocessor\", StandardScaler()),\n",
        "        (\"classifier\", KNeighborsClassifier(n_neighbors=k_opt)),\n",
        "    ]\n",
        ")\n",
        "clf.fit(X_train_test, y_train_test)\n",
        "# Validar el rendimiento del clasificador con los datos de prueba\n",
        "accuracy = clf.score(X_test, y_test)\n",
        "\n",
        "print(f\"La tasa de acierto de clasificación en el conjunto de test es {accuracy:0.2f}\")"
      ]
    }
  ],
  "metadata": {
    "colab": {
      "include_colab_link": true,
      "provenance": []
    },
    "kernelspec": {
      "display_name": "Python 3",
      "name": "python3"
    },
    "language_info": {
      "codemirror_mode": {
        "name": "ipython",
        "version": 3
      },
      "file_extension": ".py",
      "mimetype": "text/x-python",
      "name": "python",
      "nbconvert_exporter": "python",
      "pygments_lexer": "ipython3",
      "version": "3.11.5"
    }
  },
  "nbformat": 4,
  "nbformat_minor": 0
}
