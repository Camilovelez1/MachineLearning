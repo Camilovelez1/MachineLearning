{
  "cells": [
    {
      "cell_type": "markdown",
      "metadata": {
        "colab_type": "text",
        "id": "view-in-github"
      },
      "source": [
        "<a href=\"https://colab.research.google.com/github/jdmartinev/MachineLearning/blob/main/Clase01/Notebooks/b_KNN.ipynb\" target=\"_parent\"><img src=\"https://colab.research.google.com/assets/colab-badge.svg\" alt=\"Open In Colab\"/></a>\n"
      ]
    },
    {
      "cell_type": "markdown",
      "metadata": {
        "id": "hBivF5hcIhQE"
      },
      "source": [
        "# **Clase 01 - $k$ Vecinos más cercanos (kNN)**\n",
        "\n",
        "En este notebook, construiremos un clasificador de $k$ vecinos más cercanos para predecir el `Outcome type` de la base de datos.\n",
        "\n",
        "1. <a href=\"#1\">Leer la base de datos</a>\n",
        "2. <a href=\"#2\">Análisis exploratorio de datos</a>\n",
        "3. <a href=\"#3\">Selección de características para construir el modelo</a>\n",
        "4. <a href=\"#4\">Conjuntos de entrenamiento y prueba</a>\n",
        "5. <a href=\"#5\">Procesamiento de datos con `Pipeline`</a>\n",
        "6. <a href=\"#6\">Entrenar un clasificador</a>\n",
        "7. <a href=\"#7\">Validar el rendimiento del clasificador</a>\n",
        "8. <a href=\"#8\">Ideas de mejoramiento de los clasificadores</a>\n"
      ]
    },
    {
      "cell_type": "markdown",
      "metadata": {
        "id": "P8ZCF5eXJkgn"
      },
      "source": [
        "## 1. <a name=\"1\">Leer la base de datos</a>\n",
        "\n",
        "Vamos a cargar la base de datos en un `dataframe` usando `Pandas`\n"
      ]
    },
    {
      "cell_type": "code",
      "execution_count": 2,
      "metadata": {
        "colab": {
          "base_uri": "https://localhost:8080/"
        },
        "id": "8gyLIO3nIZ7a",
        "outputId": "e4bbaf6f-37e5-4a39-cef4-57ed7b3d8f4a"
      },
      "outputs": [
        {
          "name": "stdout",
          "output_type": "stream",
          "text": [
            "--2023-08-08 23:05:16--  https://docs.google.com/uc?export=download&id=1w5IeXLpWOCC5TNNPG3hojbvxi_2rd7gL\n",
            "Resolving docs.google.com (docs.google.com)... 74.125.143.100, 74.125.143.138, 74.125.143.113, ...\n",
            "Connecting to docs.google.com (docs.google.com)|74.125.143.100|:443... connected.\n",
            "HTTP request sent, awaiting response... 303 See Other\n",
            "Location: https://doc-0g-bk-docs.googleusercontent.com/docs/securesc/ha0ro937gcuc7l7deffksulhg5h7mbp1/koa2eebj9ikmh5jab68kf4tphpel7sna/1691535900000/02109188480849179502/*/1w5IeXLpWOCC5TNNPG3hojbvxi_2rd7gL?e=download&uuid=dbc79b21-e6c7-4f0b-a139-00a2061f84e4 [following]\n",
            "Warning: wildcards not supported in HTTP.\n",
            "--2023-08-08 23:05:19--  https://doc-0g-bk-docs.googleusercontent.com/docs/securesc/ha0ro937gcuc7l7deffksulhg5h7mbp1/koa2eebj9ikmh5jab68kf4tphpel7sna/1691535900000/02109188480849179502/*/1w5IeXLpWOCC5TNNPG3hojbvxi_2rd7gL?e=download&uuid=dbc79b21-e6c7-4f0b-a139-00a2061f84e4\n",
            "Resolving doc-0g-bk-docs.googleusercontent.com (doc-0g-bk-docs.googleusercontent.com)... 142.251.31.132, 2a00:1450:4013:c1a::84\n",
            "Connecting to doc-0g-bk-docs.googleusercontent.com (doc-0g-bk-docs.googleusercontent.com)|142.251.31.132|:443... connected.\n",
            "HTTP request sent, awaiting response... 200 OK\n",
            "Length: 12529527 (12M) [text/csv]\n",
            "Saving to: ‘data.csv’\n",
            "\n",
            "data.csv            100%[===================>]  11.95M  47.5MB/s    in 0.3s    \n",
            "\n",
            "2023-08-08 23:05:20 (47.5 MB/s) - ‘data.csv’ saved [12529527/12529527]\n",
            "\n"
          ]
        }
      ],
      "source": [
        "!wget --no-check-certificate 'https://docs.google.com/uc?export=download&id=1w5IeXLpWOCC5TNNPG3hojbvxi_2rd7gL' -O data.csv"
      ]
    },
    {
      "cell_type": "code",
      "execution_count": 3,
      "metadata": {
        "id": "VX0-W2-9J6D6"
      },
      "outputs": [],
      "source": [
        "import pandas as pd\n",
        "import numpy as np\n",
        "\n",
        "import matplotlib.pyplot as plt"
      ]
    },
    {
      "cell_type": "code",
      "execution_count": 4,
      "metadata": {
        "colab": {
          "base_uri": "https://localhost:8080/"
        },
        "id": "iote6FR9J8ZP",
        "outputId": "bdb97bca-3f1c-47aa-c421-35e263d31f54"
      },
      "outputs": [
        {
          "name": "stdout",
          "output_type": "stream",
          "text": [
            "El tamaño del dataset es: (95485, 13)\n"
          ]
        }
      ],
      "source": [
        "# Carga el archivo csv\n",
        "df = pd.read_csv(\"data.csv\")\n",
        "print(f\"El tamaño del dataset es: {df.shape}\")"
      ]
    },
    {
      "cell_type": "markdown",
      "metadata": {
        "id": "d8QCXC2TKJDk"
      },
      "source": [
        "## 2. <a name=\"2\">Análisis exploratorio de datos</a>\n",
        "\n",
        "Vamos a obtener el número de filas (ejemplos), número de columnas (características) y algunos estadísticos simples de la base de datos\n"
      ]
    },
    {
      "cell_type": "code",
      "execution_count": null,
      "metadata": {
        "colab": {
          "base_uri": "https://localhost:8080/",
          "height": 354
        },
        "id": "BBovw8jgKJrR",
        "outputId": "09f55379-86e5-4526-b161-21fb8583d2f9"
      },
      "outputs": [
        {
          "data": {
            "text/html": [
              "\n",
              "\n",
              "  <div id=\"df-08a6cd6d-431b-4cb9-85b2-9dbc8061c9dc\">\n",
              "    <div class=\"colab-df-container\">\n",
              "      <div>\n",
              "<style scoped>\n",
              "    .dataframe tbody tr th:only-of-type {\n",
              "        vertical-align: middle;\n",
              "    }\n",
              "\n",
              "    .dataframe tbody tr th {\n",
              "        vertical-align: top;\n",
              "    }\n",
              "\n",
              "    .dataframe thead th {\n",
              "        text-align: right;\n",
              "    }\n",
              "</style>\n",
              "<table border=\"1\" class=\"dataframe\">\n",
              "  <thead>\n",
              "    <tr style=\"text-align: right;\">\n",
              "      <th></th>\n",
              "      <th>Pet ID</th>\n",
              "      <th>Outcome Type</th>\n",
              "      <th>Sex upon Outcome</th>\n",
              "      <th>Name</th>\n",
              "      <th>Found Location</th>\n",
              "      <th>Intake Type</th>\n",
              "      <th>Intake Condition</th>\n",
              "      <th>Pet Type</th>\n",
              "      <th>Sex upon Intake</th>\n",
              "      <th>Breed</th>\n",
              "      <th>Color</th>\n",
              "      <th>Age upon Intake Days</th>\n",
              "      <th>Age upon Outcome Days</th>\n",
              "    </tr>\n",
              "  </thead>\n",
              "  <tbody>\n",
              "    <tr>\n",
              "      <th>0</th>\n",
              "      <td>A794011</td>\n",
              "      <td>1.0</td>\n",
              "      <td>Neutered Male</td>\n",
              "      <td>Chunk</td>\n",
              "      <td>Austin (TX)</td>\n",
              "      <td>Owner Surrender</td>\n",
              "      <td>Normal</td>\n",
              "      <td>Cat</td>\n",
              "      <td>Neutered Male</td>\n",
              "      <td>Domestic Shorthair Mix</td>\n",
              "      <td>Brown Tabby/White</td>\n",
              "      <td>730</td>\n",
              "      <td>730</td>\n",
              "    </tr>\n",
              "    <tr>\n",
              "      <th>1</th>\n",
              "      <td>A776359</td>\n",
              "      <td>1.0</td>\n",
              "      <td>Neutered Male</td>\n",
              "      <td>Gizmo</td>\n",
              "      <td>7201 Levander Loop in Austin (TX)</td>\n",
              "      <td>Stray</td>\n",
              "      <td>Normal</td>\n",
              "      <td>Dog</td>\n",
              "      <td>Intact Male</td>\n",
              "      <td>Chihuahua Shorthair Mix</td>\n",
              "      <td>White/Brown</td>\n",
              "      <td>365</td>\n",
              "      <td>365</td>\n",
              "    </tr>\n",
              "    <tr>\n",
              "      <th>2</th>\n",
              "      <td>A674754</td>\n",
              "      <td>0.0</td>\n",
              "      <td>Intact Male</td>\n",
              "      <td>NaN</td>\n",
              "      <td>12034 Research in Austin (TX)</td>\n",
              "      <td>Stray</td>\n",
              "      <td>Nursing</td>\n",
              "      <td>Cat</td>\n",
              "      <td>Intact Male</td>\n",
              "      <td>Domestic Shorthair Mix</td>\n",
              "      <td>Orange Tabby</td>\n",
              "      <td>6</td>\n",
              "      <td>6</td>\n",
              "    </tr>\n",
              "    <tr>\n",
              "      <th>3</th>\n",
              "      <td>A689724</td>\n",
              "      <td>1.0</td>\n",
              "      <td>Neutered Male</td>\n",
              "      <td>*Donatello</td>\n",
              "      <td>2300 Waterway Bnd in Austin (TX)</td>\n",
              "      <td>Stray</td>\n",
              "      <td>Normal</td>\n",
              "      <td>Cat</td>\n",
              "      <td>Intact Male</td>\n",
              "      <td>Domestic Shorthair Mix</td>\n",
              "      <td>Black</td>\n",
              "      <td>60</td>\n",
              "      <td>60</td>\n",
              "    </tr>\n",
              "    <tr>\n",
              "      <th>4</th>\n",
              "      <td>A680969</td>\n",
              "      <td>1.0</td>\n",
              "      <td>Neutered Male</td>\n",
              "      <td>*Zeus</td>\n",
              "      <td>4701 Staggerbrush Rd in Austin (TX)</td>\n",
              "      <td>Stray</td>\n",
              "      <td>Nursing</td>\n",
              "      <td>Cat</td>\n",
              "      <td>Intact Male</td>\n",
              "      <td>Domestic Shorthair Mix</td>\n",
              "      <td>White/Orange Tabby</td>\n",
              "      <td>7</td>\n",
              "      <td>60</td>\n",
              "    </tr>\n",
              "  </tbody>\n",
              "</table>\n",
              "</div>\n",
              "      <button class=\"colab-df-convert\" onclick=\"convertToInteractive('df-08a6cd6d-431b-4cb9-85b2-9dbc8061c9dc')\"\n",
              "              title=\"Convert this dataframe to an interactive table.\"\n",
              "              style=\"display:none;\">\n",
              "\n",
              "  <svg xmlns=\"http://www.w3.org/2000/svg\" height=\"24px\"viewBox=\"0 0 24 24\"\n",
              "       width=\"24px\">\n",
              "    <path d=\"M0 0h24v24H0V0z\" fill=\"none\"/>\n",
              "    <path d=\"M18.56 5.44l.94 2.06.94-2.06 2.06-.94-2.06-.94-.94-2.06-.94 2.06-2.06.94zm-11 1L8.5 8.5l.94-2.06 2.06-.94-2.06-.94L8.5 2.5l-.94 2.06-2.06.94zm10 10l.94 2.06.94-2.06 2.06-.94-2.06-.94-.94-2.06-.94 2.06-2.06.94z\"/><path d=\"M17.41 7.96l-1.37-1.37c-.4-.4-.92-.59-1.43-.59-.52 0-1.04.2-1.43.59L10.3 9.45l-7.72 7.72c-.78.78-.78 2.05 0 2.83L4 21.41c.39.39.9.59 1.41.59.51 0 1.02-.2 1.41-.59l7.78-7.78 2.81-2.81c.8-.78.8-2.07 0-2.86zM5.41 20L4 18.59l7.72-7.72 1.47 1.35L5.41 20z\"/>\n",
              "  </svg>\n",
              "      </button>\n",
              "\n",
              "\n",
              "\n",
              "    <div id=\"df-f2fa64a2-c904-4f51-b735-45ef20cdb57d\">\n",
              "      <button class=\"colab-df-quickchart\" onclick=\"quickchart('df-f2fa64a2-c904-4f51-b735-45ef20cdb57d')\"\n",
              "              title=\"Suggest charts.\"\n",
              "              style=\"display:none;\">\n",
              "\n",
              "<svg xmlns=\"http://www.w3.org/2000/svg\" height=\"24px\"viewBox=\"0 0 24 24\"\n",
              "     width=\"24px\">\n",
              "    <g>\n",
              "        <path d=\"M19 3H5c-1.1 0-2 .9-2 2v14c0 1.1.9 2 2 2h14c1.1 0 2-.9 2-2V5c0-1.1-.9-2-2-2zM9 17H7v-7h2v7zm4 0h-2V7h2v10zm4 0h-2v-4h2v4z\"/>\n",
              "    </g>\n",
              "</svg>\n",
              "      </button>\n",
              "    </div>\n",
              "\n",
              "<style>\n",
              "  .colab-df-quickchart {\n",
              "    background-color: #E8F0FE;\n",
              "    border: none;\n",
              "    border-radius: 50%;\n",
              "    cursor: pointer;\n",
              "    display: none;\n",
              "    fill: #1967D2;\n",
              "    height: 32px;\n",
              "    padding: 0 0 0 0;\n",
              "    width: 32px;\n",
              "  }\n",
              "\n",
              "  .colab-df-quickchart:hover {\n",
              "    background-color: #E2EBFA;\n",
              "    box-shadow: 0px 1px 2px rgba(60, 64, 67, 0.3), 0px 1px 3px 1px rgba(60, 64, 67, 0.15);\n",
              "    fill: #174EA6;\n",
              "  }\n",
              "\n",
              "  [theme=dark] .colab-df-quickchart {\n",
              "    background-color: #3B4455;\n",
              "    fill: #D2E3FC;\n",
              "  }\n",
              "\n",
              "  [theme=dark] .colab-df-quickchart:hover {\n",
              "    background-color: #434B5C;\n",
              "    box-shadow: 0px 1px 3px 1px rgba(0, 0, 0, 0.15);\n",
              "    filter: drop-shadow(0px 1px 2px rgba(0, 0, 0, 0.3));\n",
              "    fill: #FFFFFF;\n",
              "  }\n",
              "</style>\n",
              "\n",
              "    <script>\n",
              "      async function quickchart(key) {\n",
              "        const containerElement = document.querySelector('#' + key);\n",
              "        const charts = await google.colab.kernel.invokeFunction(\n",
              "            'suggestCharts', [key], {});\n",
              "      }\n",
              "    </script>\n",
              "\n",
              "      <script>\n",
              "\n",
              "function displayQuickchartButton(domScope) {\n",
              "  let quickchartButtonEl =\n",
              "    domScope.querySelector('#df-f2fa64a2-c904-4f51-b735-45ef20cdb57d button.colab-df-quickchart');\n",
              "  quickchartButtonEl.style.display =\n",
              "    google.colab.kernel.accessAllowed ? 'block' : 'none';\n",
              "}\n",
              "\n",
              "        displayQuickchartButton(document);\n",
              "      </script>\n",
              "      <style>\n",
              "    .colab-df-container {\n",
              "      display:flex;\n",
              "      flex-wrap:wrap;\n",
              "      gap: 12px;\n",
              "    }\n",
              "\n",
              "    .colab-df-convert {\n",
              "      background-color: #E8F0FE;\n",
              "      border: none;\n",
              "      border-radius: 50%;\n",
              "      cursor: pointer;\n",
              "      display: none;\n",
              "      fill: #1967D2;\n",
              "      height: 32px;\n",
              "      padding: 0 0 0 0;\n",
              "      width: 32px;\n",
              "    }\n",
              "\n",
              "    .colab-df-convert:hover {\n",
              "      background-color: #E2EBFA;\n",
              "      box-shadow: 0px 1px 2px rgba(60, 64, 67, 0.3), 0px 1px 3px 1px rgba(60, 64, 67, 0.15);\n",
              "      fill: #174EA6;\n",
              "    }\n",
              "\n",
              "    [theme=dark] .colab-df-convert {\n",
              "      background-color: #3B4455;\n",
              "      fill: #D2E3FC;\n",
              "    }\n",
              "\n",
              "    [theme=dark] .colab-df-convert:hover {\n",
              "      background-color: #434B5C;\n",
              "      box-shadow: 0px 1px 3px 1px rgba(0, 0, 0, 0.15);\n",
              "      filter: drop-shadow(0px 1px 2px rgba(0, 0, 0, 0.3));\n",
              "      fill: #FFFFFF;\n",
              "    }\n",
              "  </style>\n",
              "\n",
              "      <script>\n",
              "        const buttonEl =\n",
              "          document.querySelector('#df-08a6cd6d-431b-4cb9-85b2-9dbc8061c9dc button.colab-df-convert');\n",
              "        buttonEl.style.display =\n",
              "          google.colab.kernel.accessAllowed ? 'block' : 'none';\n",
              "\n",
              "        async function convertToInteractive(key) {\n",
              "          const element = document.querySelector('#df-08a6cd6d-431b-4cb9-85b2-9dbc8061c9dc');\n",
              "          const dataTable =\n",
              "            await google.colab.kernel.invokeFunction('convertToInteractive',\n",
              "                                                     [key], {});\n",
              "          if (!dataTable) return;\n",
              "\n",
              "          const docLinkHtml = 'Like what you see? Visit the ' +\n",
              "            '<a target=\"_blank\" href=https://colab.research.google.com/notebooks/data_table.ipynb>data table notebook</a>'\n",
              "            + ' to learn more about interactive tables.';\n",
              "          element.innerHTML = '';\n",
              "          dataTable['output_type'] = 'display_data';\n",
              "          await google.colab.output.renderOutput(dataTable, element);\n",
              "          const docLink = document.createElement('div');\n",
              "          docLink.innerHTML = docLinkHtml;\n",
              "          element.appendChild(docLink);\n",
              "        }\n",
              "      </script>\n",
              "    </div>\n",
              "  </div>\n"
            ],
            "text/plain": [
              "    Pet ID  Outcome Type Sex upon Outcome        Name  \\\n",
              "0  A794011           1.0    Neutered Male       Chunk   \n",
              "1  A776359           1.0    Neutered Male       Gizmo   \n",
              "2  A674754           0.0      Intact Male         NaN   \n",
              "3  A689724           1.0    Neutered Male  *Donatello   \n",
              "4  A680969           1.0    Neutered Male       *Zeus   \n",
              "\n",
              "                        Found Location      Intake Type Intake Condition  \\\n",
              "0                          Austin (TX)  Owner Surrender           Normal   \n",
              "1    7201 Levander Loop in Austin (TX)            Stray           Normal   \n",
              "2        12034 Research in Austin (TX)            Stray          Nursing   \n",
              "3     2300 Waterway Bnd in Austin (TX)            Stray           Normal   \n",
              "4  4701 Staggerbrush Rd in Austin (TX)            Stray          Nursing   \n",
              "\n",
              "  Pet Type Sex upon Intake                    Breed               Color  \\\n",
              "0      Cat   Neutered Male   Domestic Shorthair Mix   Brown Tabby/White   \n",
              "1      Dog     Intact Male  Chihuahua Shorthair Mix         White/Brown   \n",
              "2      Cat     Intact Male   Domestic Shorthair Mix        Orange Tabby   \n",
              "3      Cat     Intact Male   Domestic Shorthair Mix               Black   \n",
              "4      Cat     Intact Male   Domestic Shorthair Mix  White/Orange Tabby   \n",
              "\n",
              "   Age upon Intake Days  Age upon Outcome Days  \n",
              "0                   730                    730  \n",
              "1                   365                    365  \n",
              "2                     6                      6  \n",
              "3                    60                     60  \n",
              "4                     7                     60  "
            ]
          },
          "execution_count": 4,
          "metadata": {},
          "output_type": "execute_result"
        }
      ],
      "source": [
        "# Imprime las primeras cinco filas\n",
        "# NaN significa que hay valores faltantes\n",
        "df.head()"
      ]
    },
    {
      "cell_type": "code",
      "execution_count": null,
      "metadata": {
        "colab": {
          "base_uri": "https://localhost:8080/"
        },
        "id": "OvjsHZk1KRpy",
        "outputId": "1ee2301d-8eba-4f7f-f8d5-7c66f40acce4"
      },
      "outputs": [
        {
          "name": "stdout",
          "output_type": "stream",
          "text": [
            "<class 'pandas.core.frame.DataFrame'>\n",
            "RangeIndex: 95485 entries, 0 to 95484\n",
            "Data columns (total 13 columns):\n",
            " #   Column                 Non-Null Count  Dtype  \n",
            "---  ------                 --------------  -----  \n",
            " 0   Pet ID                 95485 non-null  object \n",
            " 1   Outcome Type           95485 non-null  float64\n",
            " 2   Sex upon Outcome       95484 non-null  object \n",
            " 3   Name                   59138 non-null  object \n",
            " 4   Found Location         95485 non-null  object \n",
            " 5   Intake Type            95485 non-null  object \n",
            " 6   Intake Condition       95485 non-null  object \n",
            " 7   Pet Type               95485 non-null  object \n",
            " 8   Sex upon Intake        95484 non-null  object \n",
            " 9   Breed                  95485 non-null  object \n",
            " 10  Color                  95485 non-null  object \n",
            " 11  Age upon Intake Days   95485 non-null  int64  \n",
            " 12  Age upon Outcome Days  95485 non-null  int64  \n",
            "dtypes: float64(1), int64(2), object(10)\n",
            "memory usage: 9.5+ MB\n"
          ]
        }
      ],
      "source": [
        "# Tipos de datos y cantidad de valores no nulos\n",
        "df.info()"
      ]
    },
    {
      "cell_type": "code",
      "execution_count": null,
      "metadata": {
        "colab": {
          "base_uri": "https://localhost:8080/",
          "height": 300
        },
        "id": "ZUvpn70GKU8H",
        "outputId": "946e7630-4bfa-48ba-a7ce-1611c1b35d33"
      },
      "outputs": [
        {
          "data": {
            "text/html": [
              "\n",
              "\n",
              "  <div id=\"df-d8121fbb-6257-4d86-9b55-b4f79f97c7d2\">\n",
              "    <div class=\"colab-df-container\">\n",
              "      <div>\n",
              "<style scoped>\n",
              "    .dataframe tbody tr th:only-of-type {\n",
              "        vertical-align: middle;\n",
              "    }\n",
              "\n",
              "    .dataframe tbody tr th {\n",
              "        vertical-align: top;\n",
              "    }\n",
              "\n",
              "    .dataframe thead th {\n",
              "        text-align: right;\n",
              "    }\n",
              "</style>\n",
              "<table border=\"1\" class=\"dataframe\">\n",
              "  <thead>\n",
              "    <tr style=\"text-align: right;\">\n",
              "      <th></th>\n",
              "      <th>Outcome Type</th>\n",
              "      <th>Age upon Intake Days</th>\n",
              "      <th>Age upon Outcome Days</th>\n",
              "    </tr>\n",
              "  </thead>\n",
              "  <tbody>\n",
              "    <tr>\n",
              "      <th>count</th>\n",
              "      <td>95485.000000</td>\n",
              "      <td>95485.000000</td>\n",
              "      <td>95485.000000</td>\n",
              "    </tr>\n",
              "    <tr>\n",
              "      <th>mean</th>\n",
              "      <td>0.564005</td>\n",
              "      <td>703.436959</td>\n",
              "      <td>717.757313</td>\n",
              "    </tr>\n",
              "    <tr>\n",
              "      <th>std</th>\n",
              "      <td>0.495889</td>\n",
              "      <td>1052.252197</td>\n",
              "      <td>1055.023160</td>\n",
              "    </tr>\n",
              "    <tr>\n",
              "      <th>min</th>\n",
              "      <td>0.000000</td>\n",
              "      <td>0.000000</td>\n",
              "      <td>0.000000</td>\n",
              "    </tr>\n",
              "    <tr>\n",
              "      <th>25%</th>\n",
              "      <td>0.000000</td>\n",
              "      <td>30.000000</td>\n",
              "      <td>60.000000</td>\n",
              "    </tr>\n",
              "    <tr>\n",
              "      <th>50%</th>\n",
              "      <td>1.000000</td>\n",
              "      <td>365.000000</td>\n",
              "      <td>365.000000</td>\n",
              "    </tr>\n",
              "    <tr>\n",
              "      <th>75%</th>\n",
              "      <td>1.000000</td>\n",
              "      <td>730.000000</td>\n",
              "      <td>730.000000</td>\n",
              "    </tr>\n",
              "    <tr>\n",
              "      <th>max</th>\n",
              "      <td>1.000000</td>\n",
              "      <td>9125.000000</td>\n",
              "      <td>9125.000000</td>\n",
              "    </tr>\n",
              "  </tbody>\n",
              "</table>\n",
              "</div>\n",
              "      <button class=\"colab-df-convert\" onclick=\"convertToInteractive('df-d8121fbb-6257-4d86-9b55-b4f79f97c7d2')\"\n",
              "              title=\"Convert this dataframe to an interactive table.\"\n",
              "              style=\"display:none;\">\n",
              "\n",
              "  <svg xmlns=\"http://www.w3.org/2000/svg\" height=\"24px\"viewBox=\"0 0 24 24\"\n",
              "       width=\"24px\">\n",
              "    <path d=\"M0 0h24v24H0V0z\" fill=\"none\"/>\n",
              "    <path d=\"M18.56 5.44l.94 2.06.94-2.06 2.06-.94-2.06-.94-.94-2.06-.94 2.06-2.06.94zm-11 1L8.5 8.5l.94-2.06 2.06-.94-2.06-.94L8.5 2.5l-.94 2.06-2.06.94zm10 10l.94 2.06.94-2.06 2.06-.94-2.06-.94-.94-2.06-.94 2.06-2.06.94z\"/><path d=\"M17.41 7.96l-1.37-1.37c-.4-.4-.92-.59-1.43-.59-.52 0-1.04.2-1.43.59L10.3 9.45l-7.72 7.72c-.78.78-.78 2.05 0 2.83L4 21.41c.39.39.9.59 1.41.59.51 0 1.02-.2 1.41-.59l7.78-7.78 2.81-2.81c.8-.78.8-2.07 0-2.86zM5.41 20L4 18.59l7.72-7.72 1.47 1.35L5.41 20z\"/>\n",
              "  </svg>\n",
              "      </button>\n",
              "\n",
              "\n",
              "\n",
              "    <div id=\"df-23794247-f96c-4d17-95c5-3caa5dffc637\">\n",
              "      <button class=\"colab-df-quickchart\" onclick=\"quickchart('df-23794247-f96c-4d17-95c5-3caa5dffc637')\"\n",
              "              title=\"Suggest charts.\"\n",
              "              style=\"display:none;\">\n",
              "\n",
              "<svg xmlns=\"http://www.w3.org/2000/svg\" height=\"24px\"viewBox=\"0 0 24 24\"\n",
              "     width=\"24px\">\n",
              "    <g>\n",
              "        <path d=\"M19 3H5c-1.1 0-2 .9-2 2v14c0 1.1.9 2 2 2h14c1.1 0 2-.9 2-2V5c0-1.1-.9-2-2-2zM9 17H7v-7h2v7zm4 0h-2V7h2v10zm4 0h-2v-4h2v4z\"/>\n",
              "    </g>\n",
              "</svg>\n",
              "      </button>\n",
              "    </div>\n",
              "\n",
              "<style>\n",
              "  .colab-df-quickchart {\n",
              "    background-color: #E8F0FE;\n",
              "    border: none;\n",
              "    border-radius: 50%;\n",
              "    cursor: pointer;\n",
              "    display: none;\n",
              "    fill: #1967D2;\n",
              "    height: 32px;\n",
              "    padding: 0 0 0 0;\n",
              "    width: 32px;\n",
              "  }\n",
              "\n",
              "  .colab-df-quickchart:hover {\n",
              "    background-color: #E2EBFA;\n",
              "    box-shadow: 0px 1px 2px rgba(60, 64, 67, 0.3), 0px 1px 3px 1px rgba(60, 64, 67, 0.15);\n",
              "    fill: #174EA6;\n",
              "  }\n",
              "\n",
              "  [theme=dark] .colab-df-quickchart {\n",
              "    background-color: #3B4455;\n",
              "    fill: #D2E3FC;\n",
              "  }\n",
              "\n",
              "  [theme=dark] .colab-df-quickchart:hover {\n",
              "    background-color: #434B5C;\n",
              "    box-shadow: 0px 1px 3px 1px rgba(0, 0, 0, 0.15);\n",
              "    filter: drop-shadow(0px 1px 2px rgba(0, 0, 0, 0.3));\n",
              "    fill: #FFFFFF;\n",
              "  }\n",
              "</style>\n",
              "\n",
              "    <script>\n",
              "      async function quickchart(key) {\n",
              "        const containerElement = document.querySelector('#' + key);\n",
              "        const charts = await google.colab.kernel.invokeFunction(\n",
              "            'suggestCharts', [key], {});\n",
              "      }\n",
              "    </script>\n",
              "\n",
              "      <script>\n",
              "\n",
              "function displayQuickchartButton(domScope) {\n",
              "  let quickchartButtonEl =\n",
              "    domScope.querySelector('#df-23794247-f96c-4d17-95c5-3caa5dffc637 button.colab-df-quickchart');\n",
              "  quickchartButtonEl.style.display =\n",
              "    google.colab.kernel.accessAllowed ? 'block' : 'none';\n",
              "}\n",
              "\n",
              "        displayQuickchartButton(document);\n",
              "      </script>\n",
              "      <style>\n",
              "    .colab-df-container {\n",
              "      display:flex;\n",
              "      flex-wrap:wrap;\n",
              "      gap: 12px;\n",
              "    }\n",
              "\n",
              "    .colab-df-convert {\n",
              "      background-color: #E8F0FE;\n",
              "      border: none;\n",
              "      border-radius: 50%;\n",
              "      cursor: pointer;\n",
              "      display: none;\n",
              "      fill: #1967D2;\n",
              "      height: 32px;\n",
              "      padding: 0 0 0 0;\n",
              "      width: 32px;\n",
              "    }\n",
              "\n",
              "    .colab-df-convert:hover {\n",
              "      background-color: #E2EBFA;\n",
              "      box-shadow: 0px 1px 2px rgba(60, 64, 67, 0.3), 0px 1px 3px 1px rgba(60, 64, 67, 0.15);\n",
              "      fill: #174EA6;\n",
              "    }\n",
              "\n",
              "    [theme=dark] .colab-df-convert {\n",
              "      background-color: #3B4455;\n",
              "      fill: #D2E3FC;\n",
              "    }\n",
              "\n",
              "    [theme=dark] .colab-df-convert:hover {\n",
              "      background-color: #434B5C;\n",
              "      box-shadow: 0px 1px 3px 1px rgba(0, 0, 0, 0.15);\n",
              "      filter: drop-shadow(0px 1px 2px rgba(0, 0, 0, 0.3));\n",
              "      fill: #FFFFFF;\n",
              "    }\n",
              "  </style>\n",
              "\n",
              "      <script>\n",
              "        const buttonEl =\n",
              "          document.querySelector('#df-d8121fbb-6257-4d86-9b55-b4f79f97c7d2 button.colab-df-convert');\n",
              "        buttonEl.style.display =\n",
              "          google.colab.kernel.accessAllowed ? 'block' : 'none';\n",
              "\n",
              "        async function convertToInteractive(key) {\n",
              "          const element = document.querySelector('#df-d8121fbb-6257-4d86-9b55-b4f79f97c7d2');\n",
              "          const dataTable =\n",
              "            await google.colab.kernel.invokeFunction('convertToInteractive',\n",
              "                                                     [key], {});\n",
              "          if (!dataTable) return;\n",
              "\n",
              "          const docLinkHtml = 'Like what you see? Visit the ' +\n",
              "            '<a target=\"_blank\" href=https://colab.research.google.com/notebooks/data_table.ipynb>data table notebook</a>'\n",
              "            + ' to learn more about interactive tables.';\n",
              "          element.innerHTML = '';\n",
              "          dataTable['output_type'] = 'display_data';\n",
              "          await google.colab.output.renderOutput(dataTable, element);\n",
              "          const docLink = document.createElement('div');\n",
              "          docLink.innerHTML = docLinkHtml;\n",
              "          element.appendChild(docLink);\n",
              "        }\n",
              "      </script>\n",
              "    </div>\n",
              "  </div>\n"
            ],
            "text/plain": [
              "       Outcome Type  Age upon Intake Days  Age upon Outcome Days\n",
              "count  95485.000000          95485.000000           95485.000000\n",
              "mean       0.564005            703.436959             717.757313\n",
              "std        0.495889           1052.252197            1055.023160\n",
              "min        0.000000              0.000000               0.000000\n",
              "25%        0.000000             30.000000              60.000000\n",
              "50%        1.000000            365.000000             365.000000\n",
              "75%        1.000000            730.000000             730.000000\n",
              "max        1.000000           9125.000000            9125.000000"
            ]
          },
          "execution_count": 6,
          "metadata": {},
          "output_type": "execute_result"
        }
      ],
      "source": [
        "# Calcula estadísticas básicas para las columnas numéricas\n",
        "df.describe()"
      ]
    },
    {
      "cell_type": "markdown",
      "metadata": {
        "id": "V215g3fCKb3y"
      },
      "source": [
        "Separemos las características de la variable objetivo\n"
      ]
    },
    {
      "cell_type": "code",
      "execution_count": null,
      "metadata": {
        "colab": {
          "base_uri": "https://localhost:8080/"
        },
        "id": "bYcr-jMCKdpP",
        "outputId": "3d523499-f485-4fea-edbc-a22d87400a03"
      },
      "outputs": [
        {
          "name": "stdout",
          "output_type": "stream",
          "text": [
            "Index(['Pet ID', 'Outcome Type', 'Sex upon Outcome', 'Name', 'Found Location',\n",
            "       'Intake Type', 'Intake Condition', 'Pet Type', 'Sex upon Intake',\n",
            "       'Breed', 'Color', 'Age upon Intake Days', 'Age upon Outcome Days'],\n",
            "      dtype='object')\n"
          ]
        }
      ],
      "source": [
        "print(df.columns)"
      ]
    },
    {
      "cell_type": "code",
      "execution_count": null,
      "metadata": {
        "colab": {
          "base_uri": "https://localhost:8080/"
        },
        "id": "ftF4ne5kKdu0",
        "outputId": "b93a6498-a68b-4967-a2a2-ed3f9ecece47"
      },
      "outputs": [
        {
          "name": "stdout",
          "output_type": "stream",
          "text": [
            "Model features:  Index(['Pet ID', 'Sex upon Outcome', 'Name', 'Found Location', 'Intake Type',\n",
            "       'Intake Condition', 'Pet Type', 'Sex upon Intake', 'Breed', 'Color',\n",
            "       'Age upon Intake Days', 'Age upon Outcome Days'],\n",
            "      dtype='object')\n",
            "Model target:  Outcome Type\n"
          ]
        }
      ],
      "source": [
        "model_features = df.columns.drop(\"Outcome Type\")\n",
        "model_target = \"Outcome Type\"\n",
        "\n",
        "print(\"Model features: \", model_features)\n",
        "print(\"Model target: \", model_target)"
      ]
    },
    {
      "cell_type": "markdown",
      "metadata": {
        "id": "5FYvlgTvKl9X"
      },
      "source": [
        "Podemos explorar más a fondo el conjunto de características, separandolas entre características numéricas y categóricas. Tenga en cuenta que algunas características con valores enteros, a pesar de ser numéricas, pueden ser categóricas, y algunas variables categóricas pueden ser texto.\n"
      ]
    },
    {
      "cell_type": "code",
      "execution_count": null,
      "metadata": {
        "colab": {
          "base_uri": "https://localhost:8080/"
        },
        "id": "CrYo94L3KpHC",
        "outputId": "1784444d-4006-4643-f001-30965933112e"
      },
      "outputs": [
        {
          "name": "stdout",
          "output_type": "stream",
          "text": [
            "Numerical columns: Index(['Age upon Intake Days', 'Age upon Outcome Days'], dtype='object')\n",
            "\n",
            "Categorical columns: Index(['Pet ID', 'Sex upon Outcome', 'Name', 'Found Location', 'Intake Type',\n",
            "       'Intake Condition', 'Pet Type', 'Sex upon Intake', 'Breed', 'Color'],\n",
            "      dtype='object')\n"
          ]
        }
      ],
      "source": [
        "numerical_features_all = df[model_features].select_dtypes(include=np.number).columns\n",
        "print(\"Numerical columns:\", numerical_features_all)\n",
        "\n",
        "print(\"\")\n",
        "\n",
        "categorical_features_all = df[model_features].select_dtypes(include=\"object\").columns\n",
        "print(\"Categorical columns:\", categorical_features_all)"
      ]
    },
    {
      "cell_type": "markdown",
      "metadata": {
        "id": "jNyOGgK8Kwb9"
      },
      "source": [
        "Distribución de la variable objetivo\n"
      ]
    },
    {
      "cell_type": "code",
      "execution_count": null,
      "metadata": {
        "colab": {
          "base_uri": "https://localhost:8080/",
          "height": 438
        },
        "id": "JuzIahh3KvWf",
        "outputId": "59c4f6bc-c899-4119-8288-27deec5dfbf2"
      },
      "outputs": [
        {
          "data": {
            "image/png": "[encoded data removed]",
            "text/plain": [
              "<Figure size 640x480 with 1 Axes>"
            ]
          },
          "metadata": {},
          "output_type": "display_data"
        }
      ],
      "source": [
        "df[model_target].value_counts().plot.bar()\n",
        "plt.show()"
      ]
    },
    {
      "cell_type": "markdown",
      "metadata": {
        "id": "_y_Tk08tMRkO"
      },
      "source": [
        "A partir de esta figura podemos identificar si estamos tratando con conjuntos de datos desbalanceados - esto significa que una o varias clases tiene muchas más muestras que las demás.\n",
        "\n",
        "Es muy recomendable manejar el desbalance de clases, ya que el rendimiento del modelo puede verse afectado. En particular, el modelo puede no funcionar bien para las clases infrecuentes, ya que no hay suficientes muestras para aprender patrones, por lo que sería difícil para el clasificador identificar esos patrones.\n",
        "\n",
        "Existen varias formas de tratar el desbalance de clases, reduciendo la clase dominante o aumentando la clase poco frecuente. Sin embargo, solo debemos corregir el desbalance en el conjunto de entrenamiento, sin cambiar los conjuntos de validación y prueba, ya que estos deben seguir la distribución original. Realizaremos esta tarea después de la división entre entrenamiento y prueba.\n"
      ]
    },
    {
      "cell_type": "markdown",
      "metadata": {
        "id": "SeqtxYrsN8_J"
      },
      "source": [
        "## 3. <a name=\"3\">Selección de características para construir el modelo</a>\n",
        "\n",
        "Solo se utilizarán las características numéricas para construir el modelo en esta primera solución.\n"
      ]
    },
    {
      "cell_type": "markdown",
      "metadata": {
        "id": "_Qu68wiLOVwp"
      },
      "source": [
        "Miremos los histogramas de las características numéricas\n"
      ]
    },
    {
      "cell_type": "code",
      "execution_count": null,
      "metadata": {
        "colab": {
          "base_uri": "https://localhost:8080/",
          "height": 879
        },
        "id": "EJFdd5VfObzJ",
        "outputId": "467be40e-f6b2-4678-fecd-6337dff68e8a"
      },
      "outputs": [
        {
          "name": "stdout",
          "output_type": "stream",
          "text": [
            "Age upon Intake Days\n"
          ]
        },
        {
          "data": {
            "image/png": "[encoded data removed]",
            "text/plain": [
              "<Figure size 640x480 with 1 Axes>"
            ]
          },
          "metadata": {},
          "output_type": "display_data"
        },
        {
          "name": "stdout",
          "output_type": "stream",
          "text": [
            "Age upon Outcome Days\n"
          ]
        },
        {
          "data": {
            "image/png": "[encoded data removed]",
            "text/plain": [
              "<Figure size 640x480 with 1 Axes>"
            ]
          },
          "metadata": {},
          "output_type": "display_data"
        }
      ],
      "source": [
        "for c in numerical_features_all:\n",
        "    print(c)\n",
        "    df[c].plot.hist(bins=5)\n",
        "    plt.show()"
      ]
    },
    {
      "cell_type": "markdown",
      "metadata": {
        "id": "KdZ1RoYCNyxL"
      },
      "source": [
        "Si para algunos histogramas los valores están fuertemente ubicados en el primer intervalo, es bueno revisar los valores atípicos, ya sea verificando los valores mínimos y máximos de esas características particulares y/o explorando rangos de valores.\n"
      ]
    },
    {
      "cell_type": "code",
      "execution_count": null,
      "metadata": {
        "colab": {
          "base_uri": "https://localhost:8080/"
        },
        "id": "qrV5bXkTOnKz",
        "outputId": "a6d696b8-947b-413b-c7de-caacac9873a1"
      },
      "outputs": [
        {
          "name": "stdout",
          "output_type": "stream",
          "text": [
            "Age upon Intake Days\n",
            "min: 0 max: 9125\n",
            "Age upon Outcome Days\n",
            "min: 0 max: 9125\n"
          ]
        }
      ],
      "source": [
        "for c in numerical_features_all:\n",
        "    print(c)\n",
        "    print(\"min:\", df[c].min(), \"max:\", df[c].max())"
      ]
    },
    {
      "cell_type": "markdown",
      "metadata": {
        "id": "A-0GWNN0Otaf"
      },
      "source": [
        "Con la función value_counts() se puede incrementar el número de bins de los histogramas a 10 para tener una vista más refinada de las características numéricas.\n"
      ]
    },
    {
      "cell_type": "code",
      "execution_count": null,
      "metadata": {
        "colab": {
          "base_uri": "https://localhost:8080/"
        },
        "id": "9uvwchdoOwF5",
        "outputId": "7f729c47-3121-401f-9740-2796c64c7479"
      },
      "outputs": [
        {
          "name": "stdout",
          "output_type": "stream",
          "text": [
            "Age upon Intake Days\n",
            "(-9.126, 912.5]     74835\n",
            "(912.5, 1825.0]     10647\n",
            "(1825.0, 2737.5]     3471\n",
            "(2737.5, 3650.0]     3998\n",
            "(3650.0, 4562.5]     1234\n",
            "(4562.5, 5475.0]     1031\n",
            "(5475.0, 6387.5]      183\n",
            "(6387.5, 7300.0]       79\n",
            "(7300.0, 8212.5]        5\n",
            "(8212.5, 9125.0]        2\n",
            "Name: Age upon Intake Days, dtype: int64\n",
            "Age upon Outcome Days\n",
            "(-9.126, 912.5]     74642\n",
            "(912.5, 1825.0]     10699\n",
            "(1825.0, 2737.5]     3465\n",
            "(2737.5, 3650.0]     4080\n",
            "(3650.0, 4562.5]     1263\n",
            "(4562.5, 5475.0]     1061\n",
            "(5475.0, 6387.5]      187\n",
            "(6387.5, 7300.0]       81\n",
            "(7300.0, 8212.5]        5\n",
            "(8212.5, 9125.0]        2\n",
            "Name: Age upon Outcome Days, dtype: int64\n"
          ]
        }
      ],
      "source": [
        "for c in numerical_features_all:\n",
        "    print(c)\n",
        "    print(df[c].value_counts(bins=10, sort=False))\n",
        "    plt.show()"
      ]
    },
    {
      "cell_type": "markdown",
      "metadata": {
        "id": "tVbVEaEXO3zW"
      },
      "source": [
        "Si se identifican outliers (valores muy probablemente erróneos) eliminarlos podría mejorar los histogramas y, posteriormente, el rendimiento general del modelo. Si bien una buena regla general es que cualquier valor que no esté en el rango de (Q1 - 1.5 IQR) y (Q3 + 1.5 IQR) es un outlier, también deben considerarse otras reglas para eliminar outliers. Por ejemplo, eliminar cualquier valor en el 1% superior.\n",
        "\n",
        "Si hay algún valor faltante o outlier, como una solución rápida, podemos aplicar la imputación por la media. Esto reemplazará los valores faltantes con el valor medio de la columna correspondiente.\n",
        "\n",
        "**Nota**: La forma estadísticamente correcta de realizar la imputación por media/moda antes de entrenar un modelo de ML es calcular las medias por columna solo en los datos de entrenamiento, y luego usar estos valores para imputar los datos faltantes tanto en el conjunto de entrenamiento como en el de prueba. Por lo tanto, necesitarás dividir tu conjunto de datos primero.\n"
      ]
    },
    {
      "cell_type": "markdown",
      "metadata": {
        "id": "0A9qRPyFQTmC"
      },
      "source": [
        "## 4. <a name=\"4\">Conjuntos de entrenamiento y prueba</a>\n",
        "\n",
        "Dividamos nuestro conjunto de datos en 90\\% para entrenamiento y 10\\% para prueba usando la función de `sklearn` `train_test_split()`.\n"
      ]
    },
    {
      "cell_type": "code",
      "execution_count": null,
      "metadata": {
        "id": "dObMRORDO29O"
      },
      "outputs": [],
      "source": [
        "from sklearn.model_selection import train_test_split"
      ]
    },
    {
      "cell_type": "code",
      "execution_count": null,
      "metadata": {
        "id": "swJ-PaIdSj4-"
      },
      "outputs": [],
      "source": [
        "train_data, test_data = train_test_split(\n",
        "    df, test_size=0.1, shuffle=True, random_state=23\n",
        ")"
      ]
    },
    {
      "cell_type": "markdown",
      "metadata": {
        "id": "AoGBhRbcSo2b"
      },
      "source": [
        "Manejo de desbalance de muestras\n"
      ]
    },
    {
      "cell_type": "code",
      "execution_count": null,
      "metadata": {
        "colab": {
          "base_uri": "https://localhost:8080/"
        },
        "id": "0U4Ci2dqqtMl",
        "outputId": "d0f069e7-a5f7-4ab5-d67e-0c9a1a619d03"
      },
      "outputs": [
        {
          "name": "stdout",
          "output_type": "stream",
          "text": [
            "Training set shape: (85936, 13)\n",
            "Class 0 samples in the training set: 37499\n",
            "Class 1 samples in the training set: 48437\n",
            "Class 0 samples in the test set: 4132\n",
            "Class 1 samples in the test set: 5417\n"
          ]
        }
      ],
      "source": [
        "print(\"Training set shape:\", train_data.shape)\n",
        "\n",
        "print(\"Class 0 samples in the training set:\", sum(train_data[model_target] == 0))\n",
        "print(\"Class 1 samples in the training set:\", sum(train_data[model_target] == 1))\n",
        "\n",
        "print(\"Class 0 samples in the test set:\", sum(test_data[model_target] == 0))\n",
        "print(\"Class 1 samples in the test set:\", sum(test_data[model_target] == 1))"
      ]
    },
    {
      "cell_type": "markdown",
      "metadata": {
        "id": "ZVQ66J36qyF1"
      },
      "source": [
        "**Nota importante:** Organizamos el desbalance únicamente en el conjunto de entrenamiento. No debemos modificar el desbalance en los conjuntos de validación y prueba, dado que estos deben seguir la distribución original de los datos\n"
      ]
    },
    {
      "cell_type": "code",
      "execution_count": null,
      "metadata": {
        "id": "7uuerMR6rDtG"
      },
      "outputs": [],
      "source": [
        "from sklearn.utils import shuffle"
      ]
    },
    {
      "cell_type": "code",
      "execution_count": null,
      "metadata": {
        "id": "ppctAkb5qxbw"
      },
      "outputs": [],
      "source": [
        "class_0_no = train_data[train_data[model_target] == 0]\n",
        "class_1_no = train_data[train_data[model_target] == 1]\n",
        "\n",
        "upsampled_class_0_no = class_0_no.sample(\n",
        "    n=len(class_1_no), replace=True, random_state=42\n",
        ")\n",
        "\n",
        "train_data = pd.concat([class_1_no, upsampled_class_0_no])\n",
        "train_data = shuffle(train_data)"
      ]
    },
    {
      "cell_type": "code",
      "execution_count": null,
      "metadata": {
        "colab": {
          "base_uri": "https://localhost:8080/"
        },
        "id": "Iu2UvvyirMWv",
        "outputId": "59313116-2ed6-4e01-c2fc-62bb50292565"
      },
      "outputs": [
        {
          "name": "stdout",
          "output_type": "stream",
          "text": [
            "Training set shape: (96874, 13)\n",
            "Class 1 samples in the training set: 48437\n",
            "Class 0 samples in the training set: 48437\n"
          ]
        }
      ],
      "source": [
        "print(\"Training set shape:\", train_data.shape)\n",
        "\n",
        "print(\"Class 1 samples in the training set:\", sum(train_data[model_target] == 1))\n",
        "print(\"Class 0 samples in the training set:\", sum(train_data[model_target] == 0))"
      ]
    },
    {
      "cell_type": "markdown",
      "metadata": {
        "id": "M81eQHCGrOLu"
      },
      "source": [
        "**Nota importante 2:** No siempre es necesario hacer balance de clases, en alguas ocaciones, los pocos datos de una clase pueden hacer que el clasificador aprenda los patrones de dicha clase.\n"
      ]
    },
    {
      "cell_type": "markdown",
      "metadata": {
        "id": "qh-eeg14rmay"
      },
      "source": [
        "## 5. <a name=\"5\">Procesamiento de datos con `Pipeline`</a>\n",
        "\n",
        "En un flujo de trabajo típico de aprendizaje automático, se necesita aplicar transformaciones de datos, como imputación y escalamiento, al menos dos veces. Primero, en el conjunto de datos de entrenamiento con `.fit()` y `.transform()`, al preparar los datos para entrenar el modelo. Y de nuevo, en cualquier nuevo dato en el que se quiera hacer predicción, con `.transform()`. `Pipeline` de `Scikit-learn` es una herramienta que simplifica este proceso al hacer cumplir la implementación y el orden de los pasos de procesamiento de datos.\n",
        "\n",
        "Se contruye un pipeline para imputar los valores faltantes con la media usando el `SimpleImputer` de `sklearn`, se escalan las características numéricas para tener órdenes de magnitud similares llevándolas al rango de 0-1 con el `MinMaxScaler` de `sklearn`, y finalmente se entrena un estimador en el conjunto de datos imputados y escalados.\n",
        "\n",
        "![Scaling](https://drive.google.com/uc?id=1Ne1b8pelUy0BaeLOjWl3DN7vc-rKEhBs)\n"
      ]
    },
    {
      "cell_type": "code",
      "execution_count": null,
      "metadata": {
        "id": "KTo9G77yty5v"
      },
      "outputs": [],
      "source": [
        "from sklearn.model_selection import train_test_split\n",
        "from sklearn.impute import SimpleImputer\n",
        "from sklearn.preprocessing import MinMaxScaler\n",
        "from sklearn.neighbors import KNeighborsClassifier\n",
        "from sklearn.pipeline import Pipeline\n",
        "\n",
        "from sklearn import set_config\n",
        "\n",
        "set_config(display=\"diagram\")"
      ]
    },
    {
      "cell_type": "code",
      "execution_count": null,
      "metadata": {
        "colab": {
          "base_uri": "https://localhost:8080/",
          "height": 159
        },
        "id": "kTyNTZdgt5UJ",
        "outputId": "0215a6b0-0328-46bc-e521-63acddf34a97"
      },
      "outputs": [
        {
          "data": {
            "text/html": [
              "<style>#sk-container-id-1 {color: black;background-color: white;}#sk-container-id-1 pre{padding: 0;}#sk-container-id-1 div.sk-toggleable {background-color: white;}#sk-container-id-1 label.sk-toggleable__label {cursor: pointer;display: block;width: 100%;margin-bottom: 0;padding: 0.3em;box-sizing: border-box;text-align: center;}#sk-container-id-1 label.sk-toggleable__label-arrow:before {content: \"▸\";float: left;margin-right: 0.25em;color: #696969;}#sk-container-id-1 label.sk-toggleable__label-arrow:hover:before {color: black;}#sk-container-id-1 div.sk-estimator:hover label.sk-toggleable__label-arrow:before {color: black;}#sk-container-id-1 div.sk-toggleable__content {max-height: 0;max-width: 0;overflow: hidden;text-align: left;background-color: #f0f8ff;}#sk-container-id-1 div.sk-toggleable__content pre {margin: 0.2em;color: black;border-radius: 0.25em;background-color: #f0f8ff;}#sk-container-id-1 input.sk-toggleable__control:checked~div.sk-toggleable__content {max-height: 200px;max-width: 100%;overflow: auto;}#sk-container-id-1 input.sk-toggleable__control:checked~label.sk-toggleable__label-arrow:before {content: \"▾\";}#sk-container-id-1 div.sk-estimator input.sk-toggleable__control:checked~label.sk-toggleable__label {background-color: #d4ebff;}#sk-container-id-1 div.sk-label input.sk-toggleable__control:checked~label.sk-toggleable__label {background-color: #d4ebff;}#sk-container-id-1 input.sk-hidden--visually {border: 0;clip: rect(1px 1px 1px 1px);clip: rect(1px, 1px, 1px, 1px);height: 1px;margin: -1px;overflow: hidden;padding: 0;position: absolute;width: 1px;}#sk-container-id-1 div.sk-estimator {font-family: monospace;background-color: #f0f8ff;border: 1px dotted black;border-radius: 0.25em;box-sizing: border-box;margin-bottom: 0.5em;}#sk-container-id-1 div.sk-estimator:hover {background-color: #d4ebff;}#sk-container-id-1 div.sk-parallel-item::after {content: \"\";width: 100%;border-bottom: 1px solid gray;flex-grow: 1;}#sk-container-id-1 div.sk-label:hover label.sk-toggleable__label {background-color: #d4ebff;}#sk-container-id-1 div.sk-serial::before {content: \"\";position: absolute;border-left: 1px solid gray;box-sizing: border-box;top: 0;bottom: 0;left: 50%;z-index: 0;}#sk-container-id-1 div.sk-serial {display: flex;flex-direction: column;align-items: center;background-color: white;padding-right: 0.2em;padding-left: 0.2em;position: relative;}#sk-container-id-1 div.sk-item {position: relative;z-index: 1;}#sk-container-id-1 div.sk-parallel {display: flex;align-items: stretch;justify-content: center;background-color: white;position: relative;}#sk-container-id-1 div.sk-item::before, #sk-container-id-1 div.sk-parallel-item::before {content: \"\";position: absolute;border-left: 1px solid gray;box-sizing: border-box;top: 0;bottom: 0;left: 50%;z-index: -1;}#sk-container-id-1 div.sk-parallel-item {display: flex;flex-direction: column;z-index: 1;position: relative;background-color: white;}#sk-container-id-1 div.sk-parallel-item:first-child::after {align-self: flex-end;width: 50%;}#sk-container-id-1 div.sk-parallel-item:last-child::after {align-self: flex-start;width: 50%;}#sk-container-id-1 div.sk-parallel-item:only-child::after {width: 0;}#sk-container-id-1 div.sk-dashed-wrapped {border: 1px dashed gray;margin: 0 0.4em 0.5em 0.4em;box-sizing: border-box;padding-bottom: 0.4em;background-color: white;}#sk-container-id-1 div.sk-label label {font-family: monospace;font-weight: bold;display: inline-block;line-height: 1.2em;}#sk-container-id-1 div.sk-label-container {text-align: center;}#sk-container-id-1 div.sk-container {/* jupyter's `normalize.less` sets `[hidden] { display: none; }` but bootstrap.min.css set `[hidden] { display: none !important; }` so we also need the `!important` here to be able to override the default hidden behavior on the sphinx rendered scikit-learn.org. See: https://github.com/scikit-learn/scikit-learn/issues/21755 */display: inline-block !important;position: relative;}#sk-container-id-1 div.sk-text-repr-fallback {display: none;}</style><div id=\"sk-container-id-1\" class=\"sk-top-container\"><div class=\"sk-text-repr-fallback\"><pre>Pipeline(steps=[(&#x27;imputer&#x27;, SimpleImputer()), (&#x27;scaler&#x27;, MinMaxScaler()),\n",
              "                (&#x27;estimator&#x27;, KNeighborsClassifier(n_neighbors=3))])</pre><b>In a Jupyter environment, please rerun this cell to show the HTML representation or trust the notebook. <br />On GitHub, the HTML representation is unable to render, please try loading this page with nbviewer.org.</b></div><div class=\"sk-container\" hidden><div class=\"sk-item sk-dashed-wrapped\"><div class=\"sk-label-container\"><div class=\"sk-label sk-toggleable\"><input class=\"sk-toggleable__control sk-hidden--visually\" id=\"sk-estimator-id-1\" type=\"checkbox\" ><label for=\"sk-estimator-id-1\" class=\"sk-toggleable__label sk-toggleable__label-arrow\">Pipeline</label><div class=\"sk-toggleable__content\"><pre>Pipeline(steps=[(&#x27;imputer&#x27;, SimpleImputer()), (&#x27;scaler&#x27;, MinMaxScaler()),\n",
              "                (&#x27;estimator&#x27;, KNeighborsClassifier(n_neighbors=3))])</pre></div></div></div><div class=\"sk-serial\"><div class=\"sk-item\"><div class=\"sk-estimator sk-toggleable\"><input class=\"sk-toggleable__control sk-hidden--visually\" id=\"sk-estimator-id-2\" type=\"checkbox\" ><label for=\"sk-estimator-id-2\" class=\"sk-toggleable__label sk-toggleable__label-arrow\">SimpleImputer</label><div class=\"sk-toggleable__content\"><pre>SimpleImputer()</pre></div></div></div><div class=\"sk-item\"><div class=\"sk-estimator sk-toggleable\"><input class=\"sk-toggleable__control sk-hidden--visually\" id=\"sk-estimator-id-3\" type=\"checkbox\" ><label for=\"sk-estimator-id-3\" class=\"sk-toggleable__label sk-toggleable__label-arrow\">MinMaxScaler</label><div class=\"sk-toggleable__content\"><pre>MinMaxScaler()</pre></div></div></div><div class=\"sk-item\"><div class=\"sk-estimator sk-toggleable\"><input class=\"sk-toggleable__control sk-hidden--visually\" id=\"sk-estimator-id-4\" type=\"checkbox\" ><label for=\"sk-estimator-id-4\" class=\"sk-toggleable__label sk-toggleable__label-arrow\">KNeighborsClassifier</label><div class=\"sk-toggleable__content\"><pre>KNeighborsClassifier(n_neighbors=3)</pre></div></div></div></div></div></div></div>"
            ],
            "text/plain": [
              "Pipeline(steps=[('imputer', SimpleImputer()), ('scaler', MinMaxScaler()),\n",
              "                ('estimator', KNeighborsClassifier(n_neighbors=3))])"
            ]
          },
          "execution_count": 21,
          "metadata": {},
          "output_type": "execute_result"
        }
      ],
      "source": [
        "### PIPELINE ###\n",
        "################\n",
        "# Pipeline diseñado con las transformaciones de los datos y el estimador\n",
        "# Para cada etapa se especifica: un nombre, la transformación/estimador con sus parámetros\n",
        "classifier = Pipeline(\n",
        "    [\n",
        "        (\"imputer\", SimpleImputer(strategy=\"mean\")),\n",
        "        (\"scaler\", MinMaxScaler()),\n",
        "        (\"estimator\", KNeighborsClassifier(n_neighbors=3)),\n",
        "    ]\n",
        ")\n",
        "\n",
        "# Visualizar el Pipeline\n",
        "# Necesario cuando tenemos Pipelines complejos\n",
        "classifier"
      ]
    },
    {
      "cell_type": "markdown",
      "metadata": {
        "id": "CbjALtHtuFSx"
      },
      "source": [
        "## 6. <a name=\"6\">Entrenar un clasificador</a>\n"
      ]
    },
    {
      "cell_type": "code",
      "execution_count": null,
      "metadata": {
        "colab": {
          "base_uri": "https://localhost:8080/",
          "height": 159
        },
        "id": "bIhBfVGruEXU",
        "outputId": "ddf92c70-859a-43bc-b030-cb6e42fc5c0d"
      },
      "outputs": [
        {
          "data": {
            "text/html": [
              "<style>#sk-container-id-2 {color: black;background-color: white;}#sk-container-id-2 pre{padding: 0;}#sk-container-id-2 div.sk-toggleable {background-color: white;}#sk-container-id-2 label.sk-toggleable__label {cursor: pointer;display: block;width: 100%;margin-bottom: 0;padding: 0.3em;box-sizing: border-box;text-align: center;}#sk-container-id-2 label.sk-toggleable__label-arrow:before {content: \"▸\";float: left;margin-right: 0.25em;color: #696969;}#sk-container-id-2 label.sk-toggleable__label-arrow:hover:before {color: black;}#sk-container-id-2 div.sk-estimator:hover label.sk-toggleable__label-arrow:before {color: black;}#sk-container-id-2 div.sk-toggleable__content {max-height: 0;max-width: 0;overflow: hidden;text-align: left;background-color: #f0f8ff;}#sk-container-id-2 div.sk-toggleable__content pre {margin: 0.2em;color: black;border-radius: 0.25em;background-color: #f0f8ff;}#sk-container-id-2 input.sk-toggleable__control:checked~div.sk-toggleable__content {max-height: 200px;max-width: 100%;overflow: auto;}#sk-container-id-2 input.sk-toggleable__control:checked~label.sk-toggleable__label-arrow:before {content: \"▾\";}#sk-container-id-2 div.sk-estimator input.sk-toggleable__control:checked~label.sk-toggleable__label {background-color: #d4ebff;}#sk-container-id-2 div.sk-label input.sk-toggleable__control:checked~label.sk-toggleable__label {background-color: #d4ebff;}#sk-container-id-2 input.sk-hidden--visually {border: 0;clip: rect(1px 1px 1px 1px);clip: rect(1px, 1px, 1px, 1px);height: 1px;margin: -1px;overflow: hidden;padding: 0;position: absolute;width: 1px;}#sk-container-id-2 div.sk-estimator {font-family: monospace;background-color: #f0f8ff;border: 1px dotted black;border-radius: 0.25em;box-sizing: border-box;margin-bottom: 0.5em;}#sk-container-id-2 div.sk-estimator:hover {background-color: #d4ebff;}#sk-container-id-2 div.sk-parallel-item::after {content: \"\";width: 100%;border-bottom: 1px solid gray;flex-grow: 1;}#sk-container-id-2 div.sk-label:hover label.sk-toggleable__label {background-color: #d4ebff;}#sk-container-id-2 div.sk-serial::before {content: \"\";position: absolute;border-left: 1px solid gray;box-sizing: border-box;top: 0;bottom: 0;left: 50%;z-index: 0;}#sk-container-id-2 div.sk-serial {display: flex;flex-direction: column;align-items: center;background-color: white;padding-right: 0.2em;padding-left: 0.2em;position: relative;}#sk-container-id-2 div.sk-item {position: relative;z-index: 1;}#sk-container-id-2 div.sk-parallel {display: flex;align-items: stretch;justify-content: center;background-color: white;position: relative;}#sk-container-id-2 div.sk-item::before, #sk-container-id-2 div.sk-parallel-item::before {content: \"\";position: absolute;border-left: 1px solid gray;box-sizing: border-box;top: 0;bottom: 0;left: 50%;z-index: -1;}#sk-container-id-2 div.sk-parallel-item {display: flex;flex-direction: column;z-index: 1;position: relative;background-color: white;}#sk-container-id-2 div.sk-parallel-item:first-child::after {align-self: flex-end;width: 50%;}#sk-container-id-2 div.sk-parallel-item:last-child::after {align-self: flex-start;width: 50%;}#sk-container-id-2 div.sk-parallel-item:only-child::after {width: 0;}#sk-container-id-2 div.sk-dashed-wrapped {border: 1px dashed gray;margin: 0 0.4em 0.5em 0.4em;box-sizing: border-box;padding-bottom: 0.4em;background-color: white;}#sk-container-id-2 div.sk-label label {font-family: monospace;font-weight: bold;display: inline-block;line-height: 1.2em;}#sk-container-id-2 div.sk-label-container {text-align: center;}#sk-container-id-2 div.sk-container {/* jupyter's `normalize.less` sets `[hidden] { display: none; }` but bootstrap.min.css set `[hidden] { display: none !important; }` so we also need the `!important` here to be able to override the default hidden behavior on the sphinx rendered scikit-learn.org. See: https://github.com/scikit-learn/scikit-learn/issues/21755 */display: inline-block !important;position: relative;}#sk-container-id-2 div.sk-text-repr-fallback {display: none;}</style><div id=\"sk-container-id-2\" class=\"sk-top-container\"><div class=\"sk-text-repr-fallback\"><pre>Pipeline(steps=[(&#x27;imputer&#x27;, SimpleImputer()), (&#x27;scaler&#x27;, MinMaxScaler()),\n",
              "                (&#x27;estimator&#x27;, KNeighborsClassifier(n_neighbors=3))])</pre><b>In a Jupyter environment, please rerun this cell to show the HTML representation or trust the notebook. <br />On GitHub, the HTML representation is unable to render, please try loading this page with nbviewer.org.</b></div><div class=\"sk-container\" hidden><div class=\"sk-item sk-dashed-wrapped\"><div class=\"sk-label-container\"><div class=\"sk-label sk-toggleable\"><input class=\"sk-toggleable__control sk-hidden--visually\" id=\"sk-estimator-id-5\" type=\"checkbox\" ><label for=\"sk-estimator-id-5\" class=\"sk-toggleable__label sk-toggleable__label-arrow\">Pipeline</label><div class=\"sk-toggleable__content\"><pre>Pipeline(steps=[(&#x27;imputer&#x27;, SimpleImputer()), (&#x27;scaler&#x27;, MinMaxScaler()),\n",
              "                (&#x27;estimator&#x27;, KNeighborsClassifier(n_neighbors=3))])</pre></div></div></div><div class=\"sk-serial\"><div class=\"sk-item\"><div class=\"sk-estimator sk-toggleable\"><input class=\"sk-toggleable__control sk-hidden--visually\" id=\"sk-estimator-id-6\" type=\"checkbox\" ><label for=\"sk-estimator-id-6\" class=\"sk-toggleable__label sk-toggleable__label-arrow\">SimpleImputer</label><div class=\"sk-toggleable__content\"><pre>SimpleImputer()</pre></div></div></div><div class=\"sk-item\"><div class=\"sk-estimator sk-toggleable\"><input class=\"sk-toggleable__control sk-hidden--visually\" id=\"sk-estimator-id-7\" type=\"checkbox\" ><label for=\"sk-estimator-id-7\" class=\"sk-toggleable__label sk-toggleable__label-arrow\">MinMaxScaler</label><div class=\"sk-toggleable__content\"><pre>MinMaxScaler()</pre></div></div></div><div class=\"sk-item\"><div class=\"sk-estimator sk-toggleable\"><input class=\"sk-toggleable__control sk-hidden--visually\" id=\"sk-estimator-id-8\" type=\"checkbox\" ><label for=\"sk-estimator-id-8\" class=\"sk-toggleable__label sk-toggleable__label-arrow\">KNeighborsClassifier</label><div class=\"sk-toggleable__content\"><pre>KNeighborsClassifier(n_neighbors=3)</pre></div></div></div></div></div></div></div>"
            ],
            "text/plain": [
              "Pipeline(steps=[('imputer', SimpleImputer()), ('scaler', MinMaxScaler()),\n",
              "                ('estimator', KNeighborsClassifier(n_neighbors=3))])"
            ]
          },
          "execution_count": 22,
          "metadata": {},
          "output_type": "execute_result"
        }
      ],
      "source": [
        "# Utilizar datos de entrenamiento para entrenar el clasificador\n",
        "X_train = train_data[numerical_features_all]\n",
        "y_train = train_data[model_target]\n",
        "\n",
        "# Ajustar el clasificador a los datos de entrenamiento\n",
        "# Los datos de entrenamiento pasan por el Pipeline, primero se imputan, después se escalan y finalmente se usan para ajustar el clasificador.\n",
        "classifier.fit(X_train, y_train)"
      ]
    },
    {
      "cell_type": "markdown",
      "metadata": {
        "id": "anumawrgvPNl"
      },
      "source": [
        "## 7. <a name=\"7\">Evaluar el clasificador</a>\n",
        "\n",
        "Se evalúa el rendimiento del clasificador entrenado en los datos de prueba (test). Se usa `predict()`\n",
        "\n",
        "Primero, se evalúa como se asjustó el modelo para los datos de entrenamiento\n"
      ]
    },
    {
      "cell_type": "code",
      "execution_count": null,
      "metadata": {
        "id": "bjeP17m5vjhK"
      },
      "outputs": [],
      "source": [
        "from sklearn.metrics import (\n",
        "    confusion_matrix,\n",
        "    classification_report,\n",
        "    accuracy_score,\n",
        "    f1_score,\n",
        ")"
      ]
    },
    {
      "cell_type": "code",
      "execution_count": null,
      "metadata": {
        "colab": {
          "base_uri": "https://localhost:8080/"
        },
        "id": "b65yDJcFviQ-",
        "outputId": "64bdd89f-2773-43c9-94ca-1d49f8f0ac1d"
      },
      "outputs": [
        {
          "name": "stdout",
          "output_type": "stream",
          "text": [
            "Rendimiento del modelo en el conjunto de entrenamiento:\n",
            "[[30282 18155]\n",
            " [19721 28716]]\n",
            "              precision    recall  f1-score   support\n",
            "\n",
            "         0.0       0.61      0.63      0.62     48437\n",
            "         1.0       0.61      0.59      0.60     48437\n",
            "\n",
            "    accuracy                           0.61     96874\n",
            "   macro avg       0.61      0.61      0.61     96874\n",
            "weighted avg       0.61      0.61      0.61     96874\n",
            "\n",
            "Train accuracy: 0.6090178995396082\n"
          ]
        }
      ],
      "source": [
        "train_predictions = classifier.predict(X_train)\n",
        "\n",
        "print(\"Rendimiento del modelo en el conjunto de entrenamiento:\")\n",
        "print(confusion_matrix(y_train, train_predictions))\n",
        "print(classification_report(y_train, train_predictions))\n",
        "print(\"Train accuracy:\", accuracy_score(y_train, train_predictions))"
      ]
    },
    {
      "cell_type": "markdown",
      "metadata": {
        "id": "_zE8vrmCv3x5"
      },
      "source": [
        "Ahora, se evalúa el rendimiento del clasificador en el conjunto de prueba\n"
      ]
    },
    {
      "cell_type": "code",
      "execution_count": null,
      "metadata": {
        "colab": {
          "base_uri": "https://localhost:8080/"
        },
        "id": "1NxZKE7fvD2u",
        "outputId": "45fa315f-3597-4502-cc7a-86779c18aa21"
      },
      "outputs": [
        {
          "name": "stdout",
          "output_type": "stream",
          "text": [
            "Model performance on the test set:\n",
            "[[2606 1526]\n",
            " [2190 3227]]\n",
            "              precision    recall  f1-score   support\n",
            "\n",
            "         0.0       0.54      0.63      0.58      4132\n",
            "         1.0       0.68      0.60      0.63      5417\n",
            "\n",
            "    accuracy                           0.61      9549\n",
            "   macro avg       0.61      0.61      0.61      9549\n",
            "weighted avg       0.62      0.61      0.61      9549\n",
            "\n",
            "Test accuracy: 0.6108493035919992\n"
          ]
        }
      ],
      "source": [
        "X_test = test_data[numerical_features_all]\n",
        "y_test = test_data[model_target]\n",
        "\n",
        "test_predictions = classifier.predict(X_test)\n",
        "\n",
        "print(\"Model performance on the test set:\")\n",
        "print(confusion_matrix(y_test, test_predictions))\n",
        "print(classification_report(y_test, test_predictions))\n",
        "print(\"Test accuracy:\", accuracy_score(y_test, test_predictions))"
      ]
    },
    {
      "cell_type": "markdown",
      "metadata": {
        "id": "4StdQWcawPPA"
      },
      "source": [
        "## 8. <a name=\"8\">Ideas de mejoramiento de los clasificadores</a>\n",
        "\n",
        "Para mejorar el rendimiento de cualquier clasificador/regresor, podemos sintonizar sus hiperparámetros. En este caso, el hiperparámetro del algoritmo $k-$NN es el número de vecinos $k$\n"
      ]
    },
    {
      "cell_type": "code",
      "execution_count": null,
      "metadata": {
        "id": "KZQP6WikwOns"
      },
      "outputs": [],
      "source": []
    }
  ],
  "metadata": {
    "colab": {
      "authorship_tag": "ABX9TyPSiTU3+CDFUkPWPkF51tLq",
      "include_colab_link": true,
      "mount_file_id": "1HpzWxD8UFw52QeD5jpX5K69YbfS1oruT",
      "provenance": []
    },
    "kernelspec": {
      "display_name": "Python 3",
      "name": "python3"
    },
    "language_info": {
      "name": "python",
      "version": "3.11.5"
    }
  },
  "nbformat": 4,
  "nbformat_minor": 0
}
