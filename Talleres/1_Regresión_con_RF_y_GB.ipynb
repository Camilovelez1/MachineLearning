{
  "cells": [
    {
      "cell_type": "markdown",
      "metadata": {
        "colab_type": "text",
        "id": "view-in-github"
      },
      "source": [
        "<a href=\"https://colab.research.google.com/github/jdmartinev/MachineLearning/blob/main/Talleres/1_Regresi%C3%B3n_con_RF_y_GB.ipynb\" target=\"_parent\"><img src=\"https://colab.research.google.com/assets/colab-badge.svg\" alt=\"Open In Colab\"/></a>\n"
      ]
    },
    {
      "cell_type": "markdown",
      "metadata": {
        "id": "wEkt4QfS1jcl"
      },
      "source": [
        "# Taller 1: Regresión con Random Forest y Gradient Boosting\n"
      ]
    },
    {
      "cell_type": "markdown",
      "metadata": {
        "id": "y2QlBcV01jcm"
      },
      "source": [
        "En este taller se aplicará ensambes de árboles de decisión tipo random forest y gradient boosting a un conjunto de datos de jugadores del video juego FIFA 19. Los datos utilizados son un subconjunto modificado de [este set de datos](https://www.kaggle.com/karangadiya/fifa19) y se encuentran en el archivo `FIFA 19 players.csv`. La tarea a realizar consiste en predecir el salario (wage) de los jugadores.\n"
      ]
    },
    {
      "cell_type": "code",
      "execution_count": 1,
      "metadata": {
        "ExecuteTime": {
          "end_time": "2021-09-18T02:41:58.990442Z",
          "start_time": "2021-09-18T02:41:58.975440Z"
        },
        "id": "TFC4jqoJ1jco"
      },
      "outputs": [],
      "source": [
        "import pandas as pd\n",
        "import numpy as np\n",
        "\n",
        "from sklearn.model_selection import GridSearchCV\n",
        "from sklearn.metrics import mean_absolute_error\n",
        "from sklearn.ensemble import RandomForestRegressor, GradientBoostingRegressor\n",
        "\n",
        "from matplotlib import pyplot as plt"
      ]
    },
    {
      "cell_type": "code",
      "execution_count": 2,
      "metadata": {
        "colab": {
          "base_uri": "https://localhost:8080/"
        },
        "id": "meiED8R11xLQ",
        "outputId": "d6d5e66f-1d15-4d0c-f413-398218bf37d0"
      },
      "outputs": [
        {
          "name": "stdout",
          "output_type": "stream",
          "text": [
            "--2024-02-24 13:12:49--  https://docs.google.com/uc?export=download&id=1YkEYndYcq8Lhtx6KnGFBjUGguaP6wVwE\n",
            "Resolving docs.google.com (docs.google.com)... 172.217.28.110, 2800:3f0:4005:410::200e\n",
            "Connecting to docs.google.com (docs.google.com)|172.217.28.110|:443... connected.\n"
          ]
        },
        {
          "name": "stdout",
          "output_type": "stream",
          "text": [
            "HTTP request sent, awaiting response... 303 See Other\n",
            "Location: https://drive.usercontent.google.com/download?id=1YkEYndYcq8Lhtx6KnGFBjUGguaP6wVwE&export=download [following]\n",
            "--2024-02-24 13:12:49--  https://drive.usercontent.google.com/download?id=1YkEYndYcq8Lhtx6KnGFBjUGguaP6wVwE&export=download\n",
            "Resolving drive.usercontent.google.com (drive.usercontent.google.com)... 172.217.173.193, 2800:3f0:4005:411::2001\n",
            "Connecting to drive.usercontent.google.com (drive.usercontent.google.com)|172.217.173.193|:443... connected.\n",
            "HTTP request sent, awaiting response... 200 OK\n",
            "Length: 5036558 (4.8M) [application/octet-stream]\n",
            "Saving to: ‘players.csv’\n",
            "\n",
            "players.csv         100%[===================>]   4.80M  7.32MB/s    in 0.7s    \n",
            "\n",
            "2024-02-24 13:12:51 (7.32 MB/s) - ‘players.csv’ saved [5036558/5036558]\n",
            "\n"
          ]
        }
      ],
      "source": [
        "#Obtenemos los datos\n",
        "!wget --no-check-certificate 'https://docs.google.com/uc?export=download&id=1YkEYndYcq8Lhtx6KnGFBjUGguaP6wVwE' -O players.csv"
      ]
    },
    {
      "cell_type": "code",
      "execution_count": 3,
      "metadata": {
        "ExecuteTime": {
          "end_time": "2021-09-18T02:27:33.239121Z",
          "start_time": "2021-09-18T02:27:33.232123Z"
        },
        "id": "97GuokBs1jcq"
      },
      "outputs": [],
      "source": [
        "# Definamos el \"random_state\" para que los resultados sean reproducibles:\n",
        "random_state = 42"
      ]
    },
    {
      "cell_type": "code",
      "execution_count": 4,
      "metadata": {
        "ExecuteTime": {
          "end_time": "2021-09-18T02:27:33.408121Z",
          "start_time": "2021-09-18T02:27:33.399121Z"
        },
        "id": "mMRZaAUp1jcr"
      },
      "outputs": [],
      "source": [
        "# Cambiemos la fuente de las gráficas de matplotlib:\n",
        "plt.rc(\"font\", family=\"serif\", size=12)"
      ]
    },
    {
      "cell_type": "markdown",
      "metadata": {
        "id": "QC9nUq7L1jcs"
      },
      "source": [
        "## Preprocesamiento de datos\n"
      ]
    },
    {
      "cell_type": "code",
      "execution_count": 5,
      "metadata": {
        "ExecuteTime": {
          "end_time": "2021-09-18T02:17:59.339541Z",
          "start_time": "2021-09-18T02:17:59.223499Z"
        },
        "colab": {
          "base_uri": "https://localhost:8080/",
          "height": 540
        },
        "id": "N28ACIzy1jct",
        "outputId": "e5038858-9c22-46a2-ebc0-1b10e91beafb"
      },
      "outputs": [
        {
          "data": {
            "text/html": [
              "<div>\n",
              "<style scoped>\n",
              "    .dataframe tbody tr th:only-of-type {\n",
              "        vertical-align: middle;\n",
              "    }\n",
              "\n",
              "    .dataframe tbody tr th {\n",
              "        vertical-align: top;\n",
              "    }\n",
              "\n",
              "    .dataframe thead th {\n",
              "        text-align: right;\n",
              "    }\n",
              "</style>\n",
              "<table border=\"1\" class=\"dataframe\">\n",
              "  <thead>\n",
              "    <tr style=\"text-align: right;\">\n",
              "      <th></th>\n",
              "      <th>Name</th>\n",
              "      <th>Age</th>\n",
              "      <th>Overall</th>\n",
              "      <th>Wage</th>\n",
              "      <th>Preferred Foot</th>\n",
              "      <th>International Reputation</th>\n",
              "      <th>Weak Foot</th>\n",
              "      <th>Skill Moves</th>\n",
              "      <th>LS</th>\n",
              "      <th>ST</th>\n",
              "      <th>...</th>\n",
              "      <th>LongShots</th>\n",
              "      <th>Aggression</th>\n",
              "      <th>Interceptions</th>\n",
              "      <th>Positioning</th>\n",
              "      <th>Vision</th>\n",
              "      <th>Penalties</th>\n",
              "      <th>Composure</th>\n",
              "      <th>Marking</th>\n",
              "      <th>StandingTackle</th>\n",
              "      <th>SlidingTackle</th>\n",
              "    </tr>\n",
              "  </thead>\n",
              "  <tbody>\n",
              "    <tr>\n",
              "      <th>0</th>\n",
              "      <td>L. Messi</td>\n",
              "      <td>31</td>\n",
              "      <td>94</td>\n",
              "      <td>565000</td>\n",
              "      <td>Left</td>\n",
              "      <td>5.0</td>\n",
              "      <td>4.0</td>\n",
              "      <td>4.0</td>\n",
              "      <td>90.0</td>\n",
              "      <td>90.0</td>\n",
              "      <td>...</td>\n",
              "      <td>94.0</td>\n",
              "      <td>48.0</td>\n",
              "      <td>22.0</td>\n",
              "      <td>94.0</td>\n",
              "      <td>94.0</td>\n",
              "      <td>75.0</td>\n",
              "      <td>96.0</td>\n",
              "      <td>33.0</td>\n",
              "      <td>28.0</td>\n",
              "      <td>26.0</td>\n",
              "    </tr>\n",
              "    <tr>\n",
              "      <th>1</th>\n",
              "      <td>Cristiano Ronaldo</td>\n",
              "      <td>33</td>\n",
              "      <td>94</td>\n",
              "      <td>405000</td>\n",
              "      <td>Right</td>\n",
              "      <td>5.0</td>\n",
              "      <td>4.0</td>\n",
              "      <td>5.0</td>\n",
              "      <td>94.0</td>\n",
              "      <td>94.0</td>\n",
              "      <td>...</td>\n",
              "      <td>93.0</td>\n",
              "      <td>63.0</td>\n",
              "      <td>29.0</td>\n",
              "      <td>95.0</td>\n",
              "      <td>82.0</td>\n",
              "      <td>85.0</td>\n",
              "      <td>95.0</td>\n",
              "      <td>28.0</td>\n",
              "      <td>31.0</td>\n",
              "      <td>23.0</td>\n",
              "    </tr>\n",
              "    <tr>\n",
              "      <th>2</th>\n",
              "      <td>Neymar Jr</td>\n",
              "      <td>26</td>\n",
              "      <td>92</td>\n",
              "      <td>290000</td>\n",
              "      <td>Right</td>\n",
              "      <td>5.0</td>\n",
              "      <td>5.0</td>\n",
              "      <td>5.0</td>\n",
              "      <td>87.0</td>\n",
              "      <td>87.0</td>\n",
              "      <td>...</td>\n",
              "      <td>82.0</td>\n",
              "      <td>56.0</td>\n",
              "      <td>36.0</td>\n",
              "      <td>89.0</td>\n",
              "      <td>87.0</td>\n",
              "      <td>81.0</td>\n",
              "      <td>94.0</td>\n",
              "      <td>27.0</td>\n",
              "      <td>24.0</td>\n",
              "      <td>33.0</td>\n",
              "    </tr>\n",
              "    <tr>\n",
              "      <th>3</th>\n",
              "      <td>K. De Bruyne</td>\n",
              "      <td>27</td>\n",
              "      <td>91</td>\n",
              "      <td>355000</td>\n",
              "      <td>Right</td>\n",
              "      <td>4.0</td>\n",
              "      <td>5.0</td>\n",
              "      <td>4.0</td>\n",
              "      <td>85.0</td>\n",
              "      <td>85.0</td>\n",
              "      <td>...</td>\n",
              "      <td>91.0</td>\n",
              "      <td>76.0</td>\n",
              "      <td>61.0</td>\n",
              "      <td>87.0</td>\n",
              "      <td>94.0</td>\n",
              "      <td>79.0</td>\n",
              "      <td>88.0</td>\n",
              "      <td>68.0</td>\n",
              "      <td>58.0</td>\n",
              "      <td>51.0</td>\n",
              "    </tr>\n",
              "    <tr>\n",
              "      <th>4</th>\n",
              "      <td>E. Hazard</td>\n",
              "      <td>27</td>\n",
              "      <td>91</td>\n",
              "      <td>340000</td>\n",
              "      <td>Right</td>\n",
              "      <td>4.0</td>\n",
              "      <td>4.0</td>\n",
              "      <td>4.0</td>\n",
              "      <td>86.0</td>\n",
              "      <td>86.0</td>\n",
              "      <td>...</td>\n",
              "      <td>80.0</td>\n",
              "      <td>54.0</td>\n",
              "      <td>41.0</td>\n",
              "      <td>87.0</td>\n",
              "      <td>89.0</td>\n",
              "      <td>86.0</td>\n",
              "      <td>91.0</td>\n",
              "      <td>34.0</td>\n",
              "      <td>27.0</td>\n",
              "      <td>22.0</td>\n",
              "    </tr>\n",
              "    <tr>\n",
              "      <th>...</th>\n",
              "      <td>...</td>\n",
              "      <td>...</td>\n",
              "      <td>...</td>\n",
              "      <td>...</td>\n",
              "      <td>...</td>\n",
              "      <td>...</td>\n",
              "      <td>...</td>\n",
              "      <td>...</td>\n",
              "      <td>...</td>\n",
              "      <td>...</td>\n",
              "      <td>...</td>\n",
              "      <td>...</td>\n",
              "      <td>...</td>\n",
              "      <td>...</td>\n",
              "      <td>...</td>\n",
              "      <td>...</td>\n",
              "      <td>...</td>\n",
              "      <td>...</td>\n",
              "      <td>...</td>\n",
              "      <td>...</td>\n",
              "      <td>...</td>\n",
              "    </tr>\n",
              "    <tr>\n",
              "      <th>15921</th>\n",
              "      <td>J. Lundstram</td>\n",
              "      <td>19</td>\n",
              "      <td>47</td>\n",
              "      <td>1000</td>\n",
              "      <td>Right</td>\n",
              "      <td>1.0</td>\n",
              "      <td>2.0</td>\n",
              "      <td>2.0</td>\n",
              "      <td>44.0</td>\n",
              "      <td>44.0</td>\n",
              "      <td>...</td>\n",
              "      <td>38.0</td>\n",
              "      <td>46.0</td>\n",
              "      <td>46.0</td>\n",
              "      <td>39.0</td>\n",
              "      <td>52.0</td>\n",
              "      <td>43.0</td>\n",
              "      <td>45.0</td>\n",
              "      <td>40.0</td>\n",
              "      <td>48.0</td>\n",
              "      <td>47.0</td>\n",
              "    </tr>\n",
              "    <tr>\n",
              "      <th>15922</th>\n",
              "      <td>N. Christoffersson</td>\n",
              "      <td>19</td>\n",
              "      <td>47</td>\n",
              "      <td>1000</td>\n",
              "      <td>Right</td>\n",
              "      <td>1.0</td>\n",
              "      <td>2.0</td>\n",
              "      <td>2.0</td>\n",
              "      <td>47.0</td>\n",
              "      <td>47.0</td>\n",
              "      <td>...</td>\n",
              "      <td>42.0</td>\n",
              "      <td>47.0</td>\n",
              "      <td>16.0</td>\n",
              "      <td>46.0</td>\n",
              "      <td>33.0</td>\n",
              "      <td>43.0</td>\n",
              "      <td>42.0</td>\n",
              "      <td>22.0</td>\n",
              "      <td>15.0</td>\n",
              "      <td>19.0</td>\n",
              "    </tr>\n",
              "    <tr>\n",
              "      <th>15923</th>\n",
              "      <td>B. Worman</td>\n",
              "      <td>16</td>\n",
              "      <td>47</td>\n",
              "      <td>1000</td>\n",
              "      <td>Right</td>\n",
              "      <td>1.0</td>\n",
              "      <td>3.0</td>\n",
              "      <td>2.0</td>\n",
              "      <td>47.0</td>\n",
              "      <td>47.0</td>\n",
              "      <td>...</td>\n",
              "      <td>45.0</td>\n",
              "      <td>32.0</td>\n",
              "      <td>15.0</td>\n",
              "      <td>48.0</td>\n",
              "      <td>43.0</td>\n",
              "      <td>55.0</td>\n",
              "      <td>41.0</td>\n",
              "      <td>32.0</td>\n",
              "      <td>13.0</td>\n",
              "      <td>11.0</td>\n",
              "    </tr>\n",
              "    <tr>\n",
              "      <th>15924</th>\n",
              "      <td>D. Walker-Rice</td>\n",
              "      <td>17</td>\n",
              "      <td>47</td>\n",
              "      <td>1000</td>\n",
              "      <td>Right</td>\n",
              "      <td>1.0</td>\n",
              "      <td>3.0</td>\n",
              "      <td>2.0</td>\n",
              "      <td>49.0</td>\n",
              "      <td>49.0</td>\n",
              "      <td>...</td>\n",
              "      <td>34.0</td>\n",
              "      <td>33.0</td>\n",
              "      <td>22.0</td>\n",
              "      <td>44.0</td>\n",
              "      <td>47.0</td>\n",
              "      <td>50.0</td>\n",
              "      <td>46.0</td>\n",
              "      <td>20.0</td>\n",
              "      <td>25.0</td>\n",
              "      <td>27.0</td>\n",
              "    </tr>\n",
              "    <tr>\n",
              "      <th>15925</th>\n",
              "      <td>G. Nugent</td>\n",
              "      <td>16</td>\n",
              "      <td>46</td>\n",
              "      <td>1000</td>\n",
              "      <td>Right</td>\n",
              "      <td>1.0</td>\n",
              "      <td>3.0</td>\n",
              "      <td>2.0</td>\n",
              "      <td>45.0</td>\n",
              "      <td>45.0</td>\n",
              "      <td>...</td>\n",
              "      <td>32.0</td>\n",
              "      <td>56.0</td>\n",
              "      <td>42.0</td>\n",
              "      <td>34.0</td>\n",
              "      <td>49.0</td>\n",
              "      <td>33.0</td>\n",
              "      <td>43.0</td>\n",
              "      <td>40.0</td>\n",
              "      <td>43.0</td>\n",
              "      <td>50.0</td>\n",
              "    </tr>\n",
              "  </tbody>\n",
              "</table>\n",
              "<p>15926 rows × 63 columns</p>\n",
              "</div>"
            ],
            "text/plain": [
              "                     Name  Age  Overall    Wage Preferred Foot  \\\n",
              "0                L. Messi   31       94  565000           Left   \n",
              "1       Cristiano Ronaldo   33       94  405000          Right   \n",
              "2               Neymar Jr   26       92  290000          Right   \n",
              "3            K. De Bruyne   27       91  355000          Right   \n",
              "4               E. Hazard   27       91  340000          Right   \n",
              "...                   ...  ...      ...     ...            ...   \n",
              "15921        J. Lundstram   19       47    1000          Right   \n",
              "15922  N. Christoffersson   19       47    1000          Right   \n",
              "15923           B. Worman   16       47    1000          Right   \n",
              "15924      D. Walker-Rice   17       47    1000          Right   \n",
              "15925           G. Nugent   16       46    1000          Right   \n",
              "\n",
              "       International Reputation  Weak Foot  Skill Moves    LS    ST  ...  \\\n",
              "0                           5.0        4.0          4.0  90.0  90.0  ...   \n",
              "1                           5.0        4.0          5.0  94.0  94.0  ...   \n",
              "2                           5.0        5.0          5.0  87.0  87.0  ...   \n",
              "3                           4.0        5.0          4.0  85.0  85.0  ...   \n",
              "4                           4.0        4.0          4.0  86.0  86.0  ...   \n",
              "...                         ...        ...          ...   ...   ...  ...   \n",
              "15921                       1.0        2.0          2.0  44.0  44.0  ...   \n",
              "15922                       1.0        2.0          2.0  47.0  47.0  ...   \n",
              "15923                       1.0        3.0          2.0  47.0  47.0  ...   \n",
              "15924                       1.0        3.0          2.0  49.0  49.0  ...   \n",
              "15925                       1.0        3.0          2.0  45.0  45.0  ...   \n",
              "\n",
              "       LongShots  Aggression  Interceptions  Positioning  Vision  Penalties  \\\n",
              "0           94.0        48.0           22.0         94.0    94.0       75.0   \n",
              "1           93.0        63.0           29.0         95.0    82.0       85.0   \n",
              "2           82.0        56.0           36.0         89.0    87.0       81.0   \n",
              "3           91.0        76.0           61.0         87.0    94.0       79.0   \n",
              "4           80.0        54.0           41.0         87.0    89.0       86.0   \n",
              "...          ...         ...            ...          ...     ...        ...   \n",
              "15921       38.0        46.0           46.0         39.0    52.0       43.0   \n",
              "15922       42.0        47.0           16.0         46.0    33.0       43.0   \n",
              "15923       45.0        32.0           15.0         48.0    43.0       55.0   \n",
              "15924       34.0        33.0           22.0         44.0    47.0       50.0   \n",
              "15925       32.0        56.0           42.0         34.0    49.0       33.0   \n",
              "\n",
              "       Composure  Marking  StandingTackle  SlidingTackle  \n",
              "0           96.0     33.0            28.0           26.0  \n",
              "1           95.0     28.0            31.0           23.0  \n",
              "2           94.0     27.0            24.0           33.0  \n",
              "3           88.0     68.0            58.0           51.0  \n",
              "4           91.0     34.0            27.0           22.0  \n",
              "...          ...      ...             ...            ...  \n",
              "15921       45.0     40.0            48.0           47.0  \n",
              "15922       42.0     22.0            15.0           19.0  \n",
              "15923       41.0     32.0            13.0           11.0  \n",
              "15924       46.0     20.0            25.0           27.0  \n",
              "15925       43.0     40.0            43.0           50.0  \n",
              "\n",
              "[15926 rows x 63 columns]"
            ]
          },
          "execution_count": 5,
          "metadata": {},
          "output_type": "execute_result"
        }
      ],
      "source": [
        "# Carguemos los datos:\n",
        "data = pd.read_csv(\"players.csv\")\n",
        "data"
      ]
    },
    {
      "cell_type": "code",
      "execution_count": 12,
      "metadata": {
        "ExecuteTime": {
          "end_time": "2021-09-18T02:19:01.470616Z",
          "start_time": "2021-09-18T02:19:01.329619Z"
        },
        "id": "7niShVo61jct"
      },
      "outputs": [
        {
          "data": {
            "text/html": [
              "<div>\n",
              "<style scoped>\n",
              "    .dataframe tbody tr th:only-of-type {\n",
              "        vertical-align: middle;\n",
              "    }\n",
              "\n",
              "    .dataframe tbody tr th {\n",
              "        vertical-align: top;\n",
              "    }\n",
              "\n",
              "    .dataframe thead th {\n",
              "        text-align: right;\n",
              "    }\n",
              "</style>\n",
              "<table border=\"1\" class=\"dataframe\">\n",
              "  <thead>\n",
              "    <tr style=\"text-align: right;\">\n",
              "      <th></th>\n",
              "      <th>Age</th>\n",
              "      <th>Overall</th>\n",
              "      <th>Wage</th>\n",
              "      <th>International Reputation</th>\n",
              "      <th>Weak Foot</th>\n",
              "      <th>Skill Moves</th>\n",
              "      <th>LS</th>\n",
              "      <th>ST</th>\n",
              "      <th>RS</th>\n",
              "      <th>LW</th>\n",
              "      <th>...</th>\n",
              "      <th>LongShots</th>\n",
              "      <th>Aggression</th>\n",
              "      <th>Interceptions</th>\n",
              "      <th>Positioning</th>\n",
              "      <th>Vision</th>\n",
              "      <th>Penalties</th>\n",
              "      <th>Composure</th>\n",
              "      <th>Marking</th>\n",
              "      <th>StandingTackle</th>\n",
              "      <th>SlidingTackle</th>\n",
              "    </tr>\n",
              "  </thead>\n",
              "  <tbody>\n",
              "    <tr>\n",
              "      <th>count</th>\n",
              "      <td>15926.000000</td>\n",
              "      <td>15926.000000</td>\n",
              "      <td>15926.000000</td>\n",
              "      <td>15926.000000</td>\n",
              "      <td>15926.000000</td>\n",
              "      <td>15926.000000</td>\n",
              "      <td>15926.000000</td>\n",
              "      <td>15926.000000</td>\n",
              "      <td>15926.000000</td>\n",
              "      <td>15926.000000</td>\n",
              "      <td>...</td>\n",
              "      <td>15926.000000</td>\n",
              "      <td>15926.000000</td>\n",
              "      <td>15926.000000</td>\n",
              "      <td>15926.000000</td>\n",
              "      <td>15926.000000</td>\n",
              "      <td>15926.000000</td>\n",
              "      <td>15926.00000</td>\n",
              "      <td>15926.000000</td>\n",
              "      <td>15926.000000</td>\n",
              "      <td>15926.000000</td>\n",
              "    </tr>\n",
              "    <tr>\n",
              "      <th>mean</th>\n",
              "      <td>24.991209</td>\n",
              "      <td>66.446189</td>\n",
              "      <td>10254.866256</td>\n",
              "      <td>1.116037</td>\n",
              "      <td>3.004081</td>\n",
              "      <td>2.533342</td>\n",
              "      <td>59.842647</td>\n",
              "      <td>59.842647</td>\n",
              "      <td>59.842647</td>\n",
              "      <td>61.066809</td>\n",
              "      <td>...</td>\n",
              "      <td>51.446126</td>\n",
              "      <td>59.575411</td>\n",
              "      <td>50.401168</td>\n",
              "      <td>54.844405</td>\n",
              "      <td>55.494726</td>\n",
              "      <td>52.118234</td>\n",
              "      <td>60.34654</td>\n",
              "      <td>51.273703</td>\n",
              "      <td>51.883021</td>\n",
              "      <td>49.593118</td>\n",
              "    </tr>\n",
              "    <tr>\n",
              "      <th>std</th>\n",
              "      <td>4.552866</td>\n",
              "      <td>6.809244</td>\n",
              "      <td>22692.769542</td>\n",
              "      <td>0.397762</td>\n",
              "      <td>0.636845</td>\n",
              "      <td>0.618186</td>\n",
              "      <td>9.141407</td>\n",
              "      <td>9.141407</td>\n",
              "      <td>9.141407</td>\n",
              "      <td>9.889102</td>\n",
              "      <td>...</td>\n",
              "      <td>15.718376</td>\n",
              "      <td>14.432944</td>\n",
              "      <td>18.797738</td>\n",
              "      <td>14.665434</td>\n",
              "      <td>12.897478</td>\n",
              "      <td>12.501841</td>\n",
              "      <td>10.14202</td>\n",
              "      <td>17.198926</td>\n",
              "      <td>19.161875</td>\n",
              "      <td>19.162508</td>\n",
              "    </tr>\n",
              "    <tr>\n",
              "      <th>min</th>\n",
              "      <td>16.000000</td>\n",
              "      <td>46.000000</td>\n",
              "      <td>1000.000000</td>\n",
              "      <td>1.000000</td>\n",
              "      <td>1.000000</td>\n",
              "      <td>2.000000</td>\n",
              "      <td>33.000000</td>\n",
              "      <td>33.000000</td>\n",
              "      <td>33.000000</td>\n",
              "      <td>27.000000</td>\n",
              "      <td>...</td>\n",
              "      <td>11.000000</td>\n",
              "      <td>13.000000</td>\n",
              "      <td>10.000000</td>\n",
              "      <td>11.000000</td>\n",
              "      <td>12.000000</td>\n",
              "      <td>12.000000</td>\n",
              "      <td>29.00000</td>\n",
              "      <td>10.000000</td>\n",
              "      <td>10.000000</td>\n",
              "      <td>10.000000</td>\n",
              "    </tr>\n",
              "    <tr>\n",
              "      <th>25%</th>\n",
              "      <td>21.000000</td>\n",
              "      <td>62.000000</td>\n",
              "      <td>1000.000000</td>\n",
              "      <td>1.000000</td>\n",
              "      <td>3.000000</td>\n",
              "      <td>2.000000</td>\n",
              "      <td>54.000000</td>\n",
              "      <td>54.000000</td>\n",
              "      <td>54.000000</td>\n",
              "      <td>55.000000</td>\n",
              "      <td>...</td>\n",
              "      <td>40.000000</td>\n",
              "      <td>50.000000</td>\n",
              "      <td>34.000000</td>\n",
              "      <td>46.000000</td>\n",
              "      <td>47.000000</td>\n",
              "      <td>42.000000</td>\n",
              "      <td>53.00000</td>\n",
              "      <td>37.000000</td>\n",
              "      <td>35.000000</td>\n",
              "      <td>32.000000</td>\n",
              "    </tr>\n",
              "    <tr>\n",
              "      <th>50%</th>\n",
              "      <td>25.000000</td>\n",
              "      <td>66.000000</td>\n",
              "      <td>3000.000000</td>\n",
              "      <td>1.000000</td>\n",
              "      <td>3.000000</td>\n",
              "      <td>2.000000</td>\n",
              "      <td>60.000000</td>\n",
              "      <td>60.000000</td>\n",
              "      <td>60.000000</td>\n",
              "      <td>62.000000</td>\n",
              "      <td>...</td>\n",
              "      <td>54.000000</td>\n",
              "      <td>61.000000</td>\n",
              "      <td>56.000000</td>\n",
              "      <td>57.000000</td>\n",
              "      <td>57.000000</td>\n",
              "      <td>52.000000</td>\n",
              "      <td>61.00000</td>\n",
              "      <td>56.000000</td>\n",
              "      <td>59.000000</td>\n",
              "      <td>56.000000</td>\n",
              "    </tr>\n",
              "    <tr>\n",
              "      <th>75%</th>\n",
              "      <td>28.000000</td>\n",
              "      <td>71.000000</td>\n",
              "      <td>10000.000000</td>\n",
              "      <td>1.000000</td>\n",
              "      <td>3.000000</td>\n",
              "      <td>3.000000</td>\n",
              "      <td>66.000000</td>\n",
              "      <td>66.000000</td>\n",
              "      <td>66.000000</td>\n",
              "      <td>68.000000</td>\n",
              "      <td>...</td>\n",
              "      <td>64.000000</td>\n",
              "      <td>70.000000</td>\n",
              "      <td>65.000000</td>\n",
              "      <td>65.000000</td>\n",
              "      <td>65.000000</td>\n",
              "      <td>61.000000</td>\n",
              "      <td>68.00000</td>\n",
              "      <td>65.000000</td>\n",
              "      <td>67.000000</td>\n",
              "      <td>65.000000</td>\n",
              "    </tr>\n",
              "    <tr>\n",
              "      <th>max</th>\n",
              "      <td>41.000000</td>\n",
              "      <td>94.000000</td>\n",
              "      <td>565000.000000</td>\n",
              "      <td>5.000000</td>\n",
              "      <td>5.000000</td>\n",
              "      <td>5.000000</td>\n",
              "      <td>94.000000</td>\n",
              "      <td>94.000000</td>\n",
              "      <td>94.000000</td>\n",
              "      <td>94.000000</td>\n",
              "      <td>...</td>\n",
              "      <td>94.000000</td>\n",
              "      <td>95.000000</td>\n",
              "      <td>92.000000</td>\n",
              "      <td>95.000000</td>\n",
              "      <td>94.000000</td>\n",
              "      <td>92.000000</td>\n",
              "      <td>96.00000</td>\n",
              "      <td>94.000000</td>\n",
              "      <td>93.000000</td>\n",
              "      <td>91.000000</td>\n",
              "    </tr>\n",
              "  </tbody>\n",
              "</table>\n",
              "<p>8 rows × 61 columns</p>\n",
              "</div>"
            ],
            "text/plain": [
              "                Age       Overall           Wage  International Reputation  \\\n",
              "count  15926.000000  15926.000000   15926.000000              15926.000000   \n",
              "mean      24.991209     66.446189   10254.866256                  1.116037   \n",
              "std        4.552866      6.809244   22692.769542                  0.397762   \n",
              "min       16.000000     46.000000    1000.000000                  1.000000   \n",
              "25%       21.000000     62.000000    1000.000000                  1.000000   \n",
              "50%       25.000000     66.000000    3000.000000                  1.000000   \n",
              "75%       28.000000     71.000000   10000.000000                  1.000000   \n",
              "max       41.000000     94.000000  565000.000000                  5.000000   \n",
              "\n",
              "          Weak Foot   Skill Moves            LS            ST            RS  \\\n",
              "count  15926.000000  15926.000000  15926.000000  15926.000000  15926.000000   \n",
              "mean       3.004081      2.533342     59.842647     59.842647     59.842647   \n",
              "std        0.636845      0.618186      9.141407      9.141407      9.141407   \n",
              "min        1.000000      2.000000     33.000000     33.000000     33.000000   \n",
              "25%        3.000000      2.000000     54.000000     54.000000     54.000000   \n",
              "50%        3.000000      2.000000     60.000000     60.000000     60.000000   \n",
              "75%        3.000000      3.000000     66.000000     66.000000     66.000000   \n",
              "max        5.000000      5.000000     94.000000     94.000000     94.000000   \n",
              "\n",
              "                 LW  ...     LongShots    Aggression  Interceptions  \\\n",
              "count  15926.000000  ...  15926.000000  15926.000000   15926.000000   \n",
              "mean      61.066809  ...     51.446126     59.575411      50.401168   \n",
              "std        9.889102  ...     15.718376     14.432944      18.797738   \n",
              "min       27.000000  ...     11.000000     13.000000      10.000000   \n",
              "25%       55.000000  ...     40.000000     50.000000      34.000000   \n",
              "50%       62.000000  ...     54.000000     61.000000      56.000000   \n",
              "75%       68.000000  ...     64.000000     70.000000      65.000000   \n",
              "max       94.000000  ...     94.000000     95.000000      92.000000   \n",
              "\n",
              "        Positioning        Vision     Penalties    Composure       Marking  \\\n",
              "count  15926.000000  15926.000000  15926.000000  15926.00000  15926.000000   \n",
              "mean      54.844405     55.494726     52.118234     60.34654     51.273703   \n",
              "std       14.665434     12.897478     12.501841     10.14202     17.198926   \n",
              "min       11.000000     12.000000     12.000000     29.00000     10.000000   \n",
              "25%       46.000000     47.000000     42.000000     53.00000     37.000000   \n",
              "50%       57.000000     57.000000     52.000000     61.00000     56.000000   \n",
              "75%       65.000000     65.000000     61.000000     68.00000     65.000000   \n",
              "max       95.000000     94.000000     92.000000     96.00000     94.000000   \n",
              "\n",
              "       StandingTackle  SlidingTackle  \n",
              "count    15926.000000   15926.000000  \n",
              "mean        51.883021      49.593118  \n",
              "std         19.161875      19.162508  \n",
              "min         10.000000      10.000000  \n",
              "25%         35.000000      32.000000  \n",
              "50%         59.000000      56.000000  \n",
              "75%         67.000000      65.000000  \n",
              "max         93.000000      91.000000  \n",
              "\n",
              "[8 rows x 61 columns]"
            ]
          },
          "execution_count": 12,
          "metadata": {},
          "output_type": "execute_result"
        }
      ],
      "source": [
        "# Veamos la descripción del dataset:\n",
        "data.describe()"
      ]
    },
    {
      "cell_type": "code",
      "execution_count": 7,
      "metadata": {
        "id": "c443TTgd2dMf"
      },
      "outputs": [],
      "source": [
        "# Veamos la distribución de las columnas\n",
        "### CÓDIGO AQUÍ ###"
      ]
    },
    {
      "cell_type": "code",
      "execution_count": 8,
      "metadata": {
        "ExecuteTime": {
          "end_time": "2021-09-18T02:20:30.809890Z",
          "start_time": "2021-09-18T02:20:30.800892Z"
        },
        "colab": {
          "base_uri": "https://localhost:8080/"
        },
        "id": "mXzW10Ll1jcu",
        "outputId": "63c3e87a-4af1-451a-cc8c-0a785bf157fe"
      },
      "outputs": [],
      "source": [
        "# Obtengamos la distribución de valores de la variable `Preferred Foot`:\n",
        "# tip: pandas function value_counts()\n",
        "### CÓDIGO AQUÍ ###"
      ]
    },
    {
      "cell_type": "code",
      "execution_count": 9,
      "metadata": {
        "ExecuteTime": {
          "end_time": "2021-09-18T02:23:05.619098Z",
          "start_time": "2021-09-18T02:23:05.582096Z"
        },
        "id": "C29qrRGm1jcu"
      },
      "outputs": [],
      "source": [
        "# Dado que esta columna es categorica, debemos incluir en el Pipeline su transformación. Utilizaremos\n",
        "# codificación binaria\n",
        "# tip: scikit-learn BinaryEncoder -> Igual funcionamiento a OrdinalEncoder"
      ]
    },
    {
      "cell_type": "markdown",
      "metadata": {
        "id": "gY8naq0L1jcv"
      },
      "source": [
        "## Regresión\n"
      ]
    },
    {
      "cell_type": "markdown",
      "metadata": {
        "ExecuteTime": {
          "end_time": "2021-03-11T04:51:55.093741Z",
          "start_time": "2021-03-11T04:51:55.091740Z"
        },
        "id": "6DpUR5sT1jcw"
      },
      "source": [
        "**Nota:** Dejaremos la coulmna `Name` en el datafrme para poder identificar a los jugadores, pero **la debemos excluir** al definir las variables `X_train`, `y_train`, `X_val`, `y_val`, `X_test`, and `y_test`.\n"
      ]
    },
    {
      "cell_type": "code",
      "execution_count": 10,
      "metadata": {
        "ExecuteTime": {
          "end_time": "2021-09-18T03:12:15.355010Z",
          "start_time": "2021-09-18T03:12:15.335012Z"
        },
        "id": "lwUBO0Mu1jcw"
      },
      "outputs": [],
      "source": [
        "# Separemos los datos en conjuntos de entrenamiento (80 %) y prueba (20 %):\n",
        "### CÓDIGO AQUÍ ###"
      ]
    },
    {
      "cell_type": "code",
      "execution_count": 11,
      "metadata": {
        "id": "rYY2fNdH4JRY"
      },
      "outputs": [
        {
          "ename": "SyntaxError",
          "evalue": "invalid syntax (3136161557.py, line 5)",
          "output_type": "error",
          "traceback": [
            "\u001b[0;36m  Cell \u001b[0;32mIn[11], line 5\u001b[0;36m\u001b[0m\n\u001b[0;31m    categorical_transformer = ### CÓDICO AQUÍ###\u001b[0m\n\u001b[0m                              ^\u001b[0m\n\u001b[0;31mSyntaxError\u001b[0m\u001b[0;31m:\u001b[0m invalid syntax\n"
          ]
        }
      ],
      "source": [
        "#Definimos las transformaciones\n",
        "cat_cols = X_train.select_dtypes(include=object).columns\n",
        "num_cols = X_train.select_dtypes(include=np.number).columns\n",
        "\n",
        "categorical_transformer = ### CÓDICO AQUÍ###\n",
        "numerical_transformer = 'passthrough'\n",
        "\n",
        "preprocessor = ### CÓDIGO AQUÍ ###\n",
        "\n",
        "#Definimos nuestro regresor\n",
        "rf_base = RandomForestRegressor(random_state=random_state)\n",
        "gb_base = GradientBoostingRegressor(random_state=random_state)\n",
        "\n",
        "#Definimos los pipelines\n",
        "pipeline_rf = ### CÓDIGO AQUÍ ###\n",
        "pipeline_gb = ### CÓDIGO AQUÍ ###\n",
        "\n",
        "# Definamos la malla de parámetros sobre la que haremos la búsqueda:\n",
        "param_grid = ### CÓDIGO AQUÍ ###\n",
        "\n",
        "# Definamos nuestros modelo mediante GridSearchCV:\n",
        "rf = GridSearchCV(pipeline_rf, cv=3, param_grid=param_grid)\n",
        "gb = GridSearchCV(pipeline_gb, cv=3, param_grid=param_grid)"
      ]
    },
    {
      "cell_type": "code",
      "execution_count": null,
      "metadata": {
        "id": "m9RqB8WK5DNi"
      },
      "outputs": [],
      "source": [
        "%%time\n",
        "# Entrenemos el random forest:\n",
        "rf.fit(X_train, y_train)\n",
        "# Entrenemos el gradient boosting:\n",
        "gb.fit(X_train, y_train)"
      ]
    },
    {
      "cell_type": "code",
      "execution_count": null,
      "metadata": {
        "ExecuteTime": {
          "end_time": "2021-09-18T03:54:08.785030Z",
          "start_time": "2021-09-18T03:54:08.773030Z"
        },
        "id": "21PznuEd1jcw"
      },
      "outputs": [],
      "source": [
        "print(rf.best_params_)\n",
        "print(gb.best_params_)"
      ]
    },
    {
      "cell_type": "code",
      "execution_count": null,
      "metadata": {
        "id": "JUWh_1e25LtF"
      },
      "outputs": [],
      "source": [
        "# Obtengamos el R^2 y el MAE de entrenamiento para cada modelo:\n",
        "print(\"Train set\")\n",
        "for model in (rf, gb):\n",
        "    print(f\"Model: {'Random Forest' if model == rf else 'Gradient Boosting'}\")\n",
        "    print(f\"R^2: {model.score(X_train, y_train)}\")\n",
        "    print(f\"MAE: {mean_absolute_error(y_train, model.predict(X_train))}\")\n",
        "    print(\"\\n\")\n",
        "\n",
        "print(\"Test set\")\n",
        "for model in (rf, gb):\n",
        "    print(f\"Model: {'Random Forest' if model == rf else 'Gradient Boosting'}\")\n",
        "    print(f\"R^2: {model.score(X_test, y_test)}\")\n",
        "    print(f\"MAE: {mean_absolute_error(y_test, model.predict(X_test))}\")\n",
        "    print(\"\\n\")"
      ]
    },
    {
      "cell_type": "code",
      "execution_count": null,
      "metadata": {
        "id": "p6rkh78DMfgv"
      },
      "outputs": [],
      "source": [
        "# Veamos los datos junto con las predicciones:\n",
        "pd.concat(\n",
        "    [\n",
        "        data.drop(columns=\"Wage\").reset_index(drop=True),\n",
        "        data[\"Wage\"].reset_index(drop=True),\n",
        "        pd.DataFrame(\n",
        "            {\"rf_predicted_wage\": rf.predict(data.drop(columns=[\"Name\", \"Wage\"]))}\n",
        "        ),\n",
        "        pd.DataFrame(\n",
        "            {\"gb_predicted_wage\": gb.predict(data.drop(columns=[\"Name\", \"Wage\"]))}\n",
        "        ),\n",
        "    ],\n",
        "    axis=1,\n",
        ")"
      ]
    },
    {
      "cell_type": "code",
      "execution_count": null,
      "metadata": {
        "id": "AzVWdj40Motx"
      },
      "outputs": [],
      "source": []
    },
    {
      "cell_type": "markdown",
      "metadata": {
        "id": "7Vrh4cwD5cs4"
      },
      "source": [
        "Explicabilidad\n"
      ]
    },
    {
      "cell_type": "code",
      "execution_count": null,
      "metadata": {
        "id": "iRcehFQV5cDP"
      },
      "outputs": [],
      "source": [
        "!pip install shap"
      ]
    },
    {
      "cell_type": "code",
      "execution_count": null,
      "metadata": {
        "id": "o7CPOrhT5gz3"
      },
      "outputs": [],
      "source": [
        "import shap\n",
        "from IPython.display import HTML"
      ]
    },
    {
      "cell_type": "code",
      "execution_count": null,
      "metadata": {
        "id": "XQU-Fhns5jQ7"
      },
      "outputs": [],
      "source": [
        "# Entrenamos nuestro pipeline con los mejores parámetros encontrados en la validación cruzada\n",
        "pipeline_gb.set_params(**gb.best_params_)\n",
        "pipeline_gb.fit(X_train, y_train)"
      ]
    },
    {
      "cell_type": "code",
      "execution_count": null,
      "metadata": {
        "id": "Mxtp14VH5pP4"
      },
      "outputs": [],
      "source": [
        "# Aplicamos el preproceso a los datos\n",
        "X_train_preprocessed = ### CÓDIGO AQUÍ ###\n",
        "X_test_preprocessed = ### CÓDIGO AQUÍ ###"
      ]
    },
    {
      "cell_type": "code",
      "execution_count": null,
      "metadata": {
        "id": "b6w7FkHcL4so"
      },
      "outputs": [],
      "source": [
        "# Entrenemos nuestro modelo de explicabilidad\n",
        "gb_explainer = ### CÓDIGO AQUÍ ###\n",
        "train_gb_shap_values = ### CÓDIGO AQUÍ ###"
      ]
    },
    {
      "cell_type": "code",
      "execution_count": null,
      "metadata": {
        "id": "ktwm7XzTMzv8"
      },
      "outputs": [],
      "source": [
        "# Summary plot\n",
        "### CÓDIGO AQUÍ ###"
      ]
    },
    {
      "cell_type": "code",
      "execution_count": null,
      "metadata": {
        "id": "zyGO-nBQM_DG"
      },
      "outputs": [],
      "source": [
        "# Grafiquemos los valores SHAP para un ejemplo del conjunto de test\n",
        "### CÓDIGO AQUÍ ###"
      ]
    },
    {
      "cell_type": "code",
      "execution_count": null,
      "metadata": {
        "id": "9OSkWrMiNMKl"
      },
      "outputs": [],
      "source": [
        "# Grafiquemos la dependencia de los valores SHAP con la variable \"Age\""
      ]
    }
  ],
  "metadata": {
    "colab": {
      "include_colab_link": true,
      "provenance": []
    },
    "kernelspec": {
      "display_name": "MachineLearning-45il43AM",
      "language": "python",
      "name": "python3"
    },
    "language_info": {
      "codemirror_mode": {
        "name": "ipython",
        "version": 3
      },
      "file_extension": ".py",
      "mimetype": "text/x-python",
      "name": "python",
      "nbconvert_exporter": "python",
      "pygments_lexer": "ipython3",
      "version": "3.11.5"
    },
    "varInspector": {
      "cols": {
        "lenName": 16,
        "lenType": 16,
        "lenVar": 40
      },
      "kernels_config": {
        "python": {
          "delete_cmd_postfix": "",
          "delete_cmd_prefix": "del ",
          "library": "var_list.py",
          "varRefreshCmd": "print(var_dic_list())"
        },
        "r": {
          "delete_cmd_postfix": ") ",
          "delete_cmd_prefix": "rm(",
          "library": "var_list.r",
          "varRefreshCmd": "cat(var_dic_list()) "
        }
      },
      "types_to_exclude": [
        "module",
        "function",
        "builtin_function_or_method",
        "instance",
        "_Feature"
      ],
      "window_display": false
    }
  },
  "nbformat": 4,
  "nbformat_minor": 0
}
